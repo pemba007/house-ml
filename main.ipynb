{
  "nbformat": 4,
  "nbformat_minor": 0,
  "metadata": {
    "colab": {
      "name": "main.ipynb",
      "provenance": [],
      "authorship_tag": "ABX9TyMk+urpK3gHuyxNfPifYuTj",
      "include_colab_link": true
    },
    "kernelspec": {
      "name": "python3",
      "display_name": "Python 3"
    },
    "language_info": {
      "name": "python"
    }
  },
  "cells": [
    {
      "cell_type": "markdown",
      "metadata": {
        "id": "view-in-github",
        "colab_type": "text"
      },
      "source": [
        "<a href=\"https://colab.research.google.com/github/pemba007/house-ml/blob/main/main.ipynb\" target=\"_parent\"><img src=\"https://colab.research.google.com/assets/colab-badge.svg\" alt=\"Open In Colab\"/></a>"
      ]
    },
    {
      "cell_type": "code",
      "source": [
        "!pip install imbalanced-learn\n",
        "!pip install xgboost"
      ],
      "metadata": {
        "colab": {
          "base_uri": "https://localhost:8080/"
        },
        "id": "TjtV0c_uqrq2",
        "outputId": "f21723b1-1da7-4df9-bc40-76d325bf3b96"
      },
      "execution_count": 30,
      "outputs": [
        {
          "output_type": "stream",
          "name": "stdout",
          "text": [
            "Requirement already satisfied: imbalanced-learn in /usr/local/lib/python3.7/dist-packages (0.8.1)\n",
            "Requirement already satisfied: scikit-learn>=0.24 in /usr/local/lib/python3.7/dist-packages (from imbalanced-learn) (1.0.2)\n",
            "Requirement already satisfied: joblib>=0.11 in /usr/local/lib/python3.7/dist-packages (from imbalanced-learn) (1.1.0)\n",
            "Requirement already satisfied: numpy>=1.13.3 in /usr/local/lib/python3.7/dist-packages (from imbalanced-learn) (1.21.6)\n",
            "Requirement already satisfied: scipy>=0.19.1 in /usr/local/lib/python3.7/dist-packages (from imbalanced-learn) (1.4.1)\n",
            "Requirement already satisfied: threadpoolctl>=2.0.0 in /usr/local/lib/python3.7/dist-packages (from scikit-learn>=0.24->imbalanced-learn) (3.1.0)\n",
            "Requirement already satisfied: xgboost in /usr/local/lib/python3.7/dist-packages (0.90)\n",
            "Requirement already satisfied: numpy in /usr/local/lib/python3.7/dist-packages (from xgboost) (1.21.6)\n",
            "Requirement already satisfied: scipy in /usr/local/lib/python3.7/dist-packages (from xgboost) (1.4.1)\n"
          ]
        }
      ]
    },
    {
      "cell_type": "code",
      "source": [
        "# Ignoring the warning\n",
        "import warnings\n",
        "warnings.filterwarnings(\"ignore\")"
      ],
      "metadata": {
        "id": "-RO_IvAf9qG-"
      },
      "execution_count": 31,
      "outputs": []
    },
    {
      "cell_type": "code",
      "execution_count": 32,
      "metadata": {
        "id": "OOMAIjV42H30"
      },
      "outputs": [],
      "source": [
        "# Importing required libaries\n",
        "\n",
        "# Data handling libraries\n",
        "import pandas as pd\n",
        "import numpy as np\n",
        "\n",
        "# Data Visualization libraries\n",
        "import matplotlib.pyplot as plt\n",
        "import seaborn as sns"
      ]
    },
    {
      "cell_type": "code",
      "source": [
        "# Reading the dataset\n",
        "df = pd.read_csv('creditcard.csv')"
      ],
      "metadata": {
        "id": "bIeFd5Ic37H8"
      },
      "execution_count": 33,
      "outputs": []
    },
    {
      "cell_type": "code",
      "source": [
        "df.shape"
      ],
      "metadata": {
        "colab": {
          "base_uri": "https://localhost:8080/"
        },
        "id": "_mvAAgbqnxyB",
        "outputId": "2ed69e28-1150-41a0-c755-fc60d209e73d"
      },
      "execution_count": 34,
      "outputs": [
        {
          "output_type": "execute_result",
          "data": {
            "text/plain": [
              "(284807, 31)"
            ]
          },
          "metadata": {},
          "execution_count": 34
        }
      ]
    },
    {
      "cell_type": "code",
      "source": [
        "# Separating the target variable\n",
        "y = df['Class']\n",
        "df.drop(columns=['Class'], inplace = True)"
      ],
      "metadata": {
        "id": "f50NN8fFDvNq"
      },
      "execution_count": 35,
      "outputs": []
    },
    {
      "cell_type": "markdown",
      "source": [
        "# Exploraratory Data Analysis(EDA)"
      ],
      "metadata": {
        "id": "4xADz9kJ86yz"
      }
    },
    {
      "cell_type": "code",
      "source": [
        "df.isnull().sum()"
      ],
      "metadata": {
        "colab": {
          "base_uri": "https://localhost:8080/"
        },
        "id": "y4iQEf0h86Wj",
        "outputId": "04211b82-7bef-4aa7-9953-1e65abea0d2d"
      },
      "execution_count": 36,
      "outputs": [
        {
          "output_type": "execute_result",
          "data": {
            "text/plain": [
              "Time      0\n",
              "V1        0\n",
              "V2        0\n",
              "V3        0\n",
              "V4        0\n",
              "V5        0\n",
              "V6        0\n",
              "V7        0\n",
              "V8        0\n",
              "V9        0\n",
              "V10       0\n",
              "V11       0\n",
              "V12       0\n",
              "V13       0\n",
              "V14       0\n",
              "V15       0\n",
              "V16       0\n",
              "V17       0\n",
              "V18       0\n",
              "V19       0\n",
              "V20       0\n",
              "V21       0\n",
              "V22       0\n",
              "V23       0\n",
              "V24       0\n",
              "V25       0\n",
              "V26       0\n",
              "V27       0\n",
              "V28       0\n",
              "Amount    0\n",
              "dtype: int64"
            ]
          },
          "metadata": {},
          "execution_count": 36
        }
      ]
    },
    {
      "cell_type": "code",
      "source": [
        "# Checking the distribution for target variable\n",
        "count_classes = pd.value_counts(y, sort = True).sort_index()\n",
        "count_classes.plot(kind = 'bar')\n",
        "plt.title(\"Fraud class histogram\")\n",
        "plt.xlabel(\"Class\")\n",
        "plt.ylabel(\"Frequency\")"
      ],
      "metadata": {
        "colab": {
          "base_uri": "https://localhost:8080/",
          "height": 342
        },
        "id": "mUqM3Dqb9Hr6",
        "outputId": "a8abae8e-df89-4ede-dc59-bd60ecca5c25"
      },
      "execution_count": 37,
      "outputs": [
        {
          "output_type": "execute_result",
          "data": {
            "text/plain": [
              "Text(0, 0.5, 'Frequency')"
            ]
          },
          "metadata": {},
          "execution_count": 37
        },
        {
          "output_type": "display_data",
          "data": {
            "text/plain": [
              "<Figure size 432x288 with 1 Axes>"
            ],
            "image/png": "[encoded data removed]"
          },
          "metadata": {}
        }
      ]
    },
    {
      "cell_type": "markdown",
      "source": [
        "Here we find data imbalance between different number of records between the fraudulent and non-fraudulent records. "
      ],
      "metadata": {
        "id": "Ticsho4NGL9i"
      }
    },
    {
      "cell_type": "code",
      "source": [
        "# # Undersampling\n",
        "from imblearn.under_sampling import RandomUnderSampler\n",
        "from collections import Counter\n",
        "\n",
        "print(\"Before sampling y:\", Counter(y))\n",
        "undersample = RandomUnderSampler(sampling_strategy='majority')\n",
        "# fit and apply the transform\n",
        "df, y = undersample.fit_resample(df, y)\n",
        "print(\"After sampling y:\", Counter(y))"
      ],
      "metadata": {
        "colab": {
          "base_uri": "https://localhost:8080/"
        },
        "id": "qMTY24d1q23a",
        "outputId": "a93442fc-e9d1-4489-a0eb-466e4314e8a4"
      },
      "execution_count": 38,
      "outputs": [
        {
          "output_type": "stream",
          "name": "stdout",
          "text": [
            "Before sampling y: Counter({0: 284315, 1: 492})\n",
            "After sampling y: Counter({0: 492, 1: 492})\n"
          ]
        }
      ]
    },
    {
      "cell_type": "code",
      "source": [
        "# # Oversampling\n",
        "# from imblearn.over_sampling import RandomOverSampler\n",
        "\n",
        "# oversample = RandomOverSampler()\n",
        "# print(\"Before sampling y:\", Counter(y))\n",
        "# # fit and apply the transform\n",
        "# df, y = oversample.fit_resample(df, y)\n",
        "# print(\"After sampling y:\", Counter(y))"
      ],
      "metadata": {
        "id": "IX4RaXTpGXIy"
      },
      "execution_count": 39,
      "outputs": []
    },
    {
      "cell_type": "code",
      "source": [
        "# Checking the distribution for target variable\n",
        "count_classes = pd.value_counts(y, sort = True).sort_index()\n",
        "count_classes.plot(kind = 'bar')\n",
        "plt.title(\"Fraud class histogram\")\n",
        "plt.xlabel(\"Class\")\n",
        "plt.ylabel(\"Frequency\")"
      ],
      "metadata": {
        "colab": {
          "base_uri": "https://localhost:8080/",
          "height": 342
        },
        "id": "4x4zXm7MrflO",
        "outputId": "36750dd0-e5e7-4cd9-9ef7-c2a74f439bb4"
      },
      "execution_count": 40,
      "outputs": [
        {
          "output_type": "execute_result",
          "data": {
            "text/plain": [
              "Text(0, 0.5, 'Frequency')"
            ]
          },
          "metadata": {},
          "execution_count": 40
        },
        {
          "output_type": "display_data",
          "data": {
            "text/plain": [
              "<Figure size 432x288 with 1 Axes>"
            ],
            "image/png": "[encoded data removed]"
          },
          "metadata": {}
        }
      ]
    },
    {
      "cell_type": "markdown",
      "source": [
        "## Checking distributions"
      ],
      "metadata": {
        "id": "q_0ARcY39YXc"
      }
    },
    {
      "cell_type": "code",
      "source": [
        "df.describe()"
      ],
      "metadata": {
        "colab": {
          "base_uri": "https://localhost:8080/",
          "height": 394
        },
        "id": "vFkJVeo5-E_5",
        "outputId": "2b0c51ad-b2f9-4578-95c1-b2809f914747"
      },
      "execution_count": 41,
      "outputs": [
        {
          "output_type": "execute_result",
          "data": {
            "text/plain": [
              "               Time          V1          V2          V3          V4  \\\n",
              "count     984.00000  984.000000  984.000000  984.000000  984.000000   \n",
              "mean    87361.15752   -2.327436    1.824364   -3.513251    2.309391   \n",
              "std     48031.33838    5.532335    3.633803    6.214910    3.156824   \n",
              "min       406.00000  -30.552380   -9.554655  -31.103685   -3.587216   \n",
              "25%     44754.75000   -2.865037   -0.194877   -5.113334   -0.006134   \n",
              "50%     79385.50000   -0.754627    0.936346   -1.372153    1.315090   \n",
              "75%    134118.75000    1.036985    2.793742    0.316300    4.230724   \n",
              "max    172488.00000    2.308733   22.057729    3.220148   12.114672   \n",
              "\n",
              "               V5          V6          V7          V8          V9  ...  \\\n",
              "count  984.000000  984.000000  984.000000  984.000000  984.000000  ...   \n",
              "mean    -1.554406   -0.687471   -2.789512    0.306683   -1.262774  ...   \n",
              "std      4.192777    1.746762    5.838345    4.849905    2.320530  ...   \n",
              "min    -22.105532   -6.406267  -43.557242  -41.044261  -13.434066  ...   \n",
              "25%     -1.746514   -1.582428   -3.066415   -0.215690   -2.294075  ...   \n",
              "50%     -0.424141   -0.637816   -0.670128    0.158577   -0.665517  ...   \n",
              "75%      0.509261    0.094818    0.237468    0.877002    0.193470  ...   \n",
              "max     11.095089    6.474115    5.802537   20.007208    5.099522  ...   \n",
              "\n",
              "              V20         V21         V22         V23         V24         V25  \\\n",
              "count  984.000000  984.000000  984.000000  984.000000  984.000000  984.000000   \n",
              "mean     0.178150    0.353051   -0.010996   -0.014747   -0.057044    0.008189   \n",
              "std      1.058315    2.797615    1.161411    1.148361    0.579840    0.657788   \n",
              "min     -7.642808  -22.797604   -8.887017  -19.254328   -2.028024   -4.781606   \n",
              "25%     -0.194764   -0.166607   -0.520341   -0.226319   -0.399055   -0.317168   \n",
              "50%      0.023113    0.142305   -0.002271   -0.030715   -0.001706    0.029540   \n",
              "75%      0.444010    0.647478    0.544074    0.188975    0.360319    0.377280   \n",
              "max     11.059004   27.202839    8.361985    5.466230    3.101012    2.208209   \n",
              "\n",
              "              V26         V27         V28       Amount  \n",
              "count  984.000000  984.000000  984.000000   984.000000  \n",
              "mean     0.034716    0.081883    0.022161    99.306138  \n",
              "std      0.476785    1.014045    0.499127   210.653743  \n",
              "min     -1.235358   -7.263482   -8.307955     0.000000  \n",
              "25%     -0.282458   -0.064104   -0.058243     1.180000  \n",
              "50%     -0.007291    0.040192    0.033276    16.990000  \n",
              "75%      0.337588    0.454884    0.209627    99.990000  \n",
              "max      2.745261    4.610936    1.779364  2125.870000  \n",
              "\n",
              "[8 rows x 30 columns]"
            ],
            "text/html": [
              "\n",
              "  <div id=\"df-16fa3bee-ed94-43f2-8f9d-e17d7ce38096\">\n",
              "    <div class=\"colab-df-container\">\n",
              "      <div>\n",
              "<style scoped>\n",
              "    .dataframe tbody tr th:only-of-type {\n",
              "        vertical-align: middle;\n",
              "    }\n",
              "\n",
              "    .dataframe tbody tr th {\n",
              "        vertical-align: top;\n",
              "    }\n",
              "\n",
              "    .dataframe thead th {\n",
              "        text-align: right;\n",
              "    }\n",
              "</style>\n",
              "<table border=\"1\" class=\"dataframe\">\n",
              "  <thead>\n",
              "    <tr style=\"text-align: right;\">\n",
              "      <th></th>\n",
              "      <th>Time</th>\n",
              "      <th>V1</th>\n",
              "      <th>V2</th>\n",
              "      <th>V3</th>\n",
              "      <th>V4</th>\n",
              "      <th>V5</th>\n",
              "      <th>V6</th>\n",
              "      <th>V7</th>\n",
              "      <th>V8</th>\n",
              "      <th>V9</th>\n",
              "      <th>...</th>\n",
              "      <th>V20</th>\n",
              "      <th>V21</th>\n",
              "      <th>V22</th>\n",
              "      <th>V23</th>\n",
              "      <th>V24</th>\n",
              "      <th>V25</th>\n",
              "      <th>V26</th>\n",
              "      <th>V27</th>\n",
              "      <th>V28</th>\n",
              "      <th>Amount</th>\n",
              "    </tr>\n",
              "  </thead>\n",
              "  <tbody>\n",
              "    <tr>\n",
              "      <th>count</th>\n",
              "      <td>984.00000</td>\n",
              "      <td>984.000000</td>\n",
              "      <td>984.000000</td>\n",
              "      <td>984.000000</td>\n",
              "      <td>984.000000</td>\n",
              "      <td>984.000000</td>\n",
              "      <td>984.000000</td>\n",
              "      <td>984.000000</td>\n",
              "      <td>984.000000</td>\n",
              "      <td>984.000000</td>\n",
              "      <td>...</td>\n",
              "      <td>984.000000</td>\n",
              "      <td>984.000000</td>\n",
              "      <td>984.000000</td>\n",
              "      <td>984.000000</td>\n",
              "      <td>984.000000</td>\n",
              "      <td>984.000000</td>\n",
              "      <td>984.000000</td>\n",
              "      <td>984.000000</td>\n",
              "      <td>984.000000</td>\n",
              "      <td>984.000000</td>\n",
              "    </tr>\n",
              "    <tr>\n",
              "      <th>mean</th>\n",
              "      <td>87361.15752</td>\n",
              "      <td>-2.327436</td>\n",
              "      <td>1.824364</td>\n",
              "      <td>-3.513251</td>\n",
              "      <td>2.309391</td>\n",
              "      <td>-1.554406</td>\n",
              "      <td>-0.687471</td>\n",
              "      <td>-2.789512</td>\n",
              "      <td>0.306683</td>\n",
              "      <td>-1.262774</td>\n",
              "      <td>...</td>\n",
              "      <td>0.178150</td>\n",
              "      <td>0.353051</td>\n",
              "      <td>-0.010996</td>\n",
              "      <td>-0.014747</td>\n",
              "      <td>-0.057044</td>\n",
              "      <td>0.008189</td>\n",
              "      <td>0.034716</td>\n",
              "      <td>0.081883</td>\n",
              "      <td>0.022161</td>\n",
              "      <td>99.306138</td>\n",
              "    </tr>\n",
              "    <tr>\n",
              "      <th>std</th>\n",
              "      <td>48031.33838</td>\n",
              "      <td>5.532335</td>\n",
              "      <td>3.633803</td>\n",
              "      <td>6.214910</td>\n",
              "      <td>3.156824</td>\n",
              "      <td>4.192777</td>\n",
              "      <td>1.746762</td>\n",
              "      <td>5.838345</td>\n",
              "      <td>4.849905</td>\n",
              "      <td>2.320530</td>\n",
              "      <td>...</td>\n",
              "      <td>1.058315</td>\n",
              "      <td>2.797615</td>\n",
              "      <td>1.161411</td>\n",
              "      <td>1.148361</td>\n",
              "      <td>0.579840</td>\n",
              "      <td>0.657788</td>\n",
              "      <td>0.476785</td>\n",
              "      <td>1.014045</td>\n",
              "      <td>0.499127</td>\n",
              "      <td>210.653743</td>\n",
              "    </tr>\n",
              "    <tr>\n",
              "      <th>min</th>\n",
              "      <td>406.00000</td>\n",
              "      <td>-30.552380</td>\n",
              "      <td>-9.554655</td>\n",
              "      <td>-31.103685</td>\n",
              "      <td>-3.587216</td>\n",
              "      <td>-22.105532</td>\n",
              "      <td>-6.406267</td>\n",
              "      <td>-43.557242</td>\n",
              "      <td>-41.044261</td>\n",
              "      <td>-13.434066</td>\n",
              "      <td>...</td>\n",
              "      <td>-7.642808</td>\n",
              "      <td>-22.797604</td>\n",
              "      <td>-8.887017</td>\n",
              "      <td>-19.254328</td>\n",
              "      <td>-2.028024</td>\n",
              "      <td>-4.781606</td>\n",
              "      <td>-1.235358</td>\n",
              "      <td>-7.263482</td>\n",
              "      <td>-8.307955</td>\n",
              "      <td>0.000000</td>\n",
              "    </tr>\n",
              "    <tr>\n",
              "      <th>25%</th>\n",
              "      <td>44754.75000</td>\n",
              "      <td>-2.865037</td>\n",
              "      <td>-0.194877</td>\n",
              "      <td>-5.113334</td>\n",
              "      <td>-0.006134</td>\n",
              "      <td>-1.746514</td>\n",
              "      <td>-1.582428</td>\n",
              "      <td>-3.066415</td>\n",
              "      <td>-0.215690</td>\n",
              "      <td>-2.294075</td>\n",
              "      <td>...</td>\n",
              "      <td>-0.194764</td>\n",
              "      <td>-0.166607</td>\n",
              "      <td>-0.520341</td>\n",
              "      <td>-0.226319</td>\n",
              "      <td>-0.399055</td>\n",
              "      <td>-0.317168</td>\n",
              "      <td>-0.282458</td>\n",
              "      <td>-0.064104</td>\n",
              "      <td>-0.058243</td>\n",
              "      <td>1.180000</td>\n",
              "    </tr>\n",
              "    <tr>\n",
              "      <th>50%</th>\n",
              "      <td>79385.50000</td>\n",
              "      <td>-0.754627</td>\n",
              "      <td>0.936346</td>\n",
              "      <td>-1.372153</td>\n",
              "      <td>1.315090</td>\n",
              "      <td>-0.424141</td>\n",
              "      <td>-0.637816</td>\n",
              "      <td>-0.670128</td>\n",
              "      <td>0.158577</td>\n",
              "      <td>-0.665517</td>\n",
              "      <td>...</td>\n",
              "      <td>0.023113</td>\n",
              "      <td>0.142305</td>\n",
              "      <td>-0.002271</td>\n",
              "      <td>-0.030715</td>\n",
              "      <td>-0.001706</td>\n",
              "      <td>0.029540</td>\n",
              "      <td>-0.007291</td>\n",
              "      <td>0.040192</td>\n",
              "      <td>0.033276</td>\n",
              "      <td>16.990000</td>\n",
              "    </tr>\n",
              "    <tr>\n",
              "      <th>75%</th>\n",
              "      <td>134118.75000</td>\n",
              "      <td>1.036985</td>\n",
              "      <td>2.793742</td>\n",
              "      <td>0.316300</td>\n",
              "      <td>4.230724</td>\n",
              "      <td>0.509261</td>\n",
              "      <td>0.094818</td>\n",
              "      <td>0.237468</td>\n",
              "      <td>0.877002</td>\n",
              "      <td>0.193470</td>\n",
              "      <td>...</td>\n",
              "      <td>0.444010</td>\n",
              "      <td>0.647478</td>\n",
              "      <td>0.544074</td>\n",
              "      <td>0.188975</td>\n",
              "      <td>0.360319</td>\n",
              "      <td>0.377280</td>\n",
              "      <td>0.337588</td>\n",
              "      <td>0.454884</td>\n",
              "      <td>0.209627</td>\n",
              "      <td>99.990000</td>\n",
              "    </tr>\n",
              "    <tr>\n",
              "      <th>max</th>\n",
              "      <td>172488.00000</td>\n",
              "      <td>2.308733</td>\n",
              "      <td>22.057729</td>\n",
              "      <td>3.220148</td>\n",
              "      <td>12.114672</td>\n",
              "      <td>11.095089</td>\n",
              "      <td>6.474115</td>\n",
              "      <td>5.802537</td>\n",
              "      <td>20.007208</td>\n",
              "      <td>5.099522</td>\n",
              "      <td>...</td>\n",
              "      <td>11.059004</td>\n",
              "      <td>27.202839</td>\n",
              "      <td>8.361985</td>\n",
              "      <td>5.466230</td>\n",
              "      <td>3.101012</td>\n",
              "      <td>2.208209</td>\n",
              "      <td>2.745261</td>\n",
              "      <td>4.610936</td>\n",
              "      <td>1.779364</td>\n",
              "      <td>2125.870000</td>\n",
              "    </tr>\n",
              "  </tbody>\n",
              "</table>\n",
              "<p>8 rows × 30 columns</p>\n",
              "</div>\n",
              "      <button class=\"colab-df-convert\" onclick=\"convertToInteractive('df-16fa3bee-ed94-43f2-8f9d-e17d7ce38096')\"\n",
              "              title=\"Convert this dataframe to an interactive table.\"\n",
              "              style=\"display:none;\">\n",
              "        \n",
              "  <svg xmlns=\"http://www.w3.org/2000/svg\" height=\"24px\"viewBox=\"0 0 24 24\"\n",
              "       width=\"24px\">\n",
              "    <path d=\"M0 0h24v24H0V0z\" fill=\"none\"/>\n",
              "    <path d=\"M18.56 5.44l.94 2.06.94-2.06 2.06-.94-2.06-.94-.94-2.06-.94 2.06-2.06.94zm-11 1L8.5 8.5l.94-2.06 2.06-.94-2.06-.94L8.5 2.5l-.94 2.06-2.06.94zm10 10l.94 2.06.94-2.06 2.06-.94-2.06-.94-.94-2.06-.94 2.06-2.06.94z\"/><path d=\"M17.41 7.96l-1.37-1.37c-.4-.4-.92-.59-1.43-.59-.52 0-1.04.2-1.43.59L10.3 9.45l-7.72 7.72c-.78.78-.78 2.05 0 2.83L4 21.41c.39.39.9.59 1.41.59.51 0 1.02-.2 1.41-.59l7.78-7.78 2.81-2.81c.8-.78.8-2.07 0-2.86zM5.41 20L4 18.59l7.72-7.72 1.47 1.35L5.41 20z\"/>\n",
              "  </svg>\n",
              "      </button>\n",
              "      \n",
              "  <style>\n",
              "    .colab-df-container {\n",
              "      display:flex;\n",
              "      flex-wrap:wrap;\n",
              "      gap: 12px;\n",
              "    }\n",
              "\n",
              "    .colab-df-convert {\n",
              "      background-color: #E8F0FE;\n",
              "      border: none;\n",
              "      border-radius: 50%;\n",
              "      cursor: pointer;\n",
              "      display: none;\n",
              "      fill: #1967D2;\n",
              "      height: 32px;\n",
              "      padding: 0 0 0 0;\n",
              "      width: 32px;\n",
              "    }\n",
              "\n",
              "    .colab-df-convert:hover {\n",
              "      background-color: #E2EBFA;\n",
              "      box-shadow: 0px 1px 2px rgba(60, 64, 67, 0.3), 0px 1px 3px 1px rgba(60, 64, 67, 0.15);\n",
              "      fill: #174EA6;\n",
              "    }\n",
              "\n",
              "    [theme=dark] .colab-df-convert {\n",
              "      background-color: #3B4455;\n",
              "      fill: #D2E3FC;\n",
              "    }\n",
              "\n",
              "    [theme=dark] .colab-df-convert:hover {\n",
              "      background-color: #434B5C;\n",
              "      box-shadow: 0px 1px 3px 1px rgba(0, 0, 0, 0.15);\n",
              "      filter: drop-shadow(0px 1px 2px rgba(0, 0, 0, 0.3));\n",
              "      fill: #FFFFFF;\n",
              "    }\n",
              "  </style>\n",
              "\n",
              "      <script>\n",
              "        const buttonEl =\n",
              "          document.querySelector('#df-16fa3bee-ed94-43f2-8f9d-e17d7ce38096 button.colab-df-convert');\n",
              "        buttonEl.style.display =\n",
              "          google.colab.kernel.accessAllowed ? 'block' : 'none';\n",
              "\n",
              "        async function convertToInteractive(key) {\n",
              "          const element = document.querySelector('#df-16fa3bee-ed94-43f2-8f9d-e17d7ce38096');\n",
              "          const dataTable =\n",
              "            await google.colab.kernel.invokeFunction('convertToInteractive',\n",
              "                                                     [key], {});\n",
              "          if (!dataTable) return;\n",
              "\n",
              "          const docLinkHtml = 'Like what you see? Visit the ' +\n",
              "            '<a target=\"_blank\" href=https://colab.research.google.com/notebooks/data_table.ipynb>data table notebook</a>'\n",
              "            + ' to learn more about interactive tables.';\n",
              "          element.innerHTML = '';\n",
              "          dataTable['output_type'] = 'display_data';\n",
              "          await google.colab.output.renderOutput(dataTable, element);\n",
              "          const docLink = document.createElement('div');\n",
              "          docLink.innerHTML = docLinkHtml;\n",
              "          element.appendChild(docLink);\n",
              "        }\n",
              "      </script>\n",
              "    </div>\n",
              "  </div>\n",
              "  "
            ]
          },
          "metadata": {},
          "execution_count": 41
        }
      ]
    },
    {
      "cell_type": "code",
      "source": [
        "sns.distplot(df['Time'])"
      ],
      "metadata": {
        "colab": {
          "base_uri": "https://localhost:8080/",
          "height": 342
        },
        "id": "rlWXwIxp9Xq5",
        "outputId": "e85962fd-a374-4f3a-8ce4-b4799716fb79"
      },
      "execution_count": 42,
      "outputs": [
        {
          "output_type": "execute_result",
          "data": {
            "text/plain": [
              "<matplotlib.axes._subplots.AxesSubplot at 0x7f242cecdfd0>"
            ]
          },
          "metadata": {},
          "execution_count": 42
        },
        {
          "output_type": "display_data",
          "data": {
            "text/plain": [
              "<Figure size 432x288 with 1 Axes>"
            ],
            "image/png": "[encoded data removed]"
          },
          "metadata": {}
        }
      ]
    },
    {
      "cell_type": "code",
      "source": [
        "# Amount Feature\n",
        "df['Amount'].describe()"
      ],
      "metadata": {
        "colab": {
          "base_uri": "https://localhost:8080/"
        },
        "id": "QElZD0VuChYv",
        "outputId": "f8f41fc8-581a-40c5-fb6e-55cf628f49fe"
      },
      "execution_count": 43,
      "outputs": [
        {
          "output_type": "execute_result",
          "data": {
            "text/plain": [
              "count     984.000000\n",
              "mean       99.306138\n",
              "std       210.653743\n",
              "min         0.000000\n",
              "25%         1.180000\n",
              "50%        16.990000\n",
              "75%        99.990000\n",
              "max      2125.870000\n",
              "Name: Amount, dtype: float64"
            ]
          },
          "metadata": {},
          "execution_count": 43
        }
      ]
    },
    {
      "cell_type": "code",
      "source": [
        "# Checking correlation\n",
        "df_corr = df.corr()\n",
        "plt.figure(figsize=(15,10))\n",
        "sns.heatmap(df_corr, cmap=\"YlGnBu\") # Displaying the Heatmap\n",
        "sns.set(font_scale=2,style='white')\n",
        "\n",
        "plt.title('Heatmap correlation')\n",
        "plt.show()"
      ],
      "metadata": {
        "colab": {
          "base_uri": "https://localhost:8080/",
          "height": 629
        },
        "id": "RZ9x6p2O-kap",
        "outputId": "9f64bc86-d401-4040-f7ff-b680ec7816bf"
      },
      "execution_count": 44,
      "outputs": [
        {
          "output_type": "display_data",
          "data": {
            "text/plain": [
              "<Figure size 1080x720 with 2 Axes>"
            ],
            "image/png": "[encoded data removed]"
          },
          "metadata": {}
        }
      ]
    },
    {
      "cell_type": "markdown",
      "source": [
        "Not much correlation can be found between the features"
      ],
      "metadata": {
        "id": "SRPJsvRV-0UD"
      }
    },
    {
      "cell_type": "markdown",
      "source": [
        "#Preprocessing"
      ],
      "metadata": {
        "id": "Ly2n2T8-p9FS"
      }
    },
    {
      "cell_type": "code",
      "source": [
        "# Checking the datasets\n",
        "df.head()"
      ],
      "metadata": {
        "colab": {
          "base_uri": "https://localhost:8080/",
          "height": 300
        },
        "id": "xNtw9Oxb6tnK",
        "outputId": "2ae7cc63-dec6-4479-f361-cea78bc03379"
      },
      "execution_count": 45,
      "outputs": [
        {
          "output_type": "execute_result",
          "data": {
            "text/plain": [
              "       Time        V1        V2        V3        V4        V5        V6  \\\n",
              "0   40531.0 -0.256903  0.351553  0.765094 -1.252797 -0.128172 -1.138525   \n",
              "1   80925.0  1.027682 -0.074904 -0.037982  1.272072  0.235515  0.349638   \n",
              "2   39377.0 -0.919926  0.005612  1.759448  0.462412  0.020553 -0.661267   \n",
              "3  143079.0 -0.627535 -0.655336  0.917104  2.244636  1.492812  0.513557   \n",
              "4  144490.0 -1.110356  1.160035 -1.802748 -1.449006  1.759889 -0.885924   \n",
              "\n",
              "         V7        V8        V9  ...       V20       V21       V22       V23  \\\n",
              "0  0.573774 -0.291202 -1.989618  ... -0.418443 -0.172059 -0.080650  0.003239   \n",
              "1  0.246575 -0.040046  0.202184  ...  0.100446 -0.084957 -0.190716 -0.266584   \n",
              "2  0.354588 -0.037672 -0.755089  ...  0.571475  0.233806  0.453567  0.078851   \n",
              "3 -0.853869  0.518132  0.108563  ...  0.434123 -0.275086 -0.904262  0.463707   \n",
              "4  1.595724 -0.319065  0.480971  ...  0.319036 -0.015753  0.564552 -0.424589   \n",
              "\n",
              "        V24       V25       V26       V27       V28  Amount  \n",
              "0  0.585214 -0.714218  0.875915 -0.057441  0.174273    9.00  \n",
              "1 -0.728946  0.767412 -0.274021  0.025447  0.027034  110.15  \n",
              "2  0.498786  0.032896  1.392697 -0.032494  0.082537   94.95  \n",
              "3  0.046730 -1.195644 -0.789808  0.286492  0.268280   10.74  \n",
              "4 -0.276465 -0.050928  0.078965  0.266342 -0.019936   30.82  \n",
              "\n",
              "[5 rows x 30 columns]"
            ],
            "text/html": [
              "\n",
              "  <div id=\"df-3ee06d15-35d2-4be2-be42-3eec8f1b440d\">\n",
              "    <div class=\"colab-df-container\">\n",
              "      <div>\n",
              "<style scoped>\n",
              "    .dataframe tbody tr th:only-of-type {\n",
              "        vertical-align: middle;\n",
              "    }\n",
              "\n",
              "    .dataframe tbody tr th {\n",
              "        vertical-align: top;\n",
              "    }\n",
              "\n",
              "    .dataframe thead th {\n",
              "        text-align: right;\n",
              "    }\n",
              "</style>\n",
              "<table border=\"1\" class=\"dataframe\">\n",
              "  <thead>\n",
              "    <tr style=\"text-align: right;\">\n",
              "      <th></th>\n",
              "      <th>Time</th>\n",
              "      <th>V1</th>\n",
              "      <th>V2</th>\n",
              "      <th>V3</th>\n",
              "      <th>V4</th>\n",
              "      <th>V5</th>\n",
              "      <th>V6</th>\n",
              "      <th>V7</th>\n",
              "      <th>V8</th>\n",
              "      <th>V9</th>\n",
              "      <th>...</th>\n",
              "      <th>V20</th>\n",
              "      <th>V21</th>\n",
              "      <th>V22</th>\n",
              "      <th>V23</th>\n",
              "      <th>V24</th>\n",
              "      <th>V25</th>\n",
              "      <th>V26</th>\n",
              "      <th>V27</th>\n",
              "      <th>V28</th>\n",
              "      <th>Amount</th>\n",
              "    </tr>\n",
              "  </thead>\n",
              "  <tbody>\n",
              "    <tr>\n",
              "      <th>0</th>\n",
              "      <td>40531.0</td>\n",
              "      <td>-0.256903</td>\n",
              "      <td>0.351553</td>\n",
              "      <td>0.765094</td>\n",
              "      <td>-1.252797</td>\n",
              "      <td>-0.128172</td>\n",
              "      <td>-1.138525</td>\n",
              "      <td>0.573774</td>\n",
              "      <td>-0.291202</td>\n",
              "      <td>-1.989618</td>\n",
              "      <td>...</td>\n",
              "      <td>-0.418443</td>\n",
              "      <td>-0.172059</td>\n",
              "      <td>-0.080650</td>\n",
              "      <td>0.003239</td>\n",
              "      <td>0.585214</td>\n",
              "      <td>-0.714218</td>\n",
              "      <td>0.875915</td>\n",
              "      <td>-0.057441</td>\n",
              "      <td>0.174273</td>\n",
              "      <td>9.00</td>\n",
              "    </tr>\n",
              "    <tr>\n",
              "      <th>1</th>\n",
              "      <td>80925.0</td>\n",
              "      <td>1.027682</td>\n",
              "      <td>-0.074904</td>\n",
              "      <td>-0.037982</td>\n",
              "      <td>1.272072</td>\n",
              "      <td>0.235515</td>\n",
              "      <td>0.349638</td>\n",
              "      <td>0.246575</td>\n",
              "      <td>-0.040046</td>\n",
              "      <td>0.202184</td>\n",
              "      <td>...</td>\n",
              "      <td>0.100446</td>\n",
              "      <td>-0.084957</td>\n",
              "      <td>-0.190716</td>\n",
              "      <td>-0.266584</td>\n",
              "      <td>-0.728946</td>\n",
              "      <td>0.767412</td>\n",
              "      <td>-0.274021</td>\n",
              "      <td>0.025447</td>\n",
              "      <td>0.027034</td>\n",
              "      <td>110.15</td>\n",
              "    </tr>\n",
              "    <tr>\n",
              "      <th>2</th>\n",
              "      <td>39377.0</td>\n",
              "      <td>-0.919926</td>\n",
              "      <td>0.005612</td>\n",
              "      <td>1.759448</td>\n",
              "      <td>0.462412</td>\n",
              "      <td>0.020553</td>\n",
              "      <td>-0.661267</td>\n",
              "      <td>0.354588</td>\n",
              "      <td>-0.037672</td>\n",
              "      <td>-0.755089</td>\n",
              "      <td>...</td>\n",
              "      <td>0.571475</td>\n",
              "      <td>0.233806</td>\n",
              "      <td>0.453567</td>\n",
              "      <td>0.078851</td>\n",
              "      <td>0.498786</td>\n",
              "      <td>0.032896</td>\n",
              "      <td>1.392697</td>\n",
              "      <td>-0.032494</td>\n",
              "      <td>0.082537</td>\n",
              "      <td>94.95</td>\n",
              "    </tr>\n",
              "    <tr>\n",
              "      <th>3</th>\n",
              "      <td>143079.0</td>\n",
              "      <td>-0.627535</td>\n",
              "      <td>-0.655336</td>\n",
              "      <td>0.917104</td>\n",
              "      <td>2.244636</td>\n",
              "      <td>1.492812</td>\n",
              "      <td>0.513557</td>\n",
              "      <td>-0.853869</td>\n",
              "      <td>0.518132</td>\n",
              "      <td>0.108563</td>\n",
              "      <td>...</td>\n",
              "      <td>0.434123</td>\n",
              "      <td>-0.275086</td>\n",
              "      <td>-0.904262</td>\n",
              "      <td>0.463707</td>\n",
              "      <td>0.046730</td>\n",
              "      <td>-1.195644</td>\n",
              "      <td>-0.789808</td>\n",
              "      <td>0.286492</td>\n",
              "      <td>0.268280</td>\n",
              "      <td>10.74</td>\n",
              "    </tr>\n",
              "    <tr>\n",
              "      <th>4</th>\n",
              "      <td>144490.0</td>\n",
              "      <td>-1.110356</td>\n",
              "      <td>1.160035</td>\n",
              "      <td>-1.802748</td>\n",
              "      <td>-1.449006</td>\n",
              "      <td>1.759889</td>\n",
              "      <td>-0.885924</td>\n",
              "      <td>1.595724</td>\n",
              "      <td>-0.319065</td>\n",
              "      <td>0.480971</td>\n",
              "      <td>...</td>\n",
              "      <td>0.319036</td>\n",
              "      <td>-0.015753</td>\n",
              "      <td>0.564552</td>\n",
              "      <td>-0.424589</td>\n",
              "      <td>-0.276465</td>\n",
              "      <td>-0.050928</td>\n",
              "      <td>0.078965</td>\n",
              "      <td>0.266342</td>\n",
              "      <td>-0.019936</td>\n",
              "      <td>30.82</td>\n",
              "    </tr>\n",
              "  </tbody>\n",
              "</table>\n",
              "<p>5 rows × 30 columns</p>\n",
              "</div>\n",
              "      <button class=\"colab-df-convert\" onclick=\"convertToInteractive('df-3ee06d15-35d2-4be2-be42-3eec8f1b440d')\"\n",
              "              title=\"Convert this dataframe to an interactive table.\"\n",
              "              style=\"display:none;\">\n",
              "        \n",
              "  <svg xmlns=\"http://www.w3.org/2000/svg\" height=\"24px\"viewBox=\"0 0 24 24\"\n",
              "       width=\"24px\">\n",
              "    <path d=\"M0 0h24v24H0V0z\" fill=\"none\"/>\n",
              "    <path d=\"M18.56 5.44l.94 2.06.94-2.06 2.06-.94-2.06-.94-.94-2.06-.94 2.06-2.06.94zm-11 1L8.5 8.5l.94-2.06 2.06-.94-2.06-.94L8.5 2.5l-.94 2.06-2.06.94zm10 10l.94 2.06.94-2.06 2.06-.94-2.06-.94-.94-2.06-.94 2.06-2.06.94z\"/><path d=\"M17.41 7.96l-1.37-1.37c-.4-.4-.92-.59-1.43-.59-.52 0-1.04.2-1.43.59L10.3 9.45l-7.72 7.72c-.78.78-.78 2.05 0 2.83L4 21.41c.39.39.9.59 1.41.59.51 0 1.02-.2 1.41-.59l7.78-7.78 2.81-2.81c.8-.78.8-2.07 0-2.86zM5.41 20L4 18.59l7.72-7.72 1.47 1.35L5.41 20z\"/>\n",
              "  </svg>\n",
              "      </button>\n",
              "      \n",
              "  <style>\n",
              "    .colab-df-container {\n",
              "      display:flex;\n",
              "      flex-wrap:wrap;\n",
              "      gap: 12px;\n",
              "    }\n",
              "\n",
              "    .colab-df-convert {\n",
              "      background-color: #E8F0FE;\n",
              "      border: none;\n",
              "      border-radius: 50%;\n",
              "      cursor: pointer;\n",
              "      display: none;\n",
              "      fill: #1967D2;\n",
              "      height: 32px;\n",
              "      padding: 0 0 0 0;\n",
              "      width: 32px;\n",
              "    }\n",
              "\n",
              "    .colab-df-convert:hover {\n",
              "      background-color: #E2EBFA;\n",
              "      box-shadow: 0px 1px 2px rgba(60, 64, 67, 0.3), 0px 1px 3px 1px rgba(60, 64, 67, 0.15);\n",
              "      fill: #174EA6;\n",
              "    }\n",
              "\n",
              "    [theme=dark] .colab-df-convert {\n",
              "      background-color: #3B4455;\n",
              "      fill: #D2E3FC;\n",
              "    }\n",
              "\n",
              "    [theme=dark] .colab-df-convert:hover {\n",
              "      background-color: #434B5C;\n",
              "      box-shadow: 0px 1px 3px 1px rgba(0, 0, 0, 0.15);\n",
              "      filter: drop-shadow(0px 1px 2px rgba(0, 0, 0, 0.3));\n",
              "      fill: #FFFFFF;\n",
              "    }\n",
              "  </style>\n",
              "\n",
              "      <script>\n",
              "        const buttonEl =\n",
              "          document.querySelector('#df-3ee06d15-35d2-4be2-be42-3eec8f1b440d button.colab-df-convert');\n",
              "        buttonEl.style.display =\n",
              "          google.colab.kernel.accessAllowed ? 'block' : 'none';\n",
              "\n",
              "        async function convertToInteractive(key) {\n",
              "          const element = document.querySelector('#df-3ee06d15-35d2-4be2-be42-3eec8f1b440d');\n",
              "          const dataTable =\n",
              "            await google.colab.kernel.invokeFunction('convertToInteractive',\n",
              "                                                     [key], {});\n",
              "          if (!dataTable) return;\n",
              "\n",
              "          const docLinkHtml = 'Like what you see? Visit the ' +\n",
              "            '<a target=\"_blank\" href=https://colab.research.google.com/notebooks/data_table.ipynb>data table notebook</a>'\n",
              "            + ' to learn more about interactive tables.';\n",
              "          element.innerHTML = '';\n",
              "          dataTable['output_type'] = 'display_data';\n",
              "          await google.colab.output.renderOutput(dataTable, element);\n",
              "          const docLink = document.createElement('div');\n",
              "          docLink.innerHTML = docLinkHtml;\n",
              "          element.appendChild(docLink);\n",
              "        }\n",
              "      </script>\n",
              "    </div>\n",
              "  </div>\n",
              "  "
            ]
          },
          "metadata": {},
          "execution_count": 45
        }
      ]
    },
    {
      "cell_type": "markdown",
      "source": [
        "We know that time and amount feature requires normalization from the previous analysis"
      ],
      "metadata": {
        "id": "-fM1hHwiDWSR"
      }
    },
    {
      "cell_type": "code",
      "source": [
        "from sklearn.preprocessing import StandardScaler\n",
        "\n",
        "df = StandardScaler().fit_transform(df)"
      ],
      "metadata": {
        "id": "xqiiJPFRDYvF"
      },
      "execution_count": 46,
      "outputs": []
    },
    {
      "cell_type": "markdown",
      "source": [
        "## Splitting dataset"
      ],
      "metadata": {
        "id": "fNoPgBQCFS-W"
      }
    },
    {
      "cell_type": "code",
      "source": [
        "from sklearn.model_selection import train_test_split\n",
        "\n",
        "X_train, X_test, y_train, y_test = train_test_split(df, y, test_size=0.2, stratify = y)\n",
        "# X_train, X_test, y_train, y_test = train_test_split(df, y, test_size=0.2)"
      ],
      "metadata": {
        "id": "kdLPscVHFSm1"
      },
      "execution_count": 47,
      "outputs": []
    },
    {
      "cell_type": "markdown",
      "source": [
        "### Checking distribution after split"
      ],
      "metadata": {
        "id": "N-YbVofFKga3"
      }
    },
    {
      "cell_type": "code",
      "source": [
        "unique, counts = np.unique(y_train, return_counts=True)\n",
        "\n",
        "result = np.column_stack((unique, counts)) \n",
        "print(result)"
      ],
      "metadata": {
        "colab": {
          "base_uri": "https://localhost:8080/"
        },
        "id": "IVCjTNjQKVgi",
        "outputId": "a33eb134-9f1a-4695-da1f-f1bbfcfc7119"
      },
      "execution_count": 48,
      "outputs": [
        {
          "output_type": "stream",
          "name": "stdout",
          "text": [
            "[[  0 393]\n",
            " [  1 394]]\n"
          ]
        }
      ]
    },
    {
      "cell_type": "code",
      "source": [
        "unique, counts = np.unique(y_test, return_counts=True)\n",
        "\n",
        "result = np.column_stack((unique, counts)) \n",
        "print (result)"
      ],
      "metadata": {
        "colab": {
          "base_uri": "https://localhost:8080/"
        },
        "id": "zPWJKY35KY8N",
        "outputId": "8331c891-96aa-4168-9a46-c38d482c1dfa"
      },
      "execution_count": 49,
      "outputs": [
        {
          "output_type": "stream",
          "name": "stdout",
          "text": [
            "[[ 0 99]\n",
            " [ 1 98]]\n"
          ]
        }
      ]
    },
    {
      "cell_type": "markdown",
      "source": [
        "# Implementing algorithms"
      ],
      "metadata": {
        "id": "7S5MfIkpGsC5"
      }
    },
    {
      "cell_type": "code",
      "source": [
        "# Libraries for metrics for all algorithms\n",
        "from sklearn.metrics import confusion_matrix, precision_recall_curve, classification_report, precision_score, recall_score, accuracy_score, ConfusionMatrixDisplay\n",
        "\n",
        "# Library for hyperparameter tuning\n",
        "from sklearn.model_selection import GridSearchCV"
      ],
      "metadata": {
        "id": "i4mO41pWHJLR"
      },
      "execution_count": 50,
      "outputs": []
    },
    {
      "cell_type": "markdown",
      "source": [
        "## Implementing Logistic Regression"
      ],
      "metadata": {
        "id": "eAx0NVh0GuZH"
      }
    },
    {
      "cell_type": "code",
      "source": [
        "from sklearn.linear_model import LogisticRegression\n",
        "\n",
        "logReg = LogisticRegression()"
      ],
      "metadata": {
        "id": "HKWubZLrFO5s"
      },
      "execution_count": 51,
      "outputs": []
    },
    {
      "cell_type": "markdown",
      "source": [
        "## Hyper parameter tuning"
      ],
      "metadata": {
        "id": "I-NWqVhOLgnK"
      }
    },
    {
      "cell_type": "code",
      "source": [
        "parameters = {'C':[1, 10], 'solver' : ('newton-cg', 'lbfgs', 'liblinear')}\n",
        "\n",
        "clf = GridSearchCV(logReg, parameters, n_jobs=-1, scoring=\"roc_auc\", verbose = 5)\n",
        "clf.fit(X_train, y_train)\n"
      ],
      "metadata": {
        "colab": {
          "base_uri": "https://localhost:8080/"
        },
        "id": "Q2aw05xKLiaN",
        "outputId": "63ace4a8-b908-4c95-bbad-3a03363a0476"
      },
      "execution_count": 52,
      "outputs": [
        {
          "output_type": "stream",
          "name": "stdout",
          "text": [
            "Fitting 5 folds for each of 6 candidates, totalling 30 fits\n"
          ]
        },
        {
          "output_type": "execute_result",
          "data": {
            "text/plain": [
              "GridSearchCV(estimator=LogisticRegression(), n_jobs=-1,\n",
              "             param_grid={'C': [1, 10],\n",
              "                         'solver': ('newton-cg', 'lbfgs', 'liblinear')},\n",
              "             scoring='roc_auc', verbose=5)"
            ]
          },
          "metadata": {},
          "execution_count": 52
        }
      ]
    },
    {
      "cell_type": "code",
      "source": [
        "clf.best_params_"
      ],
      "metadata": {
        "colab": {
          "base_uri": "https://localhost:8080/"
        },
        "id": "dOQ1n9qcOgT7",
        "outputId": "632047d1-374f-499c-d24d-5b0d03ff4f9d"
      },
      "execution_count": 53,
      "outputs": [
        {
          "output_type": "execute_result",
          "data": {
            "text/plain": [
              "{'C': 1, 'solver': 'lbfgs'}"
            ]
          },
          "metadata": {},
          "execution_count": 53
        }
      ]
    },
    {
      "cell_type": "code",
      "source": [
        "# Predicting with the best parameters\n",
        "y_pred = clf.predict(X_test)"
      ],
      "metadata": {
        "id": "d4uL_qGjQfju"
      },
      "execution_count": 54,
      "outputs": []
    },
    {
      "cell_type": "markdown",
      "source": [
        "### Metrics for Logistic Regression"
      ],
      "metadata": {
        "id": "pVMs5eHiHWBG"
      }
    },
    {
      "cell_type": "code",
      "source": [
        "print(classification_report(y_test, y_pred))\n",
        "\n",
        "conf_mat = confusion_matrix(y_test, y_pred)\n",
        "cm_display = ConfusionMatrixDisplay(conf_mat, display_labels=['Non-fraud', 'Fraud']).plot()\n",
        "plt.show()"
      ],
      "metadata": {
        "colab": {
          "base_uri": "https://localhost:8080/",
          "height": 462
        },
        "id": "a75gNFKNHNsC",
        "outputId": "f01251b4-9ca8-44f8-c0a0-acfd35bb82e6"
      },
      "execution_count": 55,
      "outputs": [
        {
          "output_type": "stream",
          "name": "stdout",
          "text": [
            "              precision    recall  f1-score   support\n",
            "\n",
            "           0       0.91      0.96      0.94        99\n",
            "           1       0.96      0.91      0.93        98\n",
            "\n",
            "    accuracy                           0.93       197\n",
            "   macro avg       0.94      0.93      0.93       197\n",
            "weighted avg       0.94      0.93      0.93       197\n",
            "\n"
          ]
        },
        {
          "output_type": "display_data",
          "data": {
            "text/plain": [
              "<Figure size 432x288 with 2 Axes>"
            ],
            "image/png": "[encoded data removed]"
          },
          "metadata": {}
        }
      ]
    },
    {
      "cell_type": "markdown",
      "source": [
        "## Implementing Support Vector Machine\n",
        "\n",
        "---\n",
        "\n"
      ],
      "metadata": {
        "id": "9AOuqbOtQ0p1"
      }
    },
    {
      "cell_type": "code",
      "source": [
        "from sklearn.svm import SVC\n",
        "\n",
        "svm = SVC()"
      ],
      "metadata": {
        "id": "tBI26w4zHR1i"
      },
      "execution_count": 56,
      "outputs": []
    },
    {
      "cell_type": "markdown",
      "source": [
        "### Hyperparameter Tuning"
      ],
      "metadata": {
        "id": "wJPBSpVgRDrY"
      }
    },
    {
      "cell_type": "code",
      "source": [
        "parameters = {'kernel':('linear', 'rbf'), 'C':[1, 5]}\n",
        "\n",
        "clf = GridSearchCV(svm, parameters, n_jobs=-1, scoring=\"roc_auc\")\n",
        "clf.fit(X_train, y_train)"
      ],
      "metadata": {
        "colab": {
          "base_uri": "https://localhost:8080/"
        },
        "id": "JYevrNjkRE_B",
        "outputId": "723da205-4065-4222-d078-bbcbb272361f"
      },
      "execution_count": 57,
      "outputs": [
        {
          "output_type": "execute_result",
          "data": {
            "text/plain": [
              "GridSearchCV(estimator=SVC(), n_jobs=-1,\n",
              "             param_grid={'C': [1, 5], 'kernel': ('linear', 'rbf')},\n",
              "             scoring='roc_auc')"
            ]
          },
          "metadata": {},
          "execution_count": 57
        }
      ]
    },
    {
      "cell_type": "code",
      "source": [
        "# Predicting with the best parameters\n",
        "y_pred = clf.predict(X_test)"
      ],
      "metadata": {
        "id": "u2vM144-Rjve"
      },
      "execution_count": 58,
      "outputs": []
    },
    {
      "cell_type": "markdown",
      "source": [
        "## Metrics for Support Vector Machine"
      ],
      "metadata": {
        "id": "gKXD5RA6Rk27"
      }
    },
    {
      "cell_type": "code",
      "source": [
        "print(classification_report(y_test, y_pred))\n",
        "\n",
        "conf_mat = confusion_matrix(y_test, y_pred)\n",
        "cm_display = ConfusionMatrixDisplay(conf_mat, display_labels=['Non-fraud', 'Fraud']).plot()\n",
        "plt.show()"
      ],
      "metadata": {
        "colab": {
          "base_uri": "https://localhost:8080/",
          "height": 462
        },
        "id": "m3Ndv_gPRm-g",
        "outputId": "5b3cf5e8-de1f-48c5-b365-2841b05952b6"
      },
      "execution_count": 59,
      "outputs": [
        {
          "output_type": "stream",
          "name": "stdout",
          "text": [
            "              precision    recall  f1-score   support\n",
            "\n",
            "           0       0.90      0.99      0.94        99\n",
            "           1       0.99      0.89      0.94        98\n",
            "\n",
            "    accuracy                           0.94       197\n",
            "   macro avg       0.94      0.94      0.94       197\n",
            "weighted avg       0.94      0.94      0.94       197\n",
            "\n"
          ]
        },
        {
          "output_type": "display_data",
          "data": {
            "text/plain": [
              "<Figure size 432x288 with 2 Axes>"
            ],
            "image/png": "[encoded data removed]"
          },
          "metadata": {}
        }
      ]
    },
    {
      "cell_type": "markdown",
      "source": [
        "## Implementing Naive Bayes"
      ],
      "metadata": {
        "id": "pzxHFsmLLPLM"
      }
    },
    {
      "cell_type": "code",
      "source": [
        "from sklearn.naive_bayes import GaussianNB\n",
        "\n",
        "gnb = GaussianNB()"
      ],
      "metadata": {
        "id": "4c78ya--VH3v"
      },
      "execution_count": 60,
      "outputs": []
    },
    {
      "cell_type": "markdown",
      "source": [
        "### Training the model"
      ],
      "metadata": {
        "id": "AzG2ZsZHLXLa"
      }
    },
    {
      "cell_type": "code",
      "source": [
        "gnb.fit(X_train, y_train)\n",
        "y_pred = gnb.predict(X_test)"
      ],
      "metadata": {
        "id": "BprVN8MpL4kM"
      },
      "execution_count": 61,
      "outputs": []
    },
    {
      "cell_type": "markdown",
      "source": [
        "## Metrics for Naive Bayes"
      ],
      "metadata": {
        "id": "BvbO2ArEL_fV"
      }
    },
    {
      "cell_type": "code",
      "source": [
        "print(classification_report(y_test, y_pred))\n",
        "\n",
        "conf_mat = confusion_matrix(y_test, y_pred)\n",
        "cm_display = ConfusionMatrixDisplay(conf_mat, display_labels=['Non-fraud', 'Fraud']).plot()\n",
        "plt.show()"
      ],
      "metadata": {
        "colab": {
          "base_uri": "https://localhost:8080/",
          "height": 462
        },
        "id": "-iVuUWWdL9F7",
        "outputId": "6b0e5519-2ec7-45f4-8e92-bedb69c80211"
      },
      "execution_count": 62,
      "outputs": [
        {
          "output_type": "stream",
          "name": "stdout",
          "text": [
            "              precision    recall  f1-score   support\n",
            "\n",
            "           0       0.87      0.98      0.92        99\n",
            "           1       0.98      0.85      0.91        98\n",
            "\n",
            "    accuracy                           0.91       197\n",
            "   macro avg       0.92      0.91      0.91       197\n",
            "weighted avg       0.92      0.91      0.91       197\n",
            "\n"
          ]
        },
        {
          "output_type": "display_data",
          "data": {
            "text/plain": [
              "<Figure size 432x288 with 2 Axes>"
            ],
            "image/png": "[encoded data removed]"
          },
          "metadata": {}
        }
      ]
    },
    {
      "cell_type": "markdown",
      "source": [
        "## Implementing Random Forest\n",
        "\n"
      ],
      "metadata": {
        "id": "rEJRBP2xMaiz"
      }
    },
    {
      "cell_type": "code",
      "source": [
        "from sklearn.ensemble import RandomForestClassifier\n",
        "\n",
        "rdc = RandomForestClassifier(n_jobs=-1, max_depth = 20, verbose = 1)"
      ],
      "metadata": {
        "id": "VU_WlLtYMC9j"
      },
      "execution_count": 63,
      "outputs": []
    },
    {
      "cell_type": "markdown",
      "source": [
        "## Hyperparameter Tuning"
      ],
      "metadata": {
        "id": "7JJ5rV3LNp1I"
      }
    },
    {
      "cell_type": "code",
      "source": [
        "parameters = {'n_estimators':[100, 150]}\n",
        "\n",
        "clf = GridSearchCV(rdc, parameters, n_jobs=-1, scoring=\"roc_auc\")\n",
        "clf.fit(X_train, y_train)"
      ],
      "metadata": {
        "colab": {
          "base_uri": "https://localhost:8080/"
        },
        "id": "AkdHzjNKNrK3",
        "outputId": "907bb83d-1657-4cff-9e96-b6f59385dada"
      },
      "execution_count": 64,
      "outputs": [
        {
          "output_type": "stream",
          "name": "stderr",
          "text": [
            "[Parallel(n_jobs=-1)]: Using backend ThreadingBackend with 2 concurrent workers.\n",
            "[Parallel(n_jobs=-1)]: Done  46 tasks      | elapsed:    0.2s\n",
            "[Parallel(n_jobs=-1)]: Done 150 out of 150 | elapsed:    0.7s finished\n"
          ]
        },
        {
          "output_type": "execute_result",
          "data": {
            "text/plain": [
              "GridSearchCV(estimator=RandomForestClassifier(max_depth=20, n_jobs=-1,\n",
              "                                              verbose=1),\n",
              "             n_jobs=-1, param_grid={'n_estimators': [100, 150]},\n",
              "             scoring='roc_auc')"
            ]
          },
          "metadata": {},
          "execution_count": 64
        }
      ]
    },
    {
      "cell_type": "markdown",
      "source": [
        "## Metrics for Random Forest"
      ],
      "metadata": {
        "id": "tTpQdYVVOTAF"
      }
    },
    {
      "cell_type": "code",
      "source": [
        "clf.best_params_"
      ],
      "metadata": {
        "colab": {
          "base_uri": "https://localhost:8080/"
        },
        "id": "_rBWWcpGfHem",
        "outputId": "57f3cb2f-b799-4fa3-c852-df513e97c32c"
      },
      "execution_count": 65,
      "outputs": [
        {
          "output_type": "execute_result",
          "data": {
            "text/plain": [
              "{'n_estimators': 150}"
            ]
          },
          "metadata": {},
          "execution_count": 65
        }
      ]
    },
    {
      "cell_type": "code",
      "source": [
        "print(classification_report(y_test, y_pred))\n",
        "\n",
        "conf_mat = confusion_matrix(y_test, y_pred)\n",
        "cm_display = ConfusionMatrixDisplay(conf_mat, display_labels=['Non-fraud', 'Fraud']).plot()\n",
        "plt.show()"
      ],
      "metadata": {
        "colab": {
          "base_uri": "https://localhost:8080/",
          "height": 462
        },
        "id": "oBqgWH1-OFHO",
        "outputId": "60ddc58b-ce4e-4662-b91e-c370488cc620"
      },
      "execution_count": 66,
      "outputs": [
        {
          "output_type": "stream",
          "name": "stdout",
          "text": [
            "              precision    recall  f1-score   support\n",
            "\n",
            "           0       0.87      0.98      0.92        99\n",
            "           1       0.98      0.85      0.91        98\n",
            "\n",
            "    accuracy                           0.91       197\n",
            "   macro avg       0.92      0.91      0.91       197\n",
            "weighted avg       0.92      0.91      0.91       197\n",
            "\n"
          ]
        },
        {
          "output_type": "display_data",
          "data": {
            "text/plain": [
              "<Figure size 432x288 with 2 Axes>"
            ],
            "image/png": "[encoded data removed]"
          },
          "metadata": {}
        }
      ]
    },
    {
      "cell_type": "markdown",
      "source": [
        "## Implementing Artificial Neural Network"
      ],
      "metadata": {
        "id": "aKS1NpN_QYt9"
      }
    },
    {
      "cell_type": "code",
      "source": [
        "from sklearn.neural_network import MLPClassifier\n",
        "\n",
        "clf = MLPClassifier(max_iter = 300)"
      ],
      "metadata": {
        "id": "AWE5cBTZQZFO"
      },
      "execution_count": 67,
      "outputs": []
    },
    {
      "cell_type": "code",
      "source": [
        "parameters = {\n",
        "    'hidden_layer_sizes': [(50,50,50), (50,100,50), (100,)],\n",
        "    'activation': ['tanh', 'relu'],\n",
        "    'solver': ['sgd', 'adam'],\n",
        "    'alpha': [0.0001, 0.05],\n",
        "    'learning_rate': ['constant','adaptive'],\n",
        "}\n",
        "\n",
        "clf = GridSearchCV(clf, parameters, n_jobs=-1, scoring=\"roc_auc\")\n",
        "clf.fit(X_train, y_train)"
      ],
      "metadata": {
        "colab": {
          "base_uri": "https://localhost:8080/"
        },
        "id": "Zr82AXtdsyWj",
        "outputId": "c3ee0ffe-5398-4eb9-de83-170a50157477"
      },
      "execution_count": 68,
      "outputs": [
        {
          "output_type": "execute_result",
          "data": {
            "text/plain": [
              "GridSearchCV(estimator=MLPClassifier(max_iter=300), n_jobs=-1,\n",
              "             param_grid={'activation': ['tanh', 'relu'],\n",
              "                         'alpha': [0.0001, 0.05],\n",
              "                         'hidden_layer_sizes': [(50, 50, 50), (50, 100, 50),\n",
              "                                                (100,)],\n",
              "                         'learning_rate': ['constant', 'adaptive'],\n",
              "                         'solver': ['sgd', 'adam']},\n",
              "             scoring='roc_auc')"
            ]
          },
          "metadata": {},
          "execution_count": 68
        }
      ]
    },
    {
      "cell_type": "code",
      "source": [
        "clf.best_params_"
      ],
      "metadata": {
        "colab": {
          "base_uri": "https://localhost:8080/"
        },
        "id": "5y5yIZ4os3x0",
        "outputId": "54e91255-4c76-4cd5-9684-1a9698fb31cc"
      },
      "execution_count": 69,
      "outputs": [
        {
          "output_type": "execute_result",
          "data": {
            "text/plain": [
              "{'activation': 'tanh',\n",
              " 'alpha': 0.0001,\n",
              " 'hidden_layer_sizes': (100,),\n",
              " 'learning_rate': 'constant',\n",
              " 'solver': 'adam'}"
            ]
          },
          "metadata": {},
          "execution_count": 69
        }
      ]
    },
    {
      "cell_type": "markdown",
      "source": [
        "## Metrics for Artificial Neural Network"
      ],
      "metadata": {
        "id": "x_Okl6k4s5Nh"
      }
    },
    {
      "cell_type": "code",
      "source": [
        "print(classification_report(y_test, y_pred))\n",
        "\n",
        "conf_mat = confusion_matrix(y_test, y_pred)\n",
        "cm_display = ConfusionMatrixDisplay(conf_mat, display_labels=['Non-fraud', 'Fraud']).plot()\n",
        "plt.show()"
      ],
      "metadata": {
        "colab": {
          "base_uri": "https://localhost:8080/",
          "height": 462
        },
        "id": "CAmpkJpxs8o9",
        "outputId": "80f16bf8-6285-4756-8af0-fa3612560268"
      },
      "execution_count": 70,
      "outputs": [
        {
          "output_type": "stream",
          "name": "stdout",
          "text": [
            "              precision    recall  f1-score   support\n",
            "\n",
            "           0       0.87      0.98      0.92        99\n",
            "           1       0.98      0.85      0.91        98\n",
            "\n",
            "    accuracy                           0.91       197\n",
            "   macro avg       0.92      0.91      0.91       197\n",
            "weighted avg       0.92      0.91      0.91       197\n",
            "\n"
          ]
        },
        {
          "output_type": "display_data",
          "data": {
            "text/plain": [
              "<Figure size 432x288 with 2 Axes>"
            ],
            "image/png": "[encoded data removed]"
          },
          "metadata": {}
        }
      ]
    },
    {
      "cell_type": "markdown",
      "source": [
        "# Implementing XGBoost CLassifier"
      ],
      "metadata": {
        "id": "4bFFc2675HbH"
      }
    },
    {
      "cell_type": "code",
      "source": [
        "import xgboost as xgb\n",
        "\n",
        "clf = xgb.XGBClassifier(objective=\"binary:logistic\")\n",
        "\n",
        "clf.fit(X_train, y_train)\n"
      ],
      "metadata": {
        "colab": {
          "base_uri": "https://localhost:8080/"
        },
        "id": "EkA9PxXk5JeC",
        "outputId": "ade10202-0bfe-4218-d834-d6a98354ca9d"
      },
      "execution_count": 71,
      "outputs": [
        {
          "output_type": "execute_result",
          "data": {
            "text/plain": [
              "XGBClassifier()"
            ]
          },
          "metadata": {},
          "execution_count": 71
        }
      ]
    },
    {
      "cell_type": "markdown",
      "source": [
        "## Hyperparameter Tuning"
      ],
      "metadata": {
        "id": "msUorxmx-H3I"
      }
    },
    {
      "cell_type": "code",
      "source": [
        "parameters = {\n",
        "    \"max_depth\": [3, 4, 5, 7],\n",
        "    \"learning_rate\": [0.1, 0.01, 0.05],\n",
        "    \"gamma\": [0, 0.25, 1],\n",
        "    \"reg_lambda\": [0, 1, 10],\n",
        "    \"scale_pos_weight\": [1, 3, 5],\n",
        "    \"subsample\": [0.8],\n",
        "    \"colsample_bytree\": [0.5],\n",
        "}\n",
        "\n",
        "clf = GridSearchCV(clf, parameters, n_jobs=-1, scoring=\"roc_auc\")\n"
      ],
      "metadata": {
        "id": "o6ZD4AYe-Lut"
      },
      "execution_count": 72,
      "outputs": []
    },
    {
      "cell_type": "markdown",
      "source": [
        "## Metrics for XGBoost Classifier"
      ],
      "metadata": {
        "id": "K0riFy1f9Nsh"
      }
    },
    {
      "cell_type": "code",
      "source": [
        "print(classification_report(y_test, y_pred))\n",
        "\n",
        "conf_mat = confusion_matrix(y_test, y_pred)\n",
        "cm_display = ConfusionMatrixDisplay(conf_mat, display_labels=['Non-fraud', 'Fraud']).plot()\n",
        "plt.show()"
      ],
      "metadata": {
        "colab": {
          "base_uri": "https://localhost:8080/",
          "height": 462
        },
        "id": "JobdYV-b9P7W",
        "outputId": "7a9d1f95-c3b1-4ee4-df03-89f04c57be3e"
      },
      "execution_count": 73,
      "outputs": [
        {
          "output_type": "stream",
          "name": "stdout",
          "text": [
            "              precision    recall  f1-score   support\n",
            "\n",
            "           0       0.87      0.98      0.92        99\n",
            "           1       0.98      0.85      0.91        98\n",
            "\n",
            "    accuracy                           0.91       197\n",
            "   macro avg       0.92      0.91      0.91       197\n",
            "weighted avg       0.92      0.91      0.91       197\n",
            "\n"
          ]
        },
        {
          "output_type": "display_data",
          "data": {
            "text/plain": [
              "<Figure size 432x288 with 2 Axes>"
            ],
            "image/png": "[encoded data removed]"
          },
          "metadata": {}
        }
      ]
    }
  ]
}