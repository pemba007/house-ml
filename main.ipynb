{
  "nbformat": 4,
  "nbformat_minor": 0,
  "metadata": {
    "colab": {
      "name": "main.ipynb",
      "provenance": [],
      "authorship_tag": "ABX9TyNygQ17dFvyOpYQpdeK0gtG",
      "include_colab_link": true
    },
    "kernelspec": {
      "name": "python3",
      "display_name": "Python 3"
    },
    "language_info": {
      "name": "python"
    }
  },
  "cells": [
    {
      "cell_type": "markdown",
      "metadata": {
        "id": "view-in-github",
        "colab_type": "text"
      },
      "source": [
        "<a href=\"https://colab.research.google.com/github/pemba007/house-ml/blob/main/main.ipynb\" target=\"_parent\"><img src=\"https://colab.research.google.com/assets/colab-badge.svg\" alt=\"Open In Colab\"/></a>"
      ]
    },
    {
      "cell_type": "code",
      "source": [
        "# !pip install imbalanced-learn\n",
        "!pip install xgboost"
      ],
      "metadata": {
        "colab": {
          "base_uri": "https://localhost:8080/"
        },
        "id": "TjtV0c_uqrq2",
        "outputId": "3b132e01-70fe-41af-b10d-fab8e3584768"
      },
      "execution_count": 91,
      "outputs": [
        {
          "output_type": "stream",
          "name": "stdout",
          "text": [
            "Requirement already satisfied: xgboost in /usr/local/lib/python3.7/dist-packages (0.90)\n",
            "Requirement already satisfied: scipy in /usr/local/lib/python3.7/dist-packages (from xgboost) (1.4.1)\n",
            "Requirement already satisfied: numpy in /usr/local/lib/python3.7/dist-packages (from xgboost) (1.21.6)\n"
          ]
        }
      ]
    },
    {
      "cell_type": "code",
      "source": [
        "# Ignoring the warning\n",
        "import warnings\n",
        "warnings.filterwarnings(\"ignore\")"
      ],
      "metadata": {
        "id": "-RO_IvAf9qG-"
      },
      "execution_count": 92,
      "outputs": []
    },
    {
      "cell_type": "code",
      "execution_count": 93,
      "metadata": {
        "id": "OOMAIjV42H30"
      },
      "outputs": [],
      "source": [
        "# Importing required libaries\n",
        "\n",
        "# Data handling libraries\n",
        "import pandas as pd\n",
        "import numpy as np\n",
        "\n",
        "# Data Visualization libraries\n",
        "import matplotlib.pyplot as plt\n",
        "import seaborn as sns"
      ]
    },
    {
      "cell_type": "code",
      "source": [
        "# Reading the dataset\n",
        "df = pd.read_csv('creditcard.csv')"
      ],
      "metadata": {
        "id": "bIeFd5Ic37H8"
      },
      "execution_count": 94,
      "outputs": []
    },
    {
      "cell_type": "code",
      "source": [
        "df.shape"
      ],
      "metadata": {
        "colab": {
          "base_uri": "https://localhost:8080/"
        },
        "id": "FGo-bgvdn4ys",
        "outputId": "e4c4c8af-f2b2-4e6f-aa20-4e171af6e098"
      },
      "execution_count": 95,
      "outputs": [
        {
          "output_type": "execute_result",
          "data": {
            "text/plain": [
              "(284807, 31)"
            ]
          },
          "metadata": {},
          "execution_count": 95
        }
      ]
    },
    {
      "cell_type": "code",
      "source": [
        "df.shape"
      ],
      "metadata": {
        "colab": {
          "base_uri": "https://localhost:8080/"
        },
        "id": "_mvAAgbqnxyB",
        "outputId": "f81fb398-ce22-46c1-f261-268fda290536"
      },
      "execution_count": 96,
      "outputs": [
        {
          "output_type": "execute_result",
          "data": {
            "text/plain": [
              "(284807, 31)"
            ]
          },
          "metadata": {},
          "execution_count": 96
        }
      ]
    },
    {
      "cell_type": "code",
      "source": [
        "# Separating the target variable\n",
        "y = df['Class']\n",
        "df.drop(columns=['Class'], inplace = True)"
      ],
      "metadata": {
        "id": "f50NN8fFDvNq"
      },
      "execution_count": 97,
      "outputs": []
    },
    {
      "cell_type": "markdown",
      "source": [
        "# Exploraratory Data Analysis(EDA)"
      ],
      "metadata": {
        "id": "4xADz9kJ86yz"
      }
    },
    {
      "cell_type": "code",
      "source": [
        "df.isnull().sum()"
      ],
      "metadata": {
        "colab": {
          "base_uri": "https://localhost:8080/"
        },
        "id": "y4iQEf0h86Wj",
        "outputId": "52d80d5a-680b-4af4-b001-1b29e05a6f39"
      },
      "execution_count": 98,
      "outputs": [
        {
          "output_type": "execute_result",
          "data": {
            "text/plain": [
              "Time      0\n",
              "V1        0\n",
              "V2        0\n",
              "V3        0\n",
              "V4        0\n",
              "V5        0\n",
              "V6        0\n",
              "V7        0\n",
              "V8        0\n",
              "V9        0\n",
              "V10       0\n",
              "V11       0\n",
              "V12       0\n",
              "V13       0\n",
              "V14       0\n",
              "V15       0\n",
              "V16       0\n",
              "V17       0\n",
              "V18       0\n",
              "V19       0\n",
              "V20       0\n",
              "V21       0\n",
              "V22       0\n",
              "V23       0\n",
              "V24       0\n",
              "V25       0\n",
              "V26       0\n",
              "V27       0\n",
              "V28       0\n",
              "Amount    0\n",
              "dtype: int64"
            ]
          },
          "metadata": {},
          "execution_count": 98
        }
      ]
    },
    {
      "cell_type": "code",
      "source": [
        "# Checking the distribution for target variable\n",
        "count_classes = pd.value_counts(y, sort = True).sort_index()\n",
        "count_classes.plot(kind = 'bar')\n",
        "plt.title(\"Fraud class histogram\")\n",
        "plt.xlabel(\"Class\")\n",
        "plt.ylabel(\"Frequency\")"
      ],
      "metadata": {
        "colab": {
          "base_uri": "https://localhost:8080/",
          "height": 342
        },
        "id": "mUqM3Dqb9Hr6",
        "outputId": "b06c3e1e-93d3-47e5-fe94-37f3cf0a2a0f"
      },
      "execution_count": 99,
      "outputs": [
        {
          "output_type": "execute_result",
          "data": {
            "text/plain": [
              "Text(0, 0.5, 'Frequency')"
            ]
          },
          "metadata": {},
          "execution_count": 99
        },
        {
          "output_type": "display_data",
          "data": {
            "text/plain": [
              "<Figure size 432x288 with 1 Axes>"
            ],
            "image/png": "[encoded data removed]"
          },
          "metadata": {}
        }
      ]
    },
    {
      "cell_type": "code",
      "source": [
        "# Undersampling\n",
        "from imblearn.under_sampling import RandomUnderSampler\n",
        "from collections import Counter\n",
        "\n",
        "print(\"Before sampling y:\", Counter(y))\n",
        "undersample = RandomUnderSampler(sampling_strategy='majority')\n",
        "# fit and apply the transform\n",
        "df, y = undersample.fit_resample(df, y)\n",
        "print(\"After sampling y:\", Counter(y))"
      ],
      "metadata": {
        "colab": {
          "base_uri": "https://localhost:8080/"
        },
        "id": "qMTY24d1q23a",
        "outputId": "6b704b30-36a1-4cde-f88f-2237d705084b"
      },
      "execution_count": 100,
      "outputs": [
        {
          "output_type": "stream",
          "name": "stdout",
          "text": [
            "Before sampling y: Counter({0: 284315, 1: 492})\n",
            "After sampling y: Counter({0: 492, 1: 492})\n"
          ]
        }
      ]
    },
    {
      "cell_type": "code",
      "source": [
        "# Checking the distribution for target variable\n",
        "count_classes = pd.value_counts(y, sort = True).sort_index()\n",
        "count_classes.plot(kind = 'bar')\n",
        "plt.title(\"Fraud class histogram\")\n",
        "plt.xlabel(\"Class\")\n",
        "plt.ylabel(\"Frequency\")"
      ],
      "metadata": {
        "colab": {
          "base_uri": "https://localhost:8080/",
          "height": 342
        },
        "id": "4x4zXm7MrflO",
        "outputId": "eda36d40-9266-4983-c1a1-fc01cba57495"
      },
      "execution_count": 101,
      "outputs": [
        {
          "output_type": "execute_result",
          "data": {
            "text/plain": [
              "Text(0, 0.5, 'Frequency')"
            ]
          },
          "metadata": {},
          "execution_count": 101
        },
        {
          "output_type": "display_data",
          "data": {
            "text/plain": [
              "<Figure size 432x288 with 1 Axes>"
            ],
            "image/png": "[encoded data removed]"
          },
          "metadata": {}
        }
      ]
    },
    {
      "cell_type": "markdown",
      "source": [
        "## Checking distributions"
      ],
      "metadata": {
        "id": "q_0ARcY39YXc"
      }
    },
    {
      "cell_type": "code",
      "source": [
        "df.describe()"
      ],
      "metadata": {
        "colab": {
          "base_uri": "https://localhost:8080/",
          "height": 394
        },
        "id": "vFkJVeo5-E_5",
        "outputId": "7b7167b8-fd4c-4f88-be92-33aad5d4282d"
      },
      "execution_count": 102,
      "outputs": [
        {
          "output_type": "execute_result",
          "data": {
            "text/plain": [
              "                Time          V1          V2          V3          V4  \\\n",
              "count     984.000000  984.000000  984.000000  984.000000  984.000000   \n",
              "mean    89207.248984   -2.409852    1.886686   -3.549321    2.270697   \n",
              "std     47961.134144    5.557005    3.700762    6.203725    3.207255   \n",
              "min       209.000000  -30.552380  -24.726002  -31.103685   -4.489435   \n",
              "25%     47920.500000   -2.871640   -0.123740   -5.120349   -0.147344   \n",
              "50%     82261.500000   -0.722094    1.052431   -1.374622    1.307692   \n",
              "75%    135096.750000    0.966825    2.845852    0.297566    4.263602   \n",
              "max    172127.000000    2.371668   22.057729    3.177620   12.114672   \n",
              "\n",
              "               V5          V6          V7          V8          V9  ...  \\\n",
              "count  984.000000  984.000000  984.000000  984.000000  984.000000  ...   \n",
              "mean    -1.594282   -0.695637   -2.750963    0.269140   -1.312727  ...   \n",
              "std      4.197016    1.737908    5.885872    4.930282    2.317911  ...   \n",
              "min    -22.105532   -6.406267  -43.557242  -41.044261  -13.434066  ...   \n",
              "25%     -1.803200   -1.586631   -3.060742   -0.202834   -2.329244  ...   \n",
              "50%     -0.414741   -0.637103   -0.583806    0.156026   -0.740148  ...   \n",
              "75%      0.453313    0.101474    0.288724    0.853411    0.129645  ...   \n",
              "max     11.095089    6.474115   11.464551   20.007208    5.145655  ...   \n",
              "\n",
              "              V20         V21         V22         V23         V24         V25  \\\n",
              "count  984.000000  984.000000  984.000000  984.000000  984.000000  984.000000   \n",
              "mean     0.180271    0.337988    0.019320   -0.040339   -0.055949   -0.009732   \n",
              "std      1.198540    2.808640    1.186381    1.281960    0.582219    0.683445   \n",
              "min    -17.414483  -22.797604   -8.887017  -19.254328   -2.403191   -4.781606   \n",
              "25%     -0.178192   -0.161507   -0.541855   -0.221540   -0.401705   -0.354275   \n",
              "50%      0.030550    0.154291    0.029730   -0.031383   -0.003756    0.020855   \n",
              "75%      0.433138    0.641307    0.615180    0.174422    0.377877    0.374079   \n",
              "max     11.059004   27.202839    8.361985    5.466230    3.962197    2.208209   \n",
              "\n",
              "              V26         V27         V28       Amount  \n",
              "count  984.000000  984.000000  984.000000   984.000000  \n",
              "mean     0.047162    0.087090    0.035511   102.709604  \n",
              "std      0.487655    1.039470    0.428068   233.807403  \n",
              "min     -1.224085   -7.263482   -1.885448     0.000000  \n",
              "25%     -0.277708   -0.064928   -0.062666     1.790000  \n",
              "50%     -0.004840    0.050805    0.035824    18.480000  \n",
              "75%      0.363205    0.464387    0.224257    99.990000  \n",
              "max      3.067907    5.002832    1.779364  2251.000000  \n",
              "\n",
              "[8 rows x 30 columns]"
            ],
            "text/html": [
              "\n",
              "  <div id=\"df-29587d27-2b6b-482f-99b6-4c68a8ddc24c\">\n",
              "    <div class=\"colab-df-container\">\n",
              "      <div>\n",
              "<style scoped>\n",
              "    .dataframe tbody tr th:only-of-type {\n",
              "        vertical-align: middle;\n",
              "    }\n",
              "\n",
              "    .dataframe tbody tr th {\n",
              "        vertical-align: top;\n",
              "    }\n",
              "\n",
              "    .dataframe thead th {\n",
              "        text-align: right;\n",
              "    }\n",
              "</style>\n",
              "<table border=\"1\" class=\"dataframe\">\n",
              "  <thead>\n",
              "    <tr style=\"text-align: right;\">\n",
              "      <th></th>\n",
              "      <th>Time</th>\n",
              "      <th>V1</th>\n",
              "      <th>V2</th>\n",
              "      <th>V3</th>\n",
              "      <th>V4</th>\n",
              "      <th>V5</th>\n",
              "      <th>V6</th>\n",
              "      <th>V7</th>\n",
              "      <th>V8</th>\n",
              "      <th>V9</th>\n",
              "      <th>...</th>\n",
              "      <th>V20</th>\n",
              "      <th>V21</th>\n",
              "      <th>V22</th>\n",
              "      <th>V23</th>\n",
              "      <th>V24</th>\n",
              "      <th>V25</th>\n",
              "      <th>V26</th>\n",
              "      <th>V27</th>\n",
              "      <th>V28</th>\n",
              "      <th>Amount</th>\n",
              "    </tr>\n",
              "  </thead>\n",
              "  <tbody>\n",
              "    <tr>\n",
              "      <th>count</th>\n",
              "      <td>984.000000</td>\n",
              "      <td>984.000000</td>\n",
              "      <td>984.000000</td>\n",
              "      <td>984.000000</td>\n",
              "      <td>984.000000</td>\n",
              "      <td>984.000000</td>\n",
              "      <td>984.000000</td>\n",
              "      <td>984.000000</td>\n",
              "      <td>984.000000</td>\n",
              "      <td>984.000000</td>\n",
              "      <td>...</td>\n",
              "      <td>984.000000</td>\n",
              "      <td>984.000000</td>\n",
              "      <td>984.000000</td>\n",
              "      <td>984.000000</td>\n",
              "      <td>984.000000</td>\n",
              "      <td>984.000000</td>\n",
              "      <td>984.000000</td>\n",
              "      <td>984.000000</td>\n",
              "      <td>984.000000</td>\n",
              "      <td>984.000000</td>\n",
              "    </tr>\n",
              "    <tr>\n",
              "      <th>mean</th>\n",
              "      <td>89207.248984</td>\n",
              "      <td>-2.409852</td>\n",
              "      <td>1.886686</td>\n",
              "      <td>-3.549321</td>\n",
              "      <td>2.270697</td>\n",
              "      <td>-1.594282</td>\n",
              "      <td>-0.695637</td>\n",
              "      <td>-2.750963</td>\n",
              "      <td>0.269140</td>\n",
              "      <td>-1.312727</td>\n",
              "      <td>...</td>\n",
              "      <td>0.180271</td>\n",
              "      <td>0.337988</td>\n",
              "      <td>0.019320</td>\n",
              "      <td>-0.040339</td>\n",
              "      <td>-0.055949</td>\n",
              "      <td>-0.009732</td>\n",
              "      <td>0.047162</td>\n",
              "      <td>0.087090</td>\n",
              "      <td>0.035511</td>\n",
              "      <td>102.709604</td>\n",
              "    </tr>\n",
              "    <tr>\n",
              "      <th>std</th>\n",
              "      <td>47961.134144</td>\n",
              "      <td>5.557005</td>\n",
              "      <td>3.700762</td>\n",
              "      <td>6.203725</td>\n",
              "      <td>3.207255</td>\n",
              "      <td>4.197016</td>\n",
              "      <td>1.737908</td>\n",
              "      <td>5.885872</td>\n",
              "      <td>4.930282</td>\n",
              "      <td>2.317911</td>\n",
              "      <td>...</td>\n",
              "      <td>1.198540</td>\n",
              "      <td>2.808640</td>\n",
              "      <td>1.186381</td>\n",
              "      <td>1.281960</td>\n",
              "      <td>0.582219</td>\n",
              "      <td>0.683445</td>\n",
              "      <td>0.487655</td>\n",
              "      <td>1.039470</td>\n",
              "      <td>0.428068</td>\n",
              "      <td>233.807403</td>\n",
              "    </tr>\n",
              "    <tr>\n",
              "      <th>min</th>\n",
              "      <td>209.000000</td>\n",
              "      <td>-30.552380</td>\n",
              "      <td>-24.726002</td>\n",
              "      <td>-31.103685</td>\n",
              "      <td>-4.489435</td>\n",
              "      <td>-22.105532</td>\n",
              "      <td>-6.406267</td>\n",
              "      <td>-43.557242</td>\n",
              "      <td>-41.044261</td>\n",
              "      <td>-13.434066</td>\n",
              "      <td>...</td>\n",
              "      <td>-17.414483</td>\n",
              "      <td>-22.797604</td>\n",
              "      <td>-8.887017</td>\n",
              "      <td>-19.254328</td>\n",
              "      <td>-2.403191</td>\n",
              "      <td>-4.781606</td>\n",
              "      <td>-1.224085</td>\n",
              "      <td>-7.263482</td>\n",
              "      <td>-1.885448</td>\n",
              "      <td>0.000000</td>\n",
              "    </tr>\n",
              "    <tr>\n",
              "      <th>25%</th>\n",
              "      <td>47920.500000</td>\n",
              "      <td>-2.871640</td>\n",
              "      <td>-0.123740</td>\n",
              "      <td>-5.120349</td>\n",
              "      <td>-0.147344</td>\n",
              "      <td>-1.803200</td>\n",
              "      <td>-1.586631</td>\n",
              "      <td>-3.060742</td>\n",
              "      <td>-0.202834</td>\n",
              "      <td>-2.329244</td>\n",
              "      <td>...</td>\n",
              "      <td>-0.178192</td>\n",
              "      <td>-0.161507</td>\n",
              "      <td>-0.541855</td>\n",
              "      <td>-0.221540</td>\n",
              "      <td>-0.401705</td>\n",
              "      <td>-0.354275</td>\n",
              "      <td>-0.277708</td>\n",
              "      <td>-0.064928</td>\n",
              "      <td>-0.062666</td>\n",
              "      <td>1.790000</td>\n",
              "    </tr>\n",
              "    <tr>\n",
              "      <th>50%</th>\n",
              "      <td>82261.500000</td>\n",
              "      <td>-0.722094</td>\n",
              "      <td>1.052431</td>\n",
              "      <td>-1.374622</td>\n",
              "      <td>1.307692</td>\n",
              "      <td>-0.414741</td>\n",
              "      <td>-0.637103</td>\n",
              "      <td>-0.583806</td>\n",
              "      <td>0.156026</td>\n",
              "      <td>-0.740148</td>\n",
              "      <td>...</td>\n",
              "      <td>0.030550</td>\n",
              "      <td>0.154291</td>\n",
              "      <td>0.029730</td>\n",
              "      <td>-0.031383</td>\n",
              "      <td>-0.003756</td>\n",
              "      <td>0.020855</td>\n",
              "      <td>-0.004840</td>\n",
              "      <td>0.050805</td>\n",
              "      <td>0.035824</td>\n",
              "      <td>18.480000</td>\n",
              "    </tr>\n",
              "    <tr>\n",
              "      <th>75%</th>\n",
              "      <td>135096.750000</td>\n",
              "      <td>0.966825</td>\n",
              "      <td>2.845852</td>\n",
              "      <td>0.297566</td>\n",
              "      <td>4.263602</td>\n",
              "      <td>0.453313</td>\n",
              "      <td>0.101474</td>\n",
              "      <td>0.288724</td>\n",
              "      <td>0.853411</td>\n",
              "      <td>0.129645</td>\n",
              "      <td>...</td>\n",
              "      <td>0.433138</td>\n",
              "      <td>0.641307</td>\n",
              "      <td>0.615180</td>\n",
              "      <td>0.174422</td>\n",
              "      <td>0.377877</td>\n",
              "      <td>0.374079</td>\n",
              "      <td>0.363205</td>\n",
              "      <td>0.464387</td>\n",
              "      <td>0.224257</td>\n",
              "      <td>99.990000</td>\n",
              "    </tr>\n",
              "    <tr>\n",
              "      <th>max</th>\n",
              "      <td>172127.000000</td>\n",
              "      <td>2.371668</td>\n",
              "      <td>22.057729</td>\n",
              "      <td>3.177620</td>\n",
              "      <td>12.114672</td>\n",
              "      <td>11.095089</td>\n",
              "      <td>6.474115</td>\n",
              "      <td>11.464551</td>\n",
              "      <td>20.007208</td>\n",
              "      <td>5.145655</td>\n",
              "      <td>...</td>\n",
              "      <td>11.059004</td>\n",
              "      <td>27.202839</td>\n",
              "      <td>8.361985</td>\n",
              "      <td>5.466230</td>\n",
              "      <td>3.962197</td>\n",
              "      <td>2.208209</td>\n",
              "      <td>3.067907</td>\n",
              "      <td>5.002832</td>\n",
              "      <td>1.779364</td>\n",
              "      <td>2251.000000</td>\n",
              "    </tr>\n",
              "  </tbody>\n",
              "</table>\n",
              "<p>8 rows × 30 columns</p>\n",
              "</div>\n",
              "      <button class=\"colab-df-convert\" onclick=\"convertToInteractive('df-29587d27-2b6b-482f-99b6-4c68a8ddc24c')\"\n",
              "              title=\"Convert this dataframe to an interactive table.\"\n",
              "              style=\"display:none;\">\n",
              "        \n",
              "  <svg xmlns=\"http://www.w3.org/2000/svg\" height=\"24px\"viewBox=\"0 0 24 24\"\n",
              "       width=\"24px\">\n",
              "    <path d=\"M0 0h24v24H0V0z\" fill=\"none\"/>\n",
              "    <path d=\"M18.56 5.44l.94 2.06.94-2.06 2.06-.94-2.06-.94-.94-2.06-.94 2.06-2.06.94zm-11 1L8.5 8.5l.94-2.06 2.06-.94-2.06-.94L8.5 2.5l-.94 2.06-2.06.94zm10 10l.94 2.06.94-2.06 2.06-.94-2.06-.94-.94-2.06-.94 2.06-2.06.94z\"/><path d=\"M17.41 7.96l-1.37-1.37c-.4-.4-.92-.59-1.43-.59-.52 0-1.04.2-1.43.59L10.3 9.45l-7.72 7.72c-.78.78-.78 2.05 0 2.83L4 21.41c.39.39.9.59 1.41.59.51 0 1.02-.2 1.41-.59l7.78-7.78 2.81-2.81c.8-.78.8-2.07 0-2.86zM5.41 20L4 18.59l7.72-7.72 1.47 1.35L5.41 20z\"/>\n",
              "  </svg>\n",
              "      </button>\n",
              "      \n",
              "  <style>\n",
              "    .colab-df-container {\n",
              "      display:flex;\n",
              "      flex-wrap:wrap;\n",
              "      gap: 12px;\n",
              "    }\n",
              "\n",
              "    .colab-df-convert {\n",
              "      background-color: #E8F0FE;\n",
              "      border: none;\n",
              "      border-radius: 50%;\n",
              "      cursor: pointer;\n",
              "      display: none;\n",
              "      fill: #1967D2;\n",
              "      height: 32px;\n",
              "      padding: 0 0 0 0;\n",
              "      width: 32px;\n",
              "    }\n",
              "\n",
              "    .colab-df-convert:hover {\n",
              "      background-color: #E2EBFA;\n",
              "      box-shadow: 0px 1px 2px rgba(60, 64, 67, 0.3), 0px 1px 3px 1px rgba(60, 64, 67, 0.15);\n",
              "      fill: #174EA6;\n",
              "    }\n",
              "\n",
              "    [theme=dark] .colab-df-convert {\n",
              "      background-color: #3B4455;\n",
              "      fill: #D2E3FC;\n",
              "    }\n",
              "\n",
              "    [theme=dark] .colab-df-convert:hover {\n",
              "      background-color: #434B5C;\n",
              "      box-shadow: 0px 1px 3px 1px rgba(0, 0, 0, 0.15);\n",
              "      filter: drop-shadow(0px 1px 2px rgba(0, 0, 0, 0.3));\n",
              "      fill: #FFFFFF;\n",
              "    }\n",
              "  </style>\n",
              "\n",
              "      <script>\n",
              "        const buttonEl =\n",
              "          document.querySelector('#df-29587d27-2b6b-482f-99b6-4c68a8ddc24c button.colab-df-convert');\n",
              "        buttonEl.style.display =\n",
              "          google.colab.kernel.accessAllowed ? 'block' : 'none';\n",
              "\n",
              "        async function convertToInteractive(key) {\n",
              "          const element = document.querySelector('#df-29587d27-2b6b-482f-99b6-4c68a8ddc24c');\n",
              "          const dataTable =\n",
              "            await google.colab.kernel.invokeFunction('convertToInteractive',\n",
              "                                                     [key], {});\n",
              "          if (!dataTable) return;\n",
              "\n",
              "          const docLinkHtml = 'Like what you see? Visit the ' +\n",
              "            '<a target=\"_blank\" href=https://colab.research.google.com/notebooks/data_table.ipynb>data table notebook</a>'\n",
              "            + ' to learn more about interactive tables.';\n",
              "          element.innerHTML = '';\n",
              "          dataTable['output_type'] = 'display_data';\n",
              "          await google.colab.output.renderOutput(dataTable, element);\n",
              "          const docLink = document.createElement('div');\n",
              "          docLink.innerHTML = docLinkHtml;\n",
              "          element.appendChild(docLink);\n",
              "        }\n",
              "      </script>\n",
              "    </div>\n",
              "  </div>\n",
              "  "
            ]
          },
          "metadata": {},
          "execution_count": 102
        }
      ]
    },
    {
      "cell_type": "code",
      "source": [
        "sns.distplot(df['Time'])"
      ],
      "metadata": {
        "colab": {
          "base_uri": "https://localhost:8080/",
          "height": 342
        },
        "id": "rlWXwIxp9Xq5",
        "outputId": "3548548d-fae4-4273-da4d-5e47939c204f"
      },
      "execution_count": 103,
      "outputs": [
        {
          "output_type": "execute_result",
          "data": {
            "text/plain": [
              "<matplotlib.axes._subplots.AxesSubplot at 0x7f3653be46d0>"
            ]
          },
          "metadata": {},
          "execution_count": 103
        },
        {
          "output_type": "display_data",
          "data": {
            "text/plain": [
              "<Figure size 432x288 with 1 Axes>"
            ],
            "image/png": "[encoded data removed]"
          },
          "metadata": {}
        }
      ]
    },
    {
      "cell_type": "code",
      "source": [
        "# Amount Feature\n",
        "df['Amount'].describe()"
      ],
      "metadata": {
        "colab": {
          "base_uri": "https://localhost:8080/"
        },
        "id": "QElZD0VuChYv",
        "outputId": "da8a904d-45e1-4465-b1fb-d0fc9ceb1778"
      },
      "execution_count": 104,
      "outputs": [
        {
          "output_type": "execute_result",
          "data": {
            "text/plain": [
              "count     984.000000\n",
              "mean      102.709604\n",
              "std       233.807403\n",
              "min         0.000000\n",
              "25%         1.790000\n",
              "50%        18.480000\n",
              "75%        99.990000\n",
              "max      2251.000000\n",
              "Name: Amount, dtype: float64"
            ]
          },
          "metadata": {},
          "execution_count": 104
        }
      ]
    },
    {
      "cell_type": "code",
      "source": [
        "# Checking correlation\n",
        "df_corr = df.corr()\n",
        "plt.figure(figsize=(15,10))\n",
        "sns.heatmap(df_corr, cmap=\"YlGnBu\") # Displaying the Heatmap\n",
        "sns.set(font_scale=2,style='white')\n",
        "\n",
        "plt.title('Heatmap correlation')\n",
        "plt.show()"
      ],
      "metadata": {
        "colab": {
          "base_uri": "https://localhost:8080/",
          "height": 629
        },
        "id": "RZ9x6p2O-kap",
        "outputId": "b53c3770-134b-4d52-c914-82c39a10c694"
      },
      "execution_count": 105,
      "outputs": [
        {
          "output_type": "display_data",
          "data": {
            "text/plain": [
              "<Figure size 1080x720 with 2 Axes>"
            ],
            "image/png": "[encoded data removed]"
          },
          "metadata": {}
        }
      ]
    },
    {
      "cell_type": "markdown",
      "source": [
        "Not much correlation can be found between the features"
      ],
      "metadata": {
        "id": "SRPJsvRV-0UD"
      }
    },
    {
      "cell_type": "markdown",
      "source": [
        "#Preprocessing"
      ],
      "metadata": {
        "id": "Ly2n2T8-p9FS"
      }
    },
    {
      "cell_type": "code",
      "source": [
        "# Checking the datasets\n",
        "df.head()"
      ],
      "metadata": {
        "colab": {
          "base_uri": "https://localhost:8080/",
          "height": 300
        },
        "id": "xNtw9Oxb6tnK",
        "outputId": "2ba960f2-4468-40ee-a271-21f5507d8477"
      },
      "execution_count": 106,
      "outputs": [
        {
          "output_type": "execute_result",
          "data": {
            "text/plain": [
              "       Time        V1        V2        V3        V4        V5        V6  \\\n",
              "0   64335.0 -0.305756  1.377713  1.897489  1.868894  0.300767 -0.381387   \n",
              "1   66847.0 -0.692888  0.906936  0.998516  0.337213 -0.484549 -0.260004   \n",
              "2  165698.0  2.046614 -0.507649 -0.873595 -0.010728  0.006617  0.670893   \n",
              "3  148755.0 -0.284264  0.814399 -0.022015 -0.870940  0.743063 -1.189060   \n",
              "4   76661.0  1.050730  0.025153  0.469603  1.356533 -0.277387  0.015871   \n",
              "\n",
              "         V7        V8        V9  ...       V20       V21       V22       V23  \\\n",
              "0  0.833165 -0.072738 -1.460397  ... -0.022456 -0.253754 -0.816919  0.048859   \n",
              "1  0.475590  0.412192 -0.741779  ...  0.068462 -0.016910 -0.303847  0.347729   \n",
              "2 -0.805199  0.232236  1.004667  ... -0.132735  0.218521  0.765686  0.012904   \n",
              "3  1.163223 -0.125874 -0.325358  ... -0.153901  0.318012  0.817843 -0.308392   \n",
              "4 -0.032914  0.144827  0.107913  ... -0.166921 -0.026115  0.028610 -0.067990   \n",
              "\n",
              "        V24       V25       V26       V27       V28  Amount  \n",
              "0  0.346888 -0.240657 -0.408221  0.027154  0.039250    5.29  \n",
              "1  0.073374 -0.778315  0.223332 -0.016316  0.101308   88.14  \n",
              "2 -0.288878 -0.089631  0.656175 -0.034918 -0.063785    5.99  \n",
              "3 -0.020419  0.349674 -0.230532  0.002598  0.034062   38.84  \n",
              "4  0.216724  0.573875 -0.343314  0.026878  0.011528   37.44  \n",
              "\n",
              "[5 rows x 30 columns]"
            ],
            "text/html": [
              "\n",
              "  <div id=\"df-ea4daf18-d3e5-4acb-90d0-98beb4e786b4\">\n",
              "    <div class=\"colab-df-container\">\n",
              "      <div>\n",
              "<style scoped>\n",
              "    .dataframe tbody tr th:only-of-type {\n",
              "        vertical-align: middle;\n",
              "    }\n",
              "\n",
              "    .dataframe tbody tr th {\n",
              "        vertical-align: top;\n",
              "    }\n",
              "\n",
              "    .dataframe thead th {\n",
              "        text-align: right;\n",
              "    }\n",
              "</style>\n",
              "<table border=\"1\" class=\"dataframe\">\n",
              "  <thead>\n",
              "    <tr style=\"text-align: right;\">\n",
              "      <th></th>\n",
              "      <th>Time</th>\n",
              "      <th>V1</th>\n",
              "      <th>V2</th>\n",
              "      <th>V3</th>\n",
              "      <th>V4</th>\n",
              "      <th>V5</th>\n",
              "      <th>V6</th>\n",
              "      <th>V7</th>\n",
              "      <th>V8</th>\n",
              "      <th>V9</th>\n",
              "      <th>...</th>\n",
              "      <th>V20</th>\n",
              "      <th>V21</th>\n",
              "      <th>V22</th>\n",
              "      <th>V23</th>\n",
              "      <th>V24</th>\n",
              "      <th>V25</th>\n",
              "      <th>V26</th>\n",
              "      <th>V27</th>\n",
              "      <th>V28</th>\n",
              "      <th>Amount</th>\n",
              "    </tr>\n",
              "  </thead>\n",
              "  <tbody>\n",
              "    <tr>\n",
              "      <th>0</th>\n",
              "      <td>64335.0</td>\n",
              "      <td>-0.305756</td>\n",
              "      <td>1.377713</td>\n",
              "      <td>1.897489</td>\n",
              "      <td>1.868894</td>\n",
              "      <td>0.300767</td>\n",
              "      <td>-0.381387</td>\n",
              "      <td>0.833165</td>\n",
              "      <td>-0.072738</td>\n",
              "      <td>-1.460397</td>\n",
              "      <td>...</td>\n",
              "      <td>-0.022456</td>\n",
              "      <td>-0.253754</td>\n",
              "      <td>-0.816919</td>\n",
              "      <td>0.048859</td>\n",
              "      <td>0.346888</td>\n",
              "      <td>-0.240657</td>\n",
              "      <td>-0.408221</td>\n",
              "      <td>0.027154</td>\n",
              "      <td>0.039250</td>\n",
              "      <td>5.29</td>\n",
              "    </tr>\n",
              "    <tr>\n",
              "      <th>1</th>\n",
              "      <td>66847.0</td>\n",
              "      <td>-0.692888</td>\n",
              "      <td>0.906936</td>\n",
              "      <td>0.998516</td>\n",
              "      <td>0.337213</td>\n",
              "      <td>-0.484549</td>\n",
              "      <td>-0.260004</td>\n",
              "      <td>0.475590</td>\n",
              "      <td>0.412192</td>\n",
              "      <td>-0.741779</td>\n",
              "      <td>...</td>\n",
              "      <td>0.068462</td>\n",
              "      <td>-0.016910</td>\n",
              "      <td>-0.303847</td>\n",
              "      <td>0.347729</td>\n",
              "      <td>0.073374</td>\n",
              "      <td>-0.778315</td>\n",
              "      <td>0.223332</td>\n",
              "      <td>-0.016316</td>\n",
              "      <td>0.101308</td>\n",
              "      <td>88.14</td>\n",
              "    </tr>\n",
              "    <tr>\n",
              "      <th>2</th>\n",
              "      <td>165698.0</td>\n",
              "      <td>2.046614</td>\n",
              "      <td>-0.507649</td>\n",
              "      <td>-0.873595</td>\n",
              "      <td>-0.010728</td>\n",
              "      <td>0.006617</td>\n",
              "      <td>0.670893</td>\n",
              "      <td>-0.805199</td>\n",
              "      <td>0.232236</td>\n",
              "      <td>1.004667</td>\n",
              "      <td>...</td>\n",
              "      <td>-0.132735</td>\n",
              "      <td>0.218521</td>\n",
              "      <td>0.765686</td>\n",
              "      <td>0.012904</td>\n",
              "      <td>-0.288878</td>\n",
              "      <td>-0.089631</td>\n",
              "      <td>0.656175</td>\n",
              "      <td>-0.034918</td>\n",
              "      <td>-0.063785</td>\n",
              "      <td>5.99</td>\n",
              "    </tr>\n",
              "    <tr>\n",
              "      <th>3</th>\n",
              "      <td>148755.0</td>\n",
              "      <td>-0.284264</td>\n",
              "      <td>0.814399</td>\n",
              "      <td>-0.022015</td>\n",
              "      <td>-0.870940</td>\n",
              "      <td>0.743063</td>\n",
              "      <td>-1.189060</td>\n",
              "      <td>1.163223</td>\n",
              "      <td>-0.125874</td>\n",
              "      <td>-0.325358</td>\n",
              "      <td>...</td>\n",
              "      <td>-0.153901</td>\n",
              "      <td>0.318012</td>\n",
              "      <td>0.817843</td>\n",
              "      <td>-0.308392</td>\n",
              "      <td>-0.020419</td>\n",
              "      <td>0.349674</td>\n",
              "      <td>-0.230532</td>\n",
              "      <td>0.002598</td>\n",
              "      <td>0.034062</td>\n",
              "      <td>38.84</td>\n",
              "    </tr>\n",
              "    <tr>\n",
              "      <th>4</th>\n",
              "      <td>76661.0</td>\n",
              "      <td>1.050730</td>\n",
              "      <td>0.025153</td>\n",
              "      <td>0.469603</td>\n",
              "      <td>1.356533</td>\n",
              "      <td>-0.277387</td>\n",
              "      <td>0.015871</td>\n",
              "      <td>-0.032914</td>\n",
              "      <td>0.144827</td>\n",
              "      <td>0.107913</td>\n",
              "      <td>...</td>\n",
              "      <td>-0.166921</td>\n",
              "      <td>-0.026115</td>\n",
              "      <td>0.028610</td>\n",
              "      <td>-0.067990</td>\n",
              "      <td>0.216724</td>\n",
              "      <td>0.573875</td>\n",
              "      <td>-0.343314</td>\n",
              "      <td>0.026878</td>\n",
              "      <td>0.011528</td>\n",
              "      <td>37.44</td>\n",
              "    </tr>\n",
              "  </tbody>\n",
              "</table>\n",
              "<p>5 rows × 30 columns</p>\n",
              "</div>\n",
              "      <button class=\"colab-df-convert\" onclick=\"convertToInteractive('df-ea4daf18-d3e5-4acb-90d0-98beb4e786b4')\"\n",
              "              title=\"Convert this dataframe to an interactive table.\"\n",
              "              style=\"display:none;\">\n",
              "        \n",
              "  <svg xmlns=\"http://www.w3.org/2000/svg\" height=\"24px\"viewBox=\"0 0 24 24\"\n",
              "       width=\"24px\">\n",
              "    <path d=\"M0 0h24v24H0V0z\" fill=\"none\"/>\n",
              "    <path d=\"M18.56 5.44l.94 2.06.94-2.06 2.06-.94-2.06-.94-.94-2.06-.94 2.06-2.06.94zm-11 1L8.5 8.5l.94-2.06 2.06-.94-2.06-.94L8.5 2.5l-.94 2.06-2.06.94zm10 10l.94 2.06.94-2.06 2.06-.94-2.06-.94-.94-2.06-.94 2.06-2.06.94z\"/><path d=\"M17.41 7.96l-1.37-1.37c-.4-.4-.92-.59-1.43-.59-.52 0-1.04.2-1.43.59L10.3 9.45l-7.72 7.72c-.78.78-.78 2.05 0 2.83L4 21.41c.39.39.9.59 1.41.59.51 0 1.02-.2 1.41-.59l7.78-7.78 2.81-2.81c.8-.78.8-2.07 0-2.86zM5.41 20L4 18.59l7.72-7.72 1.47 1.35L5.41 20z\"/>\n",
              "  </svg>\n",
              "      </button>\n",
              "      \n",
              "  <style>\n",
              "    .colab-df-container {\n",
              "      display:flex;\n",
              "      flex-wrap:wrap;\n",
              "      gap: 12px;\n",
              "    }\n",
              "\n",
              "    .colab-df-convert {\n",
              "      background-color: #E8F0FE;\n",
              "      border: none;\n",
              "      border-radius: 50%;\n",
              "      cursor: pointer;\n",
              "      display: none;\n",
              "      fill: #1967D2;\n",
              "      height: 32px;\n",
              "      padding: 0 0 0 0;\n",
              "      width: 32px;\n",
              "    }\n",
              "\n",
              "    .colab-df-convert:hover {\n",
              "      background-color: #E2EBFA;\n",
              "      box-shadow: 0px 1px 2px rgba(60, 64, 67, 0.3), 0px 1px 3px 1px rgba(60, 64, 67, 0.15);\n",
              "      fill: #174EA6;\n",
              "    }\n",
              "\n",
              "    [theme=dark] .colab-df-convert {\n",
              "      background-color: #3B4455;\n",
              "      fill: #D2E3FC;\n",
              "    }\n",
              "\n",
              "    [theme=dark] .colab-df-convert:hover {\n",
              "      background-color: #434B5C;\n",
              "      box-shadow: 0px 1px 3px 1px rgba(0, 0, 0, 0.15);\n",
              "      filter: drop-shadow(0px 1px 2px rgba(0, 0, 0, 0.3));\n",
              "      fill: #FFFFFF;\n",
              "    }\n",
              "  </style>\n",
              "\n",
              "      <script>\n",
              "        const buttonEl =\n",
              "          document.querySelector('#df-ea4daf18-d3e5-4acb-90d0-98beb4e786b4 button.colab-df-convert');\n",
              "        buttonEl.style.display =\n",
              "          google.colab.kernel.accessAllowed ? 'block' : 'none';\n",
              "\n",
              "        async function convertToInteractive(key) {\n",
              "          const element = document.querySelector('#df-ea4daf18-d3e5-4acb-90d0-98beb4e786b4');\n",
              "          const dataTable =\n",
              "            await google.colab.kernel.invokeFunction('convertToInteractive',\n",
              "                                                     [key], {});\n",
              "          if (!dataTable) return;\n",
              "\n",
              "          const docLinkHtml = 'Like what you see? Visit the ' +\n",
              "            '<a target=\"_blank\" href=https://colab.research.google.com/notebooks/data_table.ipynb>data table notebook</a>'\n",
              "            + ' to learn more about interactive tables.';\n",
              "          element.innerHTML = '';\n",
              "          dataTable['output_type'] = 'display_data';\n",
              "          await google.colab.output.renderOutput(dataTable, element);\n",
              "          const docLink = document.createElement('div');\n",
              "          docLink.innerHTML = docLinkHtml;\n",
              "          element.appendChild(docLink);\n",
              "        }\n",
              "      </script>\n",
              "    </div>\n",
              "  </div>\n",
              "  "
            ]
          },
          "metadata": {},
          "execution_count": 106
        }
      ]
    },
    {
      "cell_type": "markdown",
      "source": [
        "We know that time and amount feature requires normalization from the previous analysis"
      ],
      "metadata": {
        "id": "-fM1hHwiDWSR"
      }
    },
    {
      "cell_type": "code",
      "source": [
        "from sklearn.preprocessing import StandardScaler\n",
        "\n",
        "df = StandardScaler().fit_transform(df)"
      ],
      "metadata": {
        "id": "xqiiJPFRDYvF"
      },
      "execution_count": 107,
      "outputs": []
    },
    {
      "cell_type": "markdown",
      "source": [
        "## Splitting dataset"
      ],
      "metadata": {
        "id": "fNoPgBQCFS-W"
      }
    },
    {
      "cell_type": "code",
      "source": [
        "from sklearn.model_selection import train_test_split\n",
        "\n",
        "X_train, X_test, y_train, y_test = train_test_split(df, y, test_size=0.2, stratify = y)\n",
        "# X_train, X_test, y_train, y_test = train_test_split(df, y, test_size=0.2)"
      ],
      "metadata": {
        "id": "kdLPscVHFSm1"
      },
      "execution_count": 108,
      "outputs": []
    },
    {
      "cell_type": "markdown",
      "source": [
        "### Checking distribution after split"
      ],
      "metadata": {
        "id": "N-YbVofFKga3"
      }
    },
    {
      "cell_type": "code",
      "source": [
        "unique, counts = np.unique(y_train, return_counts=True)\n",
        "\n",
        "result = np.column_stack((unique, counts)) \n",
        "print(result)"
      ],
      "metadata": {
        "colab": {
          "base_uri": "https://localhost:8080/"
        },
        "id": "IVCjTNjQKVgi",
        "outputId": "473d5083-5c2e-4c07-fbd7-b1ed013764b4"
      },
      "execution_count": 109,
      "outputs": [
        {
          "output_type": "stream",
          "name": "stdout",
          "text": [
            "[[  0 393]\n",
            " [  1 394]]\n"
          ]
        }
      ]
    },
    {
      "cell_type": "code",
      "source": [
        "unique, counts = np.unique(y_test, return_counts=True)\n",
        "\n",
        "result = np.column_stack((unique, counts)) \n",
        "print (result)"
      ],
      "metadata": {
        "colab": {
          "base_uri": "https://localhost:8080/"
        },
        "id": "zPWJKY35KY8N",
        "outputId": "464a2ab3-6747-412f-a0ae-ed8bafa66ad9"
      },
      "execution_count": 110,
      "outputs": [
        {
          "output_type": "stream",
          "name": "stdout",
          "text": [
            "[[ 0 99]\n",
            " [ 1 98]]\n"
          ]
        }
      ]
    },
    {
      "cell_type": "markdown",
      "source": [
        "# Implementing algorithms"
      ],
      "metadata": {
        "id": "7S5MfIkpGsC5"
      }
    },
    {
      "cell_type": "code",
      "source": [
        "# Libraries for metrics for all algorithms\n",
        "from sklearn.metrics import confusion_matrix, precision_recall_curve, classification_report, precision_score, recall_score, accuracy_score, ConfusionMatrixDisplay\n",
        "\n",
        "# Library for hyperparameter tuning\n",
        "from sklearn.model_selection import GridSearchCV"
      ],
      "metadata": {
        "id": "i4mO41pWHJLR"
      },
      "execution_count": 111,
      "outputs": []
    },
    {
      "cell_type": "markdown",
      "source": [
        "## Implementing Logistic Regression"
      ],
      "metadata": {
        "id": "eAx0NVh0GuZH"
      }
    },
    {
      "cell_type": "code",
      "source": [
        "from sklearn.linear_model import LogisticRegression\n",
        "\n",
        "logReg = LogisticRegression()"
      ],
      "metadata": {
        "id": "HKWubZLrFO5s"
      },
      "execution_count": 112,
      "outputs": []
    },
    {
      "cell_type": "markdown",
      "source": [
        "## Hyper parameter tuning"
      ],
      "metadata": {
        "id": "I-NWqVhOLgnK"
      }
    },
    {
      "cell_type": "code",
      "source": [
        "parameters = {'C':[1, 10], 'solver' : ('newton-cg', 'lbfgs', 'liblinear', 'sag', 'saga')}\n",
        "\n",
        "clf = GridSearchCV(logReg, parameters, n_jobs=-1, scoring=\"roc_auc\")\n",
        "clf.fit(X_train, y_train)\n"
      ],
      "metadata": {
        "colab": {
          "base_uri": "https://localhost:8080/"
        },
        "id": "Q2aw05xKLiaN",
        "outputId": "89dfb71d-d8d8-478c-8b51-e346cbf8d272"
      },
      "execution_count": 113,
      "outputs": [
        {
          "output_type": "execute_result",
          "data": {
            "text/plain": [
              "GridSearchCV(estimator=LogisticRegression(), n_jobs=-1,\n",
              "             param_grid={'C': [1, 10],\n",
              "                         'solver': ('newton-cg', 'lbfgs', 'liblinear', 'sag',\n",
              "                                    'saga')},\n",
              "             scoring='roc_auc')"
            ]
          },
          "metadata": {},
          "execution_count": 113
        }
      ]
    },
    {
      "cell_type": "code",
      "source": [
        "clf.best_estimator_"
      ],
      "metadata": {
        "colab": {
          "base_uri": "https://localhost:8080/"
        },
        "id": "dOQ1n9qcOgT7",
        "outputId": "777fff0e-a3e5-4ac6-b205-4c35786dbfbe"
      },
      "execution_count": 114,
      "outputs": [
        {
          "output_type": "execute_result",
          "data": {
            "text/plain": [
              "LogisticRegression(C=1, solver='saga')"
            ]
          },
          "metadata": {},
          "execution_count": 114
        }
      ]
    },
    {
      "cell_type": "code",
      "source": [
        "# Predicting with the best parameters\n",
        "y_pred = clf.predict(X_test)"
      ],
      "metadata": {
        "id": "d4uL_qGjQfju"
      },
      "execution_count": 115,
      "outputs": []
    },
    {
      "cell_type": "markdown",
      "source": [
        "### Metrics for Logistic Regression"
      ],
      "metadata": {
        "id": "pVMs5eHiHWBG"
      }
    },
    {
      "cell_type": "code",
      "source": [
        "print(classification_report(y_test, y_pred))\n",
        "\n",
        "conf_mat = confusion_matrix(y_test, y_pred)\n",
        "cm_display = ConfusionMatrixDisplay(conf_mat, display_labels=['Non-fraud', 'Fraud']).plot()\n",
        "plt.show()"
      ],
      "metadata": {
        "colab": {
          "base_uri": "https://localhost:8080/",
          "height": 462
        },
        "id": "a75gNFKNHNsC",
        "outputId": "ae77608d-c3ac-49a1-e95c-55bea980a899"
      },
      "execution_count": 116,
      "outputs": [
        {
          "output_type": "stream",
          "name": "stdout",
          "text": [
            "              precision    recall  f1-score   support\n",
            "\n",
            "           0       0.92      0.98      0.95        99\n",
            "           1       0.98      0.92      0.95        98\n",
            "\n",
            "    accuracy                           0.95       197\n",
            "   macro avg       0.95      0.95      0.95       197\n",
            "weighted avg       0.95      0.95      0.95       197\n",
            "\n"
          ]
        },
        {
          "output_type": "display_data",
          "data": {
            "text/plain": [
              "<Figure size 432x288 with 2 Axes>"
            ],
            "image/png": "[encoded data removed]"
          },
          "metadata": {}
        }
      ]
    },
    {
      "cell_type": "markdown",
      "source": [
        "## Implementing Support Vector Machine\n",
        "\n",
        "---\n",
        "\n"
      ],
      "metadata": {
        "id": "9AOuqbOtQ0p1"
      }
    },
    {
      "cell_type": "code",
      "source": [
        "from sklearn.svm import SVC\n",
        "\n",
        "svm = SVC()"
      ],
      "metadata": {
        "id": "tBI26w4zHR1i"
      },
      "execution_count": 117,
      "outputs": []
    },
    {
      "cell_type": "markdown",
      "source": [
        "### Hyperparameter Tuning"
      ],
      "metadata": {
        "id": "wJPBSpVgRDrY"
      }
    },
    {
      "cell_type": "code",
      "source": [
        "parameters = {'kernel':('linear', 'rbf'), 'C':[1, 5]}\n",
        "\n",
        "clf = GridSearchCV(svm, parameters, n_jobs=-1, scoring=\"roc_auc\")\n",
        "clf.fit(X_train, y_train)"
      ],
      "metadata": {
        "colab": {
          "base_uri": "https://localhost:8080/"
        },
        "id": "JYevrNjkRE_B",
        "outputId": "80ec803a-7fad-44df-90fd-910a1c10f6ad"
      },
      "execution_count": 118,
      "outputs": [
        {
          "output_type": "execute_result",
          "data": {
            "text/plain": [
              "GridSearchCV(estimator=SVC(), n_jobs=-1,\n",
              "             param_grid={'C': [1, 5], 'kernel': ('linear', 'rbf')},\n",
              "             scoring='roc_auc')"
            ]
          },
          "metadata": {},
          "execution_count": 118
        }
      ]
    },
    {
      "cell_type": "code",
      "source": [
        "# Predicting with the best parameters\n",
        "y_pred = clf.predict(X_test)"
      ],
      "metadata": {
        "id": "u2vM144-Rjve"
      },
      "execution_count": 119,
      "outputs": []
    },
    {
      "cell_type": "markdown",
      "source": [
        "## Metrics for Support Vector Machine"
      ],
      "metadata": {
        "id": "gKXD5RA6Rk27"
      }
    },
    {
      "cell_type": "code",
      "source": [
        "print(classification_report(y_test, y_pred))\n",
        "\n",
        "conf_mat = confusion_matrix(y_test, y_pred)\n",
        "cm_display = ConfusionMatrixDisplay(conf_mat, display_labels=['Non-fraud', 'Fraud']).plot()\n",
        "plt.show()"
      ],
      "metadata": {
        "colab": {
          "base_uri": "https://localhost:8080/",
          "height": 462
        },
        "id": "m3Ndv_gPRm-g",
        "outputId": "24b5a248-e63f-4330-e33f-d205e2fda11c"
      },
      "execution_count": 120,
      "outputs": [
        {
          "output_type": "stream",
          "name": "stdout",
          "text": [
            "              precision    recall  f1-score   support\n",
            "\n",
            "           0       0.90      0.98      0.94        99\n",
            "           1       0.98      0.89      0.93        98\n",
            "\n",
            "    accuracy                           0.93       197\n",
            "   macro avg       0.94      0.93      0.93       197\n",
            "weighted avg       0.94      0.93      0.93       197\n",
            "\n"
          ]
        },
        {
          "output_type": "display_data",
          "data": {
            "text/plain": [
              "<Figure size 432x288 with 2 Axes>"
            ],
            "image/png": "[encoded data removed]"
          },
          "metadata": {}
        }
      ]
    },
    {
      "cell_type": "markdown",
      "source": [
        "## Implementing Naive Bayes"
      ],
      "metadata": {
        "id": "pzxHFsmLLPLM"
      }
    },
    {
      "cell_type": "code",
      "source": [
        "from sklearn.naive_bayes import GaussianNB\n",
        "\n",
        "gnb = GaussianNB()"
      ],
      "metadata": {
        "id": "4c78ya--VH3v"
      },
      "execution_count": 121,
      "outputs": []
    },
    {
      "cell_type": "markdown",
      "source": [
        "### Training the model"
      ],
      "metadata": {
        "id": "AzG2ZsZHLXLa"
      }
    },
    {
      "cell_type": "code",
      "source": [
        "gnb.fit(X_train, y_train)\n",
        "y_pred = gnb.predict(X_test)"
      ],
      "metadata": {
        "id": "BprVN8MpL4kM"
      },
      "execution_count": 122,
      "outputs": []
    },
    {
      "cell_type": "markdown",
      "source": [
        "## Metrics for Naive Bayes"
      ],
      "metadata": {
        "id": "BvbO2ArEL_fV"
      }
    },
    {
      "cell_type": "code",
      "source": [
        "print(classification_report(y_test, y_pred))\n",
        "\n",
        "conf_mat = confusion_matrix(y_test, y_pred)\n",
        "cm_display = ConfusionMatrixDisplay(conf_mat, display_labels=['Non-fraud', 'Fraud']).plot()\n",
        "plt.show()"
      ],
      "metadata": {
        "colab": {
          "base_uri": "https://localhost:8080/",
          "height": 462
        },
        "id": "-iVuUWWdL9F7",
        "outputId": "1e089b18-9193-47a3-8709-60a36f36a830"
      },
      "execution_count": 123,
      "outputs": [
        {
          "output_type": "stream",
          "name": "stdout",
          "text": [
            "              precision    recall  f1-score   support\n",
            "\n",
            "           0       0.87      0.96      0.91        99\n",
            "           1       0.95      0.86      0.90        98\n",
            "\n",
            "    accuracy                           0.91       197\n",
            "   macro avg       0.91      0.91      0.91       197\n",
            "weighted avg       0.91      0.91      0.91       197\n",
            "\n"
          ]
        },
        {
          "output_type": "display_data",
          "data": {
            "text/plain": [
              "<Figure size 432x288 with 2 Axes>"
            ],
            "image/png": "[encoded data removed]"
          },
          "metadata": {}
        }
      ]
    },
    {
      "cell_type": "markdown",
      "source": [
        "## Implementing Random Forest\n",
        "\n"
      ],
      "metadata": {
        "id": "rEJRBP2xMaiz"
      }
    },
    {
      "cell_type": "code",
      "source": [
        "from sklearn.ensemble import RandomForestClassifier\n",
        "\n",
        "rdc = RandomForestClassifier(n_jobs=-1, max_depth = 20, verbose = 5)"
      ],
      "metadata": {
        "id": "VU_WlLtYMC9j"
      },
      "execution_count": 124,
      "outputs": []
    },
    {
      "cell_type": "markdown",
      "source": [
        "## Hyperparameter Tuning"
      ],
      "metadata": {
        "id": "7JJ5rV3LNp1I"
      }
    },
    {
      "cell_type": "code",
      "source": [
        "parameters = {'n_estimators':[100, 150]}\n",
        "\n",
        "clf = GridSearchCV(rdc, parameters, n_jobs=-1, scoring=\"roc_auc\")\n",
        "clf.fit(X_train, y_train)"
      ],
      "metadata": {
        "colab": {
          "base_uri": "https://localhost:8080/"
        },
        "id": "AkdHzjNKNrK3",
        "outputId": "94acb4ef-6a59-46dc-bea9-f0807e45c904"
      },
      "execution_count": 125,
      "outputs": [
        {
          "output_type": "stream",
          "name": "stderr",
          "text": [
            "[Parallel(n_jobs=-1)]: Using backend ThreadingBackend with 2 concurrent workers.\n",
            "[Parallel(n_jobs=-1)]: Done  14 tasks      | elapsed:    0.1s\n"
          ]
        },
        {
          "output_type": "stream",
          "name": "stdout",
          "text": [
            "building tree 1 of 150\n",
            "building tree 2 of 150\n",
            "building tree 3 of 150building tree 4 of 150\n",
            "\n",
            "building tree 5 of 150\n",
            "building tree 6 of 150building tree 7 of 150\n",
            "\n",
            "building tree 8 of 150building tree 9 of 150\n",
            "building tree 10 of 150\n",
            "\n",
            "building tree 11 of 150building tree 12 of 150\n",
            "\n",
            "building tree 13 of 150building tree 14 of 150\n",
            "\n",
            "building tree 15 of 150\n",
            "building tree 16 of 150\n",
            "building tree 17 of 150\n",
            "building tree 18 of 150\n",
            "building tree 19 of 150\n",
            "building tree 20 of 150\n",
            "building tree 21 of 150building tree 22 of 150\n",
            "building tree 23 of 150\n",
            "building tree 24 of 150\n",
            "building tree 25 of 150\n",
            "building tree 26 of 150\n",
            "building tree 27 of 150\n",
            "\n",
            "building tree 28 of 150\n",
            "building tree 29 of 150\n",
            "building tree 30 of 150\n",
            "building tree 31 of 150building tree 32 of 150\n",
            "building tree 33 of 150\n",
            "\n",
            "building tree 34 of 150\n",
            "building tree 35 of 150\n",
            "building tree 36 of 150building tree 37 of 150\n",
            "building tree 38 of 150\n",
            "building tree 39 of 150\n",
            "building tree 40 of 150\n",
            "building tree 41 of 150\n",
            "\n",
            "building tree 42 of 150building tree 43 of 150\n",
            "\n",
            "building tree 44 of 150\n",
            "building tree 45 of 150\n",
            "building tree 46 of 150\n",
            "building tree 47 of 150\n",
            "building tree 48 of 150building tree 49 of 150\n",
            "building tree 50 of 150\n",
            "\n",
            "building tree 51 of 150building tree 52 of 150\n",
            "building tree 53 of 150\n",
            "building tree 54 of 150\n",
            "\n",
            "building tree 55 of 150\n",
            "building tree 56 of 150building tree 57 of 150\n",
            "building tree 58 of 150\n",
            "building tree 59 of 150\n",
            "building tree 60 of 150\n",
            "building tree 61 of 150\n",
            "building tree 62 of 150\n",
            "building tree 63 of 150\n",
            "building tree 64 of 150\n",
            "building tree 65 of 150\n",
            "building tree 66 of 150\n",
            "building tree 67 of 150\n",
            "\n",
            "building tree 68 of 150\n",
            "building tree 69 of 150building tree 70 of 150\n",
            "building tree 71 of 150\n"
          ]
        },
        {
          "output_type": "stream",
          "name": "stderr",
          "text": [
            "[Parallel(n_jobs=-1)]: Done  68 tasks      | elapsed:    0.4s\n"
          ]
        },
        {
          "output_type": "stream",
          "name": "stdout",
          "text": [
            "\n",
            "building tree 72 of 150building tree 73 of 150\n",
            "building tree 74 of 150\n",
            "building tree 75 of 150\n",
            "building tree 76 of 150\n",
            "building tree 77 of 150\n",
            "building tree 78 of 150\n",
            "\n",
            "building tree 79 of 150building tree 80 of 150\n",
            "building tree 81 of 150\n",
            "\n",
            "building tree 82 of 150\n",
            "building tree 83 of 150building tree 84 of 150\n",
            "\n",
            "building tree 85 of 150building tree 86 of 150\n",
            "building tree 87 of 150\n",
            "\n",
            "building tree 88 of 150building tree 89 of 150\n",
            "building tree 90 of 150\n",
            "\n",
            "building tree 91 of 150building tree 92 of 150\n",
            "building tree 93 of 150\n",
            "building tree 94 of 150\n",
            "building tree 95 of 150\n",
            "building tree 96 of 150\n",
            "building tree 97 of 150\n",
            "building tree 98 of 150\n",
            "building tree 99 of 150\n",
            "building tree 100 of 150\n",
            "building tree 101 of 150\n",
            "building tree 102 of 150\n",
            "building tree 103 of 150\n",
            "building tree 104 of 150\n",
            "\n",
            "building tree 105 of 150building tree 106 of 150\n",
            "\n",
            "building tree 107 of 150building tree 108 of 150\n",
            "building tree 109 of 150\n",
            "\n",
            "building tree 110 of 150\n",
            "building tree 111 of 150\n",
            "building tree 112 of 150building tree 113 of 150\n",
            "building tree 114 of 150\n",
            "building tree 115 of 150\n",
            "building tree 116 of 150\n",
            "building tree 117 of 150\n",
            "building tree 118 of 150\n",
            "building tree 119 of 150\n",
            "building tree 120 of 150\n",
            "building tree 121 of 150\n",
            "building tree 122 of 150\n",
            "building tree 123 of 150\n",
            "building tree 124 of 150\n",
            "building tree 125 of 150\n",
            "building tree 126 of 150\n",
            "building tree 127 of 150\n",
            "building tree 128 of 150\n",
            "building tree 129 of 150\n",
            "\n",
            "building tree 130 of 150building tree 131 of 150\n",
            "building tree 132 of 150\n",
            "building tree 133 of 150\n",
            "building tree 134 of 150\n",
            "building tree 135 of 150\n",
            "building tree 136 of 150\n",
            "building tree 137 of 150\n",
            "building tree 138 of 150\n",
            "building tree 139 of 150\n",
            "building tree 140 of 150\n",
            "building tree 141 of 150\n",
            "building tree 142 of 150\n",
            "\n",
            "building tree 143 of 150\n",
            "building tree 144 of 150building tree 145 of 150\n",
            "\n",
            "building tree 146 of 150building tree 147 of 150\n",
            "building tree 148 of 150\n",
            "building tree 149 of 150\n",
            "building tree 150 of 150\n",
            "\n"
          ]
        },
        {
          "output_type": "stream",
          "name": "stderr",
          "text": [
            "[Parallel(n_jobs=-1)]: Done 150 out of 150 | elapsed:    0.9s finished\n"
          ]
        },
        {
          "output_type": "execute_result",
          "data": {
            "text/plain": [
              "GridSearchCV(estimator=RandomForestClassifier(max_depth=20, n_jobs=-1,\n",
              "                                              verbose=5),\n",
              "             n_jobs=-1, param_grid={'n_estimators': [100, 150]},\n",
              "             scoring='roc_auc')"
            ]
          },
          "metadata": {},
          "execution_count": 125
        }
      ]
    },
    {
      "cell_type": "markdown",
      "source": [
        "## Metrics for Random Forest"
      ],
      "metadata": {
        "id": "tTpQdYVVOTAF"
      }
    },
    {
      "cell_type": "code",
      "source": [
        "clf.best_params_"
      ],
      "metadata": {
        "colab": {
          "base_uri": "https://localhost:8080/"
        },
        "id": "_rBWWcpGfHem",
        "outputId": "dcaf3784-362c-413d-d74b-9f1a9c05925b"
      },
      "execution_count": 126,
      "outputs": [
        {
          "output_type": "execute_result",
          "data": {
            "text/plain": [
              "{'n_estimators': 150}"
            ]
          },
          "metadata": {},
          "execution_count": 126
        }
      ]
    },
    {
      "cell_type": "code",
      "source": [
        "print(classification_report(y_test, y_pred))\n",
        "\n",
        "conf_mat = confusion_matrix(y_test, y_pred)\n",
        "cm_display = ConfusionMatrixDisplay(conf_mat, display_labels=['Non-fraud', 'Fraud']).plot()\n",
        "plt.show()"
      ],
      "metadata": {
        "colab": {
          "base_uri": "https://localhost:8080/",
          "height": 462
        },
        "id": "oBqgWH1-OFHO",
        "outputId": "7b157d6f-5958-4f76-9a4f-1f772843b77c"
      },
      "execution_count": 127,
      "outputs": [
        {
          "output_type": "stream",
          "name": "stdout",
          "text": [
            "              precision    recall  f1-score   support\n",
            "\n",
            "           0       0.87      0.96      0.91        99\n",
            "           1       0.95      0.86      0.90        98\n",
            "\n",
            "    accuracy                           0.91       197\n",
            "   macro avg       0.91      0.91      0.91       197\n",
            "weighted avg       0.91      0.91      0.91       197\n",
            "\n"
          ]
        },
        {
          "output_type": "display_data",
          "data": {
            "text/plain": [
              "<Figure size 432x288 with 2 Axes>"
            ],
            "image/png": "[encoded data removed]"
          },
          "metadata": {}
        }
      ]
    },
    {
      "cell_type": "markdown",
      "source": [
        "## Implementing Artificial Neural Network"
      ],
      "metadata": {
        "id": "aKS1NpN_QYt9"
      }
    },
    {
      "cell_type": "code",
      "source": [
        "from sklearn.neural_network import MLPClassifier\n",
        "\n",
        "clf = MLPClassifier(max_iter = 300)"
      ],
      "metadata": {
        "id": "AWE5cBTZQZFO"
      },
      "execution_count": 128,
      "outputs": []
    },
    {
      "cell_type": "code",
      "source": [
        "parameters = {\n",
        "    'hidden_layer_sizes': [(50,50,50), (50,100,50), (100,)],\n",
        "    'activation': ['tanh', 'relu'],\n",
        "    'solver': ['sgd', 'adam'],\n",
        "    'alpha': [0.0001, 0.05],\n",
        "    'learning_rate': ['constant','adaptive'],\n",
        "}\n",
        "\n",
        "clf = GridSearchCV(clf, parameters, n_jobs=-1, scoring=\"roc_auc\")\n",
        "clf.fit(X_train, y_train)"
      ],
      "metadata": {
        "colab": {
          "base_uri": "https://localhost:8080/"
        },
        "id": "Zr82AXtdsyWj",
        "outputId": "7f35edcb-f2ef-4ff8-8fca-0b8fd4f07560"
      },
      "execution_count": 129,
      "outputs": [
        {
          "output_type": "execute_result",
          "data": {
            "text/plain": [
              "GridSearchCV(estimator=MLPClassifier(max_iter=300), n_jobs=-1,\n",
              "             param_grid={'activation': ['tanh', 'relu'],\n",
              "                         'alpha': [0.0001, 0.05],\n",
              "                         'hidden_layer_sizes': [(50, 50, 50), (50, 100, 50),\n",
              "                                                (100,)],\n",
              "                         'learning_rate': ['constant', 'adaptive'],\n",
              "                         'solver': ['sgd', 'adam']},\n",
              "             scoring='roc_auc')"
            ]
          },
          "metadata": {},
          "execution_count": 129
        }
      ]
    },
    {
      "cell_type": "code",
      "source": [
        "clf.best_params_"
      ],
      "metadata": {
        "colab": {
          "base_uri": "https://localhost:8080/"
        },
        "id": "5y5yIZ4os3x0",
        "outputId": "14f41828-7b9f-4583-924b-16c40136274c"
      },
      "execution_count": 130,
      "outputs": [
        {
          "output_type": "execute_result",
          "data": {
            "text/plain": [
              "{'activation': 'tanh',\n",
              " 'alpha': 0.0001,\n",
              " 'hidden_layer_sizes': (50, 100, 50),\n",
              " 'learning_rate': 'adaptive',\n",
              " 'solver': 'sgd'}"
            ]
          },
          "metadata": {},
          "execution_count": 130
        }
      ]
    },
    {
      "cell_type": "markdown",
      "source": [
        "## Metrics for Artificial Neural Network"
      ],
      "metadata": {
        "id": "x_Okl6k4s5Nh"
      }
    },
    {
      "cell_type": "code",
      "source": [
        "print(classification_report(y_test, y_pred))\n",
        "\n",
        "conf_mat = confusion_matrix(y_test, y_pred)\n",
        "cm_display = ConfusionMatrixDisplay(conf_mat, display_labels=['Non-fraud', 'Fraud']).plot()\n",
        "plt.show()"
      ],
      "metadata": {
        "colab": {
          "base_uri": "https://localhost:8080/",
          "height": 462
        },
        "id": "CAmpkJpxs8o9",
        "outputId": "2c4879bd-7eb0-42a0-c76f-8b989ced39e3"
      },
      "execution_count": 131,
      "outputs": [
        {
          "output_type": "stream",
          "name": "stdout",
          "text": [
            "              precision    recall  f1-score   support\n",
            "\n",
            "           0       0.87      0.96      0.91        99\n",
            "           1       0.95      0.86      0.90        98\n",
            "\n",
            "    accuracy                           0.91       197\n",
            "   macro avg       0.91      0.91      0.91       197\n",
            "weighted avg       0.91      0.91      0.91       197\n",
            "\n"
          ]
        },
        {
          "output_type": "display_data",
          "data": {
            "text/plain": [
              "<Figure size 432x288 with 2 Axes>"
            ],
            "image/png": "[encoded data removed]"
          },
          "metadata": {}
        }
      ]
    },
    {
      "cell_type": "markdown",
      "source": [
        "# Implementing XGBoost CLassifier"
      ],
      "metadata": {
        "id": "4bFFc2675HbH"
      }
    },
    {
      "cell_type": "code",
      "source": [
        "import xgboost as xgb\n",
        "\n",
        "clf = xgb.XGBClassifier(objective=\"binary:logistic\")\n",
        "\n",
        "clf.fit(X_train, y_train)\n"
      ],
      "metadata": {
        "id": "EkA9PxXk5JeC",
        "outputId": "24ac3195-e8d2-437b-900c-0691e1a09110",
        "colab": {
          "base_uri": "https://localhost:8080/"
        }
      },
      "execution_count": 132,
      "outputs": [
        {
          "output_type": "execute_result",
          "data": {
            "text/plain": [
              "XGBClassifier()"
            ]
          },
          "metadata": {},
          "execution_count": 132
        }
      ]
    },
    {
      "cell_type": "markdown",
      "source": [
        "## Hyperparameter Tuning"
      ],
      "metadata": {
        "id": "msUorxmx-H3I"
      }
    },
    {
      "cell_type": "code",
      "source": [
        "parameters = {\n",
        "    \"max_depth\": [3, 4, 5, 7],\n",
        "    \"learning_rate\": [0.1, 0.01, 0.05],\n",
        "    \"gamma\": [0, 0.25, 1],\n",
        "    \"reg_lambda\": [0, 1, 10],\n",
        "    \"scale_pos_weight\": [1, 3, 5],\n",
        "    \"subsample\": [0.8],\n",
        "    \"colsample_bytree\": [0.5],\n",
        "}\n",
        "\n",
        "clf = GridSearchCV(clf, parameters, n_jobs=-1, scoring=\"roc_auc\")\n"
      ],
      "metadata": {
        "id": "o6ZD4AYe-Lut"
      },
      "execution_count": 133,
      "outputs": []
    },
    {
      "cell_type": "markdown",
      "source": [
        "## Metrics for XGBoost Classifier"
      ],
      "metadata": {
        "id": "K0riFy1f9Nsh"
      }
    },
    {
      "cell_type": "code",
      "source": [
        "print(classification_report(y_test, y_pred))\n",
        "\n",
        "conf_mat = confusion_matrix(y_test, y_pred)\n",
        "cm_display = ConfusionMatrixDisplay(conf_mat, display_labels=['Non-fraud', 'Fraud']).plot()\n",
        "plt.show()"
      ],
      "metadata": {
        "id": "JobdYV-b9P7W",
        "outputId": "b30e8545-50dd-4d60-abb9-a5fbe3429598",
        "colab": {
          "base_uri": "https://localhost:8080/",
          "height": 462
        }
      },
      "execution_count": 134,
      "outputs": [
        {
          "output_type": "stream",
          "name": "stdout",
          "text": [
            "              precision    recall  f1-score   support\n",
            "\n",
            "           0       0.87      0.96      0.91        99\n",
            "           1       0.95      0.86      0.90        98\n",
            "\n",
            "    accuracy                           0.91       197\n",
            "   macro avg       0.91      0.91      0.91       197\n",
            "weighted avg       0.91      0.91      0.91       197\n",
            "\n"
          ]
        },
        {
          "output_type": "display_data",
          "data": {
            "text/plain": [
              "<Figure size 432x288 with 2 Axes>"
            ],
            "image/png": "[encoded data removed]"
          },
          "metadata": {}
        }
      ]
    }
  ]
}