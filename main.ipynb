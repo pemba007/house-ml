{
  "nbformat": 4,
  "nbformat_minor": 0,
  "metadata": {
    "colab": {
      "name": "main.ipynb",
      "provenance": [],
      "authorship_tag": "ABX9TyO9t6taFtpcqogm2vXBnqnO",
      "include_colab_link": true
    },
    "kernelspec": {
      "name": "python3",
      "display_name": "Python 3"
    },
    "language_info": {
      "name": "python"
    }
  },
  "cells": [
    {
      "cell_type": "markdown",
      "metadata": {
        "id": "view-in-github",
        "colab_type": "text"
      },
      "source": [
        "<a href=\"https://colab.research.google.com/github/pemba007/house-ml/blob/main/main.ipynb\" target=\"_parent\"><img src=\"https://colab.research.google.com/assets/colab-badge.svg\" alt=\"Open In Colab\"/></a>"
      ]
    },
    {
      "cell_type": "code",
      "source": [
        "# !pip install imbalanced-learn"
      ],
      "metadata": {
        "id": "TjtV0c_uqrq2"
      },
      "execution_count": 44,
      "outputs": []
    },
    {
      "cell_type": "code",
      "source": [
        "# Ignoring the warning\n",
        "import warnings\n",
        "warnings.filterwarnings(\"ignore\")"
      ],
      "metadata": {
        "id": "-RO_IvAf9qG-"
      },
      "execution_count": 45,
      "outputs": []
    },
    {
      "cell_type": "code",
      "execution_count": 46,
      "metadata": {
        "id": "OOMAIjV42H30"
      },
      "outputs": [],
      "source": [
        "# Importing required libaries\n",
        "\n",
        "# Data handling libraries\n",
        "import pandas as pd\n",
        "import numpy as np\n",
        "\n",
        "# Data Visualization libraries\n",
        "import matplotlib.pyplot as plt\n",
        "import seaborn as sns"
      ]
    },
    {
      "cell_type": "code",
      "source": [
        "# Reading the dataset\n",
        "df = pd.read_csv('creditcard.csv')"
      ],
      "metadata": {
        "id": "bIeFd5Ic37H8"
      },
      "execution_count": 47,
      "outputs": []
    },
    {
      "cell_type": "code",
      "source": [
        "df.shape"
      ],
      "metadata": {
        "id": "FGo-bgvdn4ys",
        "outputId": "d824c1a2-17de-4927-a7ba-acac8e2e76a4",
        "colab": {
          "base_uri": "https://localhost:8080/"
        }
      },
      "execution_count": 48,
      "outputs": [
        {
          "output_type": "execute_result",
          "data": {
            "text/plain": [
              "(284807, 31)"
            ]
          },
          "metadata": {},
          "execution_count": 48
        }
      ]
    },
    {
      "cell_type": "code",
      "source": [
        "df.shape"
      ],
      "metadata": {
        "id": "_mvAAgbqnxyB",
        "outputId": "afbe127f-6a3b-49e5-80a3-68ec069e75b4",
        "colab": {
          "base_uri": "https://localhost:8080/"
        }
      },
      "execution_count": 49,
      "outputs": [
        {
          "output_type": "execute_result",
          "data": {
            "text/plain": [
              "(284807, 31)"
            ]
          },
          "metadata": {},
          "execution_count": 49
        }
      ]
    },
    {
      "cell_type": "code",
      "source": [
        "# Separating the target variable\n",
        "y = df['Class']\n",
        "df.drop(columns=['Class'], inplace = True)"
      ],
      "metadata": {
        "id": "f50NN8fFDvNq"
      },
      "execution_count": 50,
      "outputs": []
    },
    {
      "cell_type": "markdown",
      "source": [
        "# Exploraratory Data Analysis(EDA)"
      ],
      "metadata": {
        "id": "4xADz9kJ86yz"
      }
    },
    {
      "cell_type": "code",
      "source": [
        "df.isnull().sum()"
      ],
      "metadata": {
        "colab": {
          "base_uri": "https://localhost:8080/"
        },
        "id": "y4iQEf0h86Wj",
        "outputId": "3e780455-fa36-4f60-a0c1-1f8f5fcd5827"
      },
      "execution_count": 51,
      "outputs": [
        {
          "output_type": "execute_result",
          "data": {
            "text/plain": [
              "Time      0\n",
              "V1        0\n",
              "V2        0\n",
              "V3        0\n",
              "V4        0\n",
              "V5        0\n",
              "V6        0\n",
              "V7        0\n",
              "V8        0\n",
              "V9        0\n",
              "V10       0\n",
              "V11       0\n",
              "V12       0\n",
              "V13       0\n",
              "V14       0\n",
              "V15       0\n",
              "V16       0\n",
              "V17       0\n",
              "V18       0\n",
              "V19       0\n",
              "V20       0\n",
              "V21       0\n",
              "V22       0\n",
              "V23       0\n",
              "V24       0\n",
              "V25       0\n",
              "V26       0\n",
              "V27       0\n",
              "V28       0\n",
              "Amount    0\n",
              "dtype: int64"
            ]
          },
          "metadata": {},
          "execution_count": 51
        }
      ]
    },
    {
      "cell_type": "code",
      "source": [
        "# Checking the distribution for target variable\n",
        "count_classes = pd.value_counts(y, sort = True).sort_index()\n",
        "count_classes.plot(kind = 'bar')\n",
        "plt.title(\"Fraud class histogram\")\n",
        "plt.xlabel(\"Class\")\n",
        "plt.ylabel(\"Frequency\")"
      ],
      "metadata": {
        "colab": {
          "base_uri": "https://localhost:8080/",
          "height": 342
        },
        "id": "mUqM3Dqb9Hr6",
        "outputId": "edc907fc-c68c-42e0-b538-8bba5d5646d3"
      },
      "execution_count": 52,
      "outputs": [
        {
          "output_type": "execute_result",
          "data": {
            "text/plain": [
              "Text(0, 0.5, 'Frequency')"
            ]
          },
          "metadata": {},
          "execution_count": 52
        },
        {
          "output_type": "display_data",
          "data": {
            "text/plain": [
              "<Figure size 432x288 with 1 Axes>"
            ],
            "image/png": "[encoded data removed]"
          },
          "metadata": {}
        }
      ]
    },
    {
      "cell_type": "code",
      "source": [
        "# Undersampling\n",
        "from imblearn.under_sampling import RandomUnderSampler\n",
        "from collections import Counter\n",
        "\n",
        "print(\"Before sampling y:\", Counter(y))\n",
        "undersample = RandomUnderSampler(sampling_strategy='majority')\n",
        "# fit and apply the transform\n",
        "df, y = undersample.fit_resample(df, y)\n",
        "print(\"After sampling y:\", Counter(y))"
      ],
      "metadata": {
        "id": "qMTY24d1q23a",
        "outputId": "341a79b6-4371-46e6-d4a3-361bfab03e6f",
        "colab": {
          "base_uri": "https://localhost:8080/"
        }
      },
      "execution_count": 53,
      "outputs": [
        {
          "output_type": "stream",
          "name": "stdout",
          "text": [
            "Before sampling y: Counter({0: 284315, 1: 492})\n",
            "After sampling y: Counter({0: 492, 1: 492})\n"
          ]
        }
      ]
    },
    {
      "cell_type": "code",
      "source": [
        "# Checking the distribution for target variable\n",
        "count_classes = pd.value_counts(y, sort = True).sort_index()\n",
        "count_classes.plot(kind = 'bar')\n",
        "plt.title(\"Fraud class histogram\")\n",
        "plt.xlabel(\"Class\")\n",
        "plt.ylabel(\"Frequency\")"
      ],
      "metadata": {
        "id": "4x4zXm7MrflO",
        "outputId": "95eaf6d1-0d39-4477-80f1-f443e4fb0399",
        "colab": {
          "base_uri": "https://localhost:8080/",
          "height": 342
        }
      },
      "execution_count": 54,
      "outputs": [
        {
          "output_type": "execute_result",
          "data": {
            "text/plain": [
              "Text(0, 0.5, 'Frequency')"
            ]
          },
          "metadata": {},
          "execution_count": 54
        },
        {
          "output_type": "display_data",
          "data": {
            "text/plain": [
              "<Figure size 432x288 with 1 Axes>"
            ],
            "image/png": "[encoded data removed]"
          },
          "metadata": {}
        }
      ]
    },
    {
      "cell_type": "markdown",
      "source": [
        "## Checking distributions"
      ],
      "metadata": {
        "id": "q_0ARcY39YXc"
      }
    },
    {
      "cell_type": "code",
      "source": [
        "df.describe()"
      ],
      "metadata": {
        "colab": {
          "base_uri": "https://localhost:8080/",
          "height": 394
        },
        "id": "vFkJVeo5-E_5",
        "outputId": "492eccd6-25a7-4379-f5eb-432233679353"
      },
      "execution_count": 55,
      "outputs": [
        {
          "output_type": "execute_result",
          "data": {
            "text/plain": [
              "                Time          V1          V2          V3          V4  \\\n",
              "count     984.000000  984.000000  984.000000  984.000000  984.000000   \n",
              "mean    89111.765244   -2.350562    1.833259   -3.575672    2.288082   \n",
              "std     48098.490759    5.528269    3.662220    6.177971    3.175847   \n",
              "min       287.000000  -30.552380   -8.402154  -31.103685   -3.917122   \n",
              "25%     47898.750000   -2.877893   -0.188590   -5.084967   -0.143237   \n",
              "50%     84277.000000   -0.689602    0.961809   -1.407373    1.307692   \n",
              "75%    135355.000000    1.079751    2.827312    0.271013    4.229802   \n",
              "max    172421.000000    2.272727   22.057729    2.937771   12.114672   \n",
              "\n",
              "               V5          V6          V7          V8          V9  ...  \\\n",
              "count  984.000000  984.000000  984.000000  984.000000  984.000000  ...   \n",
              "mean    -1.552578   -0.652080   -2.793636    0.250077   -1.250383  ...   \n",
              "std      4.236773    1.817972    5.878439    4.941600    2.335700  ...   \n",
              "min    -22.105532   -6.406267  -43.557242  -41.044261  -13.434066  ...   \n",
              "25%     -1.737016   -1.572363   -3.105154   -0.193062   -2.270235  ...   \n",
              "50%     -0.432288   -0.634823   -0.667273    0.166157   -0.701488  ...   \n",
              "75%      0.514292    0.140369    0.263970    0.859178    0.227506  ...   \n",
              "max     11.095089    8.529013   15.469583   20.007208    5.553837  ...   \n",
              "\n",
              "              V20         V21         V22         V23         V24         V25  \\\n",
              "count  984.000000  984.000000  984.000000  984.000000  984.000000  984.000000   \n",
              "mean     0.176765    0.383653    0.034657    0.002611   -0.051038   -0.000678   \n",
              "std      1.070491    2.893080    1.208878    1.208103    0.576754    0.688921   \n",
              "min     -4.543540  -22.797604   -8.887017  -19.254328   -2.358200   -4.781606   \n",
              "25%     -0.209144   -0.160392   -0.503681   -0.215640   -0.375271   -0.341024   \n",
              "50%      0.029237    0.168939    0.057957   -0.019283    0.009496    0.035358   \n",
              "75%      0.423209    0.652748    0.618519    0.198414    0.384832    0.389274   \n",
              "max     11.059004   27.202839    8.361985    5.551135    1.114758    2.208209   \n",
              "\n",
              "              V26         V27         V28       Amount  \n",
              "count  984.000000  984.000000  984.000000   984.000000  \n",
              "mean     0.011822    0.087643    0.040067   102.474929  \n",
              "std      0.493666    1.005639    0.432582   243.875293  \n",
              "min     -1.208042   -7.263482   -2.733542     0.000000  \n",
              "25%     -0.308414   -0.062429   -0.063082     1.675000  \n",
              "50%     -0.045155    0.047176    0.028566    19.995000  \n",
              "75%      0.295460    0.428923    0.221767    99.990000  \n",
              "max      3.080588    3.052358    2.440756  3546.000000  \n",
              "\n",
              "[8 rows x 30 columns]"
            ],
            "text/html": [
              "\n",
              "  <div id=\"df-45a29647-6675-4fab-b06f-bdcd5ce44ad3\">\n",
              "    <div class=\"colab-df-container\">\n",
              "      <div>\n",
              "<style scoped>\n",
              "    .dataframe tbody tr th:only-of-type {\n",
              "        vertical-align: middle;\n",
              "    }\n",
              "\n",
              "    .dataframe tbody tr th {\n",
              "        vertical-align: top;\n",
              "    }\n",
              "\n",
              "    .dataframe thead th {\n",
              "        text-align: right;\n",
              "    }\n",
              "</style>\n",
              "<table border=\"1\" class=\"dataframe\">\n",
              "  <thead>\n",
              "    <tr style=\"text-align: right;\">\n",
              "      <th></th>\n",
              "      <th>Time</th>\n",
              "      <th>V1</th>\n",
              "      <th>V2</th>\n",
              "      <th>V3</th>\n",
              "      <th>V4</th>\n",
              "      <th>V5</th>\n",
              "      <th>V6</th>\n",
              "      <th>V7</th>\n",
              "      <th>V8</th>\n",
              "      <th>V9</th>\n",
              "      <th>...</th>\n",
              "      <th>V20</th>\n",
              "      <th>V21</th>\n",
              "      <th>V22</th>\n",
              "      <th>V23</th>\n",
              "      <th>V24</th>\n",
              "      <th>V25</th>\n",
              "      <th>V26</th>\n",
              "      <th>V27</th>\n",
              "      <th>V28</th>\n",
              "      <th>Amount</th>\n",
              "    </tr>\n",
              "  </thead>\n",
              "  <tbody>\n",
              "    <tr>\n",
              "      <th>count</th>\n",
              "      <td>984.000000</td>\n",
              "      <td>984.000000</td>\n",
              "      <td>984.000000</td>\n",
              "      <td>984.000000</td>\n",
              "      <td>984.000000</td>\n",
              "      <td>984.000000</td>\n",
              "      <td>984.000000</td>\n",
              "      <td>984.000000</td>\n",
              "      <td>984.000000</td>\n",
              "      <td>984.000000</td>\n",
              "      <td>...</td>\n",
              "      <td>984.000000</td>\n",
              "      <td>984.000000</td>\n",
              "      <td>984.000000</td>\n",
              "      <td>984.000000</td>\n",
              "      <td>984.000000</td>\n",
              "      <td>984.000000</td>\n",
              "      <td>984.000000</td>\n",
              "      <td>984.000000</td>\n",
              "      <td>984.000000</td>\n",
              "      <td>984.000000</td>\n",
              "    </tr>\n",
              "    <tr>\n",
              "      <th>mean</th>\n",
              "      <td>89111.765244</td>\n",
              "      <td>-2.350562</td>\n",
              "      <td>1.833259</td>\n",
              "      <td>-3.575672</td>\n",
              "      <td>2.288082</td>\n",
              "      <td>-1.552578</td>\n",
              "      <td>-0.652080</td>\n",
              "      <td>-2.793636</td>\n",
              "      <td>0.250077</td>\n",
              "      <td>-1.250383</td>\n",
              "      <td>...</td>\n",
              "      <td>0.176765</td>\n",
              "      <td>0.383653</td>\n",
              "      <td>0.034657</td>\n",
              "      <td>0.002611</td>\n",
              "      <td>-0.051038</td>\n",
              "      <td>-0.000678</td>\n",
              "      <td>0.011822</td>\n",
              "      <td>0.087643</td>\n",
              "      <td>0.040067</td>\n",
              "      <td>102.474929</td>\n",
              "    </tr>\n",
              "    <tr>\n",
              "      <th>std</th>\n",
              "      <td>48098.490759</td>\n",
              "      <td>5.528269</td>\n",
              "      <td>3.662220</td>\n",
              "      <td>6.177971</td>\n",
              "      <td>3.175847</td>\n",
              "      <td>4.236773</td>\n",
              "      <td>1.817972</td>\n",
              "      <td>5.878439</td>\n",
              "      <td>4.941600</td>\n",
              "      <td>2.335700</td>\n",
              "      <td>...</td>\n",
              "      <td>1.070491</td>\n",
              "      <td>2.893080</td>\n",
              "      <td>1.208878</td>\n",
              "      <td>1.208103</td>\n",
              "      <td>0.576754</td>\n",
              "      <td>0.688921</td>\n",
              "      <td>0.493666</td>\n",
              "      <td>1.005639</td>\n",
              "      <td>0.432582</td>\n",
              "      <td>243.875293</td>\n",
              "    </tr>\n",
              "    <tr>\n",
              "      <th>min</th>\n",
              "      <td>287.000000</td>\n",
              "      <td>-30.552380</td>\n",
              "      <td>-8.402154</td>\n",
              "      <td>-31.103685</td>\n",
              "      <td>-3.917122</td>\n",
              "      <td>-22.105532</td>\n",
              "      <td>-6.406267</td>\n",
              "      <td>-43.557242</td>\n",
              "      <td>-41.044261</td>\n",
              "      <td>-13.434066</td>\n",
              "      <td>...</td>\n",
              "      <td>-4.543540</td>\n",
              "      <td>-22.797604</td>\n",
              "      <td>-8.887017</td>\n",
              "      <td>-19.254328</td>\n",
              "      <td>-2.358200</td>\n",
              "      <td>-4.781606</td>\n",
              "      <td>-1.208042</td>\n",
              "      <td>-7.263482</td>\n",
              "      <td>-2.733542</td>\n",
              "      <td>0.000000</td>\n",
              "    </tr>\n",
              "    <tr>\n",
              "      <th>25%</th>\n",
              "      <td>47898.750000</td>\n",
              "      <td>-2.877893</td>\n",
              "      <td>-0.188590</td>\n",
              "      <td>-5.084967</td>\n",
              "      <td>-0.143237</td>\n",
              "      <td>-1.737016</td>\n",
              "      <td>-1.572363</td>\n",
              "      <td>-3.105154</td>\n",
              "      <td>-0.193062</td>\n",
              "      <td>-2.270235</td>\n",
              "      <td>...</td>\n",
              "      <td>-0.209144</td>\n",
              "      <td>-0.160392</td>\n",
              "      <td>-0.503681</td>\n",
              "      <td>-0.215640</td>\n",
              "      <td>-0.375271</td>\n",
              "      <td>-0.341024</td>\n",
              "      <td>-0.308414</td>\n",
              "      <td>-0.062429</td>\n",
              "      <td>-0.063082</td>\n",
              "      <td>1.675000</td>\n",
              "    </tr>\n",
              "    <tr>\n",
              "      <th>50%</th>\n",
              "      <td>84277.000000</td>\n",
              "      <td>-0.689602</td>\n",
              "      <td>0.961809</td>\n",
              "      <td>-1.407373</td>\n",
              "      <td>1.307692</td>\n",
              "      <td>-0.432288</td>\n",
              "      <td>-0.634823</td>\n",
              "      <td>-0.667273</td>\n",
              "      <td>0.166157</td>\n",
              "      <td>-0.701488</td>\n",
              "      <td>...</td>\n",
              "      <td>0.029237</td>\n",
              "      <td>0.168939</td>\n",
              "      <td>0.057957</td>\n",
              "      <td>-0.019283</td>\n",
              "      <td>0.009496</td>\n",
              "      <td>0.035358</td>\n",
              "      <td>-0.045155</td>\n",
              "      <td>0.047176</td>\n",
              "      <td>0.028566</td>\n",
              "      <td>19.995000</td>\n",
              "    </tr>\n",
              "    <tr>\n",
              "      <th>75%</th>\n",
              "      <td>135355.000000</td>\n",
              "      <td>1.079751</td>\n",
              "      <td>2.827312</td>\n",
              "      <td>0.271013</td>\n",
              "      <td>4.229802</td>\n",
              "      <td>0.514292</td>\n",
              "      <td>0.140369</td>\n",
              "      <td>0.263970</td>\n",
              "      <td>0.859178</td>\n",
              "      <td>0.227506</td>\n",
              "      <td>...</td>\n",
              "      <td>0.423209</td>\n",
              "      <td>0.652748</td>\n",
              "      <td>0.618519</td>\n",
              "      <td>0.198414</td>\n",
              "      <td>0.384832</td>\n",
              "      <td>0.389274</td>\n",
              "      <td>0.295460</td>\n",
              "      <td>0.428923</td>\n",
              "      <td>0.221767</td>\n",
              "      <td>99.990000</td>\n",
              "    </tr>\n",
              "    <tr>\n",
              "      <th>max</th>\n",
              "      <td>172421.000000</td>\n",
              "      <td>2.272727</td>\n",
              "      <td>22.057729</td>\n",
              "      <td>2.937771</td>\n",
              "      <td>12.114672</td>\n",
              "      <td>11.095089</td>\n",
              "      <td>8.529013</td>\n",
              "      <td>15.469583</td>\n",
              "      <td>20.007208</td>\n",
              "      <td>5.553837</td>\n",
              "      <td>...</td>\n",
              "      <td>11.059004</td>\n",
              "      <td>27.202839</td>\n",
              "      <td>8.361985</td>\n",
              "      <td>5.551135</td>\n",
              "      <td>1.114758</td>\n",
              "      <td>2.208209</td>\n",
              "      <td>3.080588</td>\n",
              "      <td>3.052358</td>\n",
              "      <td>2.440756</td>\n",
              "      <td>3546.000000</td>\n",
              "    </tr>\n",
              "  </tbody>\n",
              "</table>\n",
              "<p>8 rows × 30 columns</p>\n",
              "</div>\n",
              "      <button class=\"colab-df-convert\" onclick=\"convertToInteractive('df-45a29647-6675-4fab-b06f-bdcd5ce44ad3')\"\n",
              "              title=\"Convert this dataframe to an interactive table.\"\n",
              "              style=\"display:none;\">\n",
              "        \n",
              "  <svg xmlns=\"http://www.w3.org/2000/svg\" height=\"24px\"viewBox=\"0 0 24 24\"\n",
              "       width=\"24px\">\n",
              "    <path d=\"M0 0h24v24H0V0z\" fill=\"none\"/>\n",
              "    <path d=\"M18.56 5.44l.94 2.06.94-2.06 2.06-.94-2.06-.94-.94-2.06-.94 2.06-2.06.94zm-11 1L8.5 8.5l.94-2.06 2.06-.94-2.06-.94L8.5 2.5l-.94 2.06-2.06.94zm10 10l.94 2.06.94-2.06 2.06-.94-2.06-.94-.94-2.06-.94 2.06-2.06.94z\"/><path d=\"M17.41 7.96l-1.37-1.37c-.4-.4-.92-.59-1.43-.59-.52 0-1.04.2-1.43.59L10.3 9.45l-7.72 7.72c-.78.78-.78 2.05 0 2.83L4 21.41c.39.39.9.59 1.41.59.51 0 1.02-.2 1.41-.59l7.78-7.78 2.81-2.81c.8-.78.8-2.07 0-2.86zM5.41 20L4 18.59l7.72-7.72 1.47 1.35L5.41 20z\"/>\n",
              "  </svg>\n",
              "      </button>\n",
              "      \n",
              "  <style>\n",
              "    .colab-df-container {\n",
              "      display:flex;\n",
              "      flex-wrap:wrap;\n",
              "      gap: 12px;\n",
              "    }\n",
              "\n",
              "    .colab-df-convert {\n",
              "      background-color: #E8F0FE;\n",
              "      border: none;\n",
              "      border-radius: 50%;\n",
              "      cursor: pointer;\n",
              "      display: none;\n",
              "      fill: #1967D2;\n",
              "      height: 32px;\n",
              "      padding: 0 0 0 0;\n",
              "      width: 32px;\n",
              "    }\n",
              "\n",
              "    .colab-df-convert:hover {\n",
              "      background-color: #E2EBFA;\n",
              "      box-shadow: 0px 1px 2px rgba(60, 64, 67, 0.3), 0px 1px 3px 1px rgba(60, 64, 67, 0.15);\n",
              "      fill: #174EA6;\n",
              "    }\n",
              "\n",
              "    [theme=dark] .colab-df-convert {\n",
              "      background-color: #3B4455;\n",
              "      fill: #D2E3FC;\n",
              "    }\n",
              "\n",
              "    [theme=dark] .colab-df-convert:hover {\n",
              "      background-color: #434B5C;\n",
              "      box-shadow: 0px 1px 3px 1px rgba(0, 0, 0, 0.15);\n",
              "      filter: drop-shadow(0px 1px 2px rgba(0, 0, 0, 0.3));\n",
              "      fill: #FFFFFF;\n",
              "    }\n",
              "  </style>\n",
              "\n",
              "      <script>\n",
              "        const buttonEl =\n",
              "          document.querySelector('#df-45a29647-6675-4fab-b06f-bdcd5ce44ad3 button.colab-df-convert');\n",
              "        buttonEl.style.display =\n",
              "          google.colab.kernel.accessAllowed ? 'block' : 'none';\n",
              "\n",
              "        async function convertToInteractive(key) {\n",
              "          const element = document.querySelector('#df-45a29647-6675-4fab-b06f-bdcd5ce44ad3');\n",
              "          const dataTable =\n",
              "            await google.colab.kernel.invokeFunction('convertToInteractive',\n",
              "                                                     [key], {});\n",
              "          if (!dataTable) return;\n",
              "\n",
              "          const docLinkHtml = 'Like what you see? Visit the ' +\n",
              "            '<a target=\"_blank\" href=https://colab.research.google.com/notebooks/data_table.ipynb>data table notebook</a>'\n",
              "            + ' to learn more about interactive tables.';\n",
              "          element.innerHTML = '';\n",
              "          dataTable['output_type'] = 'display_data';\n",
              "          await google.colab.output.renderOutput(dataTable, element);\n",
              "          const docLink = document.createElement('div');\n",
              "          docLink.innerHTML = docLinkHtml;\n",
              "          element.appendChild(docLink);\n",
              "        }\n",
              "      </script>\n",
              "    </div>\n",
              "  </div>\n",
              "  "
            ]
          },
          "metadata": {},
          "execution_count": 55
        }
      ]
    },
    {
      "cell_type": "code",
      "source": [
        "sns.distplot(df['Time'])"
      ],
      "metadata": {
        "colab": {
          "base_uri": "https://localhost:8080/",
          "height": 342
        },
        "id": "rlWXwIxp9Xq5",
        "outputId": "b7e36c2a-8aa8-44a5-f97c-fd4fc44cf788"
      },
      "execution_count": 56,
      "outputs": [
        {
          "output_type": "execute_result",
          "data": {
            "text/plain": [
              "<matplotlib.axes._subplots.AxesSubplot at 0x7f3653d23610>"
            ]
          },
          "metadata": {},
          "execution_count": 56
        },
        {
          "output_type": "display_data",
          "data": {
            "text/plain": [
              "<Figure size 432x288 with 1 Axes>"
            ],
            "image/png": "[encoded data removed]"
          },
          "metadata": {}
        }
      ]
    },
    {
      "cell_type": "code",
      "source": [
        "# Amount Feature\n",
        "df['Amount'].describe()"
      ],
      "metadata": {
        "colab": {
          "base_uri": "https://localhost:8080/"
        },
        "id": "QElZD0VuChYv",
        "outputId": "1e82635d-f60a-4e36-b1f0-71b839c66dac"
      },
      "execution_count": 57,
      "outputs": [
        {
          "output_type": "execute_result",
          "data": {
            "text/plain": [
              "count     984.000000\n",
              "mean      102.474929\n",
              "std       243.875293\n",
              "min         0.000000\n",
              "25%         1.675000\n",
              "50%        19.995000\n",
              "75%        99.990000\n",
              "max      3546.000000\n",
              "Name: Amount, dtype: float64"
            ]
          },
          "metadata": {},
          "execution_count": 57
        }
      ]
    },
    {
      "cell_type": "code",
      "source": [
        "# Checking correlation\n",
        "df_corr = df.corr()\n",
        "plt.figure(figsize=(15,10))\n",
        "sns.heatmap(df_corr, cmap=\"YlGnBu\") # Displaying the Heatmap\n",
        "sns.set(font_scale=2,style='white')\n",
        "\n",
        "plt.title('Heatmap correlation')\n",
        "plt.show()"
      ],
      "metadata": {
        "colab": {
          "base_uri": "https://localhost:8080/",
          "height": 629
        },
        "id": "RZ9x6p2O-kap",
        "outputId": "22ea8797-8c12-436d-e304-492f0c06a6da"
      },
      "execution_count": 58,
      "outputs": [
        {
          "output_type": "display_data",
          "data": {
            "text/plain": [
              "<Figure size 1080x720 with 2 Axes>"
            ],
            "image/png": "[encoded data removed]"
          },
          "metadata": {}
        }
      ]
    },
    {
      "cell_type": "markdown",
      "source": [
        "Not much correlation can be found between the features"
      ],
      "metadata": {
        "id": "SRPJsvRV-0UD"
      }
    },
    {
      "cell_type": "markdown",
      "source": [
        "#Preprocessing"
      ],
      "metadata": {
        "id": "Ly2n2T8-p9FS"
      }
    },
    {
      "cell_type": "code",
      "source": [
        "# Checking the datasets\n",
        "df.head()"
      ],
      "metadata": {
        "colab": {
          "base_uri": "https://localhost:8080/",
          "height": 300
        },
        "id": "xNtw9Oxb6tnK",
        "outputId": "d8fab2d8-5007-4b27-9afa-4bfe55daaff6"
      },
      "execution_count": 59,
      "outputs": [
        {
          "output_type": "execute_result",
          "data": {
            "text/plain": [
              "       Time        V1        V2        V3        V4        V5        V6  \\\n",
              "0   57539.0 -1.025054 -0.190309  0.292589 -0.582816 -0.536826  0.140044   \n",
              "1  149923.0  0.234478  1.015155 -1.427858 -0.657125  0.887142 -0.466946   \n",
              "2  120483.0 -0.632781 -1.511681  2.758904 -2.504170 -1.221752  0.768253   \n",
              "3   54532.0 -2.992691 -0.585565  1.026862  3.234422  1.463478 -0.553754   \n",
              "4  153966.0  1.833323 -0.554157 -1.972147  0.317144  0.462242 -0.208238   \n",
              "\n",
              "         V7        V8        V9  ...       V20       V21       V22       V23  \\\n",
              "0 -0.042243  0.483579 -2.135184  ... -0.419733 -0.173861 -0.128055  0.313641   \n",
              "1  0.374969  0.401211 -0.485118  ... -0.263579  0.329969  0.852837 -0.039960   \n",
              "2 -1.731258  0.521174 -0.688508  ... -0.228192  0.074048  0.954574 -0.214308   \n",
              "3  0.141644  0.261878 -2.073118  ... -0.819375 -0.228843  0.393158  1.406668   \n",
              "4  0.314364 -0.085930  0.344158  ... -0.005006 -0.060308 -0.447856  0.029235   \n",
              "\n",
              "        V24       V25       V26       V27       V28  Amount  \n",
              "0 -0.229331 -0.588916  1.688486 -0.134315 -0.021199  100.67  \n",
              "1  0.176060 -0.591560  0.494483 -0.116950 -0.043810    1.50  \n",
              "2 -0.273706 -0.168501 -0.078714  0.218293  0.152654   10.30  \n",
              "3  0.051966  0.837590  0.375254  0.222812 -0.353698   25.10  \n",
              "4  0.080564 -0.011849  0.199957 -0.117675 -0.056925  133.60  \n",
              "\n",
              "[5 rows x 30 columns]"
            ],
            "text/html": [
              "\n",
              "  <div id=\"df-44ba58dd-fe87-4a4a-9845-6e6db8ac5ad5\">\n",
              "    <div class=\"colab-df-container\">\n",
              "      <div>\n",
              "<style scoped>\n",
              "    .dataframe tbody tr th:only-of-type {\n",
              "        vertical-align: middle;\n",
              "    }\n",
              "\n",
              "    .dataframe tbody tr th {\n",
              "        vertical-align: top;\n",
              "    }\n",
              "\n",
              "    .dataframe thead th {\n",
              "        text-align: right;\n",
              "    }\n",
              "</style>\n",
              "<table border=\"1\" class=\"dataframe\">\n",
              "  <thead>\n",
              "    <tr style=\"text-align: right;\">\n",
              "      <th></th>\n",
              "      <th>Time</th>\n",
              "      <th>V1</th>\n",
              "      <th>V2</th>\n",
              "      <th>V3</th>\n",
              "      <th>V4</th>\n",
              "      <th>V5</th>\n",
              "      <th>V6</th>\n",
              "      <th>V7</th>\n",
              "      <th>V8</th>\n",
              "      <th>V9</th>\n",
              "      <th>...</th>\n",
              "      <th>V20</th>\n",
              "      <th>V21</th>\n",
              "      <th>V22</th>\n",
              "      <th>V23</th>\n",
              "      <th>V24</th>\n",
              "      <th>V25</th>\n",
              "      <th>V26</th>\n",
              "      <th>V27</th>\n",
              "      <th>V28</th>\n",
              "      <th>Amount</th>\n",
              "    </tr>\n",
              "  </thead>\n",
              "  <tbody>\n",
              "    <tr>\n",
              "      <th>0</th>\n",
              "      <td>57539.0</td>\n",
              "      <td>-1.025054</td>\n",
              "      <td>-0.190309</td>\n",
              "      <td>0.292589</td>\n",
              "      <td>-0.582816</td>\n",
              "      <td>-0.536826</td>\n",
              "      <td>0.140044</td>\n",
              "      <td>-0.042243</td>\n",
              "      <td>0.483579</td>\n",
              "      <td>-2.135184</td>\n",
              "      <td>...</td>\n",
              "      <td>-0.419733</td>\n",
              "      <td>-0.173861</td>\n",
              "      <td>-0.128055</td>\n",
              "      <td>0.313641</td>\n",
              "      <td>-0.229331</td>\n",
              "      <td>-0.588916</td>\n",
              "      <td>1.688486</td>\n",
              "      <td>-0.134315</td>\n",
              "      <td>-0.021199</td>\n",
              "      <td>100.67</td>\n",
              "    </tr>\n",
              "    <tr>\n",
              "      <th>1</th>\n",
              "      <td>149923.0</td>\n",
              "      <td>0.234478</td>\n",
              "      <td>1.015155</td>\n",
              "      <td>-1.427858</td>\n",
              "      <td>-0.657125</td>\n",
              "      <td>0.887142</td>\n",
              "      <td>-0.466946</td>\n",
              "      <td>0.374969</td>\n",
              "      <td>0.401211</td>\n",
              "      <td>-0.485118</td>\n",
              "      <td>...</td>\n",
              "      <td>-0.263579</td>\n",
              "      <td>0.329969</td>\n",
              "      <td>0.852837</td>\n",
              "      <td>-0.039960</td>\n",
              "      <td>0.176060</td>\n",
              "      <td>-0.591560</td>\n",
              "      <td>0.494483</td>\n",
              "      <td>-0.116950</td>\n",
              "      <td>-0.043810</td>\n",
              "      <td>1.50</td>\n",
              "    </tr>\n",
              "    <tr>\n",
              "      <th>2</th>\n",
              "      <td>120483.0</td>\n",
              "      <td>-0.632781</td>\n",
              "      <td>-1.511681</td>\n",
              "      <td>2.758904</td>\n",
              "      <td>-2.504170</td>\n",
              "      <td>-1.221752</td>\n",
              "      <td>0.768253</td>\n",
              "      <td>-1.731258</td>\n",
              "      <td>0.521174</td>\n",
              "      <td>-0.688508</td>\n",
              "      <td>...</td>\n",
              "      <td>-0.228192</td>\n",
              "      <td>0.074048</td>\n",
              "      <td>0.954574</td>\n",
              "      <td>-0.214308</td>\n",
              "      <td>-0.273706</td>\n",
              "      <td>-0.168501</td>\n",
              "      <td>-0.078714</td>\n",
              "      <td>0.218293</td>\n",
              "      <td>0.152654</td>\n",
              "      <td>10.30</td>\n",
              "    </tr>\n",
              "    <tr>\n",
              "      <th>3</th>\n",
              "      <td>54532.0</td>\n",
              "      <td>-2.992691</td>\n",
              "      <td>-0.585565</td>\n",
              "      <td>1.026862</td>\n",
              "      <td>3.234422</td>\n",
              "      <td>1.463478</td>\n",
              "      <td>-0.553754</td>\n",
              "      <td>0.141644</td>\n",
              "      <td>0.261878</td>\n",
              "      <td>-2.073118</td>\n",
              "      <td>...</td>\n",
              "      <td>-0.819375</td>\n",
              "      <td>-0.228843</td>\n",
              "      <td>0.393158</td>\n",
              "      <td>1.406668</td>\n",
              "      <td>0.051966</td>\n",
              "      <td>0.837590</td>\n",
              "      <td>0.375254</td>\n",
              "      <td>0.222812</td>\n",
              "      <td>-0.353698</td>\n",
              "      <td>25.10</td>\n",
              "    </tr>\n",
              "    <tr>\n",
              "      <th>4</th>\n",
              "      <td>153966.0</td>\n",
              "      <td>1.833323</td>\n",
              "      <td>-0.554157</td>\n",
              "      <td>-1.972147</td>\n",
              "      <td>0.317144</td>\n",
              "      <td>0.462242</td>\n",
              "      <td>-0.208238</td>\n",
              "      <td>0.314364</td>\n",
              "      <td>-0.085930</td>\n",
              "      <td>0.344158</td>\n",
              "      <td>...</td>\n",
              "      <td>-0.005006</td>\n",
              "      <td>-0.060308</td>\n",
              "      <td>-0.447856</td>\n",
              "      <td>0.029235</td>\n",
              "      <td>0.080564</td>\n",
              "      <td>-0.011849</td>\n",
              "      <td>0.199957</td>\n",
              "      <td>-0.117675</td>\n",
              "      <td>-0.056925</td>\n",
              "      <td>133.60</td>\n",
              "    </tr>\n",
              "  </tbody>\n",
              "</table>\n",
              "<p>5 rows × 30 columns</p>\n",
              "</div>\n",
              "      <button class=\"colab-df-convert\" onclick=\"convertToInteractive('df-44ba58dd-fe87-4a4a-9845-6e6db8ac5ad5')\"\n",
              "              title=\"Convert this dataframe to an interactive table.\"\n",
              "              style=\"display:none;\">\n",
              "        \n",
              "  <svg xmlns=\"http://www.w3.org/2000/svg\" height=\"24px\"viewBox=\"0 0 24 24\"\n",
              "       width=\"24px\">\n",
              "    <path d=\"M0 0h24v24H0V0z\" fill=\"none\"/>\n",
              "    <path d=\"M18.56 5.44l.94 2.06.94-2.06 2.06-.94-2.06-.94-.94-2.06-.94 2.06-2.06.94zm-11 1L8.5 8.5l.94-2.06 2.06-.94-2.06-.94L8.5 2.5l-.94 2.06-2.06.94zm10 10l.94 2.06.94-2.06 2.06-.94-2.06-.94-.94-2.06-.94 2.06-2.06.94z\"/><path d=\"M17.41 7.96l-1.37-1.37c-.4-.4-.92-.59-1.43-.59-.52 0-1.04.2-1.43.59L10.3 9.45l-7.72 7.72c-.78.78-.78 2.05 0 2.83L4 21.41c.39.39.9.59 1.41.59.51 0 1.02-.2 1.41-.59l7.78-7.78 2.81-2.81c.8-.78.8-2.07 0-2.86zM5.41 20L4 18.59l7.72-7.72 1.47 1.35L5.41 20z\"/>\n",
              "  </svg>\n",
              "      </button>\n",
              "      \n",
              "  <style>\n",
              "    .colab-df-container {\n",
              "      display:flex;\n",
              "      flex-wrap:wrap;\n",
              "      gap: 12px;\n",
              "    }\n",
              "\n",
              "    .colab-df-convert {\n",
              "      background-color: #E8F0FE;\n",
              "      border: none;\n",
              "      border-radius: 50%;\n",
              "      cursor: pointer;\n",
              "      display: none;\n",
              "      fill: #1967D2;\n",
              "      height: 32px;\n",
              "      padding: 0 0 0 0;\n",
              "      width: 32px;\n",
              "    }\n",
              "\n",
              "    .colab-df-convert:hover {\n",
              "      background-color: #E2EBFA;\n",
              "      box-shadow: 0px 1px 2px rgba(60, 64, 67, 0.3), 0px 1px 3px 1px rgba(60, 64, 67, 0.15);\n",
              "      fill: #174EA6;\n",
              "    }\n",
              "\n",
              "    [theme=dark] .colab-df-convert {\n",
              "      background-color: #3B4455;\n",
              "      fill: #D2E3FC;\n",
              "    }\n",
              "\n",
              "    [theme=dark] .colab-df-convert:hover {\n",
              "      background-color: #434B5C;\n",
              "      box-shadow: 0px 1px 3px 1px rgba(0, 0, 0, 0.15);\n",
              "      filter: drop-shadow(0px 1px 2px rgba(0, 0, 0, 0.3));\n",
              "      fill: #FFFFFF;\n",
              "    }\n",
              "  </style>\n",
              "\n",
              "      <script>\n",
              "        const buttonEl =\n",
              "          document.querySelector('#df-44ba58dd-fe87-4a4a-9845-6e6db8ac5ad5 button.colab-df-convert');\n",
              "        buttonEl.style.display =\n",
              "          google.colab.kernel.accessAllowed ? 'block' : 'none';\n",
              "\n",
              "        async function convertToInteractive(key) {\n",
              "          const element = document.querySelector('#df-44ba58dd-fe87-4a4a-9845-6e6db8ac5ad5');\n",
              "          const dataTable =\n",
              "            await google.colab.kernel.invokeFunction('convertToInteractive',\n",
              "                                                     [key], {});\n",
              "          if (!dataTable) return;\n",
              "\n",
              "          const docLinkHtml = 'Like what you see? Visit the ' +\n",
              "            '<a target=\"_blank\" href=https://colab.research.google.com/notebooks/data_table.ipynb>data table notebook</a>'\n",
              "            + ' to learn more about interactive tables.';\n",
              "          element.innerHTML = '';\n",
              "          dataTable['output_type'] = 'display_data';\n",
              "          await google.colab.output.renderOutput(dataTable, element);\n",
              "          const docLink = document.createElement('div');\n",
              "          docLink.innerHTML = docLinkHtml;\n",
              "          element.appendChild(docLink);\n",
              "        }\n",
              "      </script>\n",
              "    </div>\n",
              "  </div>\n",
              "  "
            ]
          },
          "metadata": {},
          "execution_count": 59
        }
      ]
    },
    {
      "cell_type": "markdown",
      "source": [
        "We know that time and amount feature requires normalization from the previous analysis"
      ],
      "metadata": {
        "id": "-fM1hHwiDWSR"
      }
    },
    {
      "cell_type": "code",
      "source": [
        "from sklearn.preprocessing import StandardScaler\n",
        "\n",
        "df = StandardScaler().fit_transform(df)"
      ],
      "metadata": {
        "id": "xqiiJPFRDYvF"
      },
      "execution_count": 60,
      "outputs": []
    },
    {
      "cell_type": "markdown",
      "source": [
        "## Splitting dataset"
      ],
      "metadata": {
        "id": "fNoPgBQCFS-W"
      }
    },
    {
      "cell_type": "code",
      "source": [
        "from sklearn.model_selection import train_test_split\n",
        "\n",
        "X_train, X_test, y_train, y_test = train_test_split(df, y, test_size=0.2, stratify = y)\n",
        "# X_train, X_test, y_train, y_test = train_test_split(df, y, test_size=0.2)"
      ],
      "metadata": {
        "id": "kdLPscVHFSm1"
      },
      "execution_count": 61,
      "outputs": []
    },
    {
      "cell_type": "markdown",
      "source": [
        "### Checking distribution after split"
      ],
      "metadata": {
        "id": "N-YbVofFKga3"
      }
    },
    {
      "cell_type": "code",
      "source": [
        "unique, counts = np.unique(y_train, return_counts=True)\n",
        "\n",
        "result = np.column_stack((unique, counts)) \n",
        "print(result)"
      ],
      "metadata": {
        "colab": {
          "base_uri": "https://localhost:8080/"
        },
        "id": "IVCjTNjQKVgi",
        "outputId": "e5a1de53-8291-4ca7-fc0a-0d9024719346"
      },
      "execution_count": 62,
      "outputs": [
        {
          "output_type": "stream",
          "name": "stdout",
          "text": [
            "[[  0 393]\n",
            " [  1 394]]\n"
          ]
        }
      ]
    },
    {
      "cell_type": "code",
      "source": [
        "unique, counts = np.unique(y_test, return_counts=True)\n",
        "\n",
        "result = np.column_stack((unique, counts)) \n",
        "print (result)"
      ],
      "metadata": {
        "colab": {
          "base_uri": "https://localhost:8080/"
        },
        "id": "zPWJKY35KY8N",
        "outputId": "4d5b1d8c-b439-4e22-99e6-26fabdc017b8"
      },
      "execution_count": 63,
      "outputs": [
        {
          "output_type": "stream",
          "name": "stdout",
          "text": [
            "[[ 0 99]\n",
            " [ 1 98]]\n"
          ]
        }
      ]
    },
    {
      "cell_type": "markdown",
      "source": [
        "# Implementing algorithms"
      ],
      "metadata": {
        "id": "7S5MfIkpGsC5"
      }
    },
    {
      "cell_type": "code",
      "source": [
        "# Libraries for metrics for all algorithms\n",
        "from sklearn.metrics import confusion_matrix, precision_recall_curve, classification_report, precision_score, recall_score, accuracy_score, ConfusionMatrixDisplay\n",
        "\n",
        "# Library for hyperparameter tuning\n",
        "from sklearn.model_selection import GridSearchCV"
      ],
      "metadata": {
        "id": "i4mO41pWHJLR"
      },
      "execution_count": 64,
      "outputs": []
    },
    {
      "cell_type": "markdown",
      "source": [
        "## Implementing Logistic Regression"
      ],
      "metadata": {
        "id": "eAx0NVh0GuZH"
      }
    },
    {
      "cell_type": "code",
      "source": [
        "from sklearn.linear_model import LogisticRegression\n",
        "\n",
        "logReg = LogisticRegression()"
      ],
      "metadata": {
        "id": "HKWubZLrFO5s"
      },
      "execution_count": 65,
      "outputs": []
    },
    {
      "cell_type": "markdown",
      "source": [
        "## Hyper parameter tuning"
      ],
      "metadata": {
        "id": "I-NWqVhOLgnK"
      }
    },
    {
      "cell_type": "code",
      "source": [
        "parameters = {'C':[1, 10], 'solver' : ('newton-cg', 'lbfgs', 'liblinear', 'sag', 'saga')}\n",
        "\n",
        "clf = GridSearchCV(logReg, parameters)\n",
        "clf.fit(X_train, y_train)\n"
      ],
      "metadata": {
        "colab": {
          "base_uri": "https://localhost:8080/"
        },
        "id": "Q2aw05xKLiaN",
        "outputId": "b2db37f8-5686-4414-c818-cbef03be692a"
      },
      "execution_count": 66,
      "outputs": [
        {
          "output_type": "execute_result",
          "data": {
            "text/plain": [
              "GridSearchCV(estimator=LogisticRegression(),\n",
              "             param_grid={'C': [1, 10],\n",
              "                         'solver': ('newton-cg', 'lbfgs', 'liblinear', 'sag',\n",
              "                                    'saga')})"
            ]
          },
          "metadata": {},
          "execution_count": 66
        }
      ]
    },
    {
      "cell_type": "code",
      "source": [
        "clf.best_estimator_"
      ],
      "metadata": {
        "colab": {
          "base_uri": "https://localhost:8080/"
        },
        "id": "dOQ1n9qcOgT7",
        "outputId": "a4a5175a-94f1-4c78-ae96-4ee731520865"
      },
      "execution_count": 67,
      "outputs": [
        {
          "output_type": "execute_result",
          "data": {
            "text/plain": [
              "LogisticRegression(C=10, solver='newton-cg')"
            ]
          },
          "metadata": {},
          "execution_count": 67
        }
      ]
    },
    {
      "cell_type": "code",
      "source": [
        "# Predicting with the best parameters\n",
        "y_pred = clf.predict(X_test)"
      ],
      "metadata": {
        "id": "d4uL_qGjQfju"
      },
      "execution_count": 68,
      "outputs": []
    },
    {
      "cell_type": "markdown",
      "source": [
        "### Metrics for Logistic Regression"
      ],
      "metadata": {
        "id": "pVMs5eHiHWBG"
      }
    },
    {
      "cell_type": "code",
      "source": [
        "print(classification_report(y_test, y_pred))\n",
        "\n",
        "conf_mat = confusion_matrix(y_test, y_pred)\n",
        "cm_display = ConfusionMatrixDisplay(conf_mat, display_labels=['Non-fraud', 'Fraud']).plot()\n",
        "plt.show()"
      ],
      "metadata": {
        "colab": {
          "base_uri": "https://localhost:8080/",
          "height": 462
        },
        "id": "a75gNFKNHNsC",
        "outputId": "6ecde5bc-4561-406e-c226-93a001b288b1"
      },
      "execution_count": 69,
      "outputs": [
        {
          "output_type": "stream",
          "name": "stdout",
          "text": [
            "              precision    recall  f1-score   support\n",
            "\n",
            "           0       0.87      0.96      0.91        99\n",
            "           1       0.95      0.86      0.90        98\n",
            "\n",
            "    accuracy                           0.91       197\n",
            "   macro avg       0.91      0.91      0.91       197\n",
            "weighted avg       0.91      0.91      0.91       197\n",
            "\n"
          ]
        },
        {
          "output_type": "display_data",
          "data": {
            "text/plain": [
              "<Figure size 432x288 with 2 Axes>"
            ],
            "image/png": "[encoded data removed]"
          },
          "metadata": {}
        }
      ]
    },
    {
      "cell_type": "markdown",
      "source": [
        "## Implementing Support Vector Machine\n",
        "\n",
        "---\n",
        "\n"
      ],
      "metadata": {
        "id": "9AOuqbOtQ0p1"
      }
    },
    {
      "cell_type": "code",
      "source": [
        "from sklearn.svm import SVC\n",
        "\n",
        "svm = SVC()"
      ],
      "metadata": {
        "id": "tBI26w4zHR1i"
      },
      "execution_count": 70,
      "outputs": []
    },
    {
      "cell_type": "markdown",
      "source": [
        "### Hyperparameter Tuning"
      ],
      "metadata": {
        "id": "wJPBSpVgRDrY"
      }
    },
    {
      "cell_type": "code",
      "source": [
        "parameters = {'kernel':('linear', 'rbf'), 'C':[1, 5]}\n",
        "\n",
        "clf = GridSearchCV(svm, parameters)\n",
        "clf.fit(X_train, y_train)"
      ],
      "metadata": {
        "colab": {
          "base_uri": "https://localhost:8080/"
        },
        "id": "JYevrNjkRE_B",
        "outputId": "1fe8b674-2cfe-465d-f169-694e4e685df3"
      },
      "execution_count": 71,
      "outputs": [
        {
          "output_type": "execute_result",
          "data": {
            "text/plain": [
              "GridSearchCV(estimator=SVC(),\n",
              "             param_grid={'C': [1, 5], 'kernel': ('linear', 'rbf')})"
            ]
          },
          "metadata": {},
          "execution_count": 71
        }
      ]
    },
    {
      "cell_type": "code",
      "source": [
        "# Predicting with the best parameters\n",
        "y_pred = clf.predict(X_test)"
      ],
      "metadata": {
        "id": "u2vM144-Rjve"
      },
      "execution_count": 72,
      "outputs": []
    },
    {
      "cell_type": "markdown",
      "source": [
        "## Metrics for Support Vector Machine"
      ],
      "metadata": {
        "id": "gKXD5RA6Rk27"
      }
    },
    {
      "cell_type": "code",
      "source": [
        "print(classification_report(y_test, y_pred))\n",
        "\n",
        "conf_mat = confusion_matrix(y_test, y_pred)\n",
        "cm_display = ConfusionMatrixDisplay(conf_mat, display_labels=['Non-fraud', 'Fraud']).plot()\n",
        "plt.show()"
      ],
      "metadata": {
        "colab": {
          "base_uri": "https://localhost:8080/",
          "height": 462
        },
        "id": "m3Ndv_gPRm-g",
        "outputId": "87ea4458-fe09-4ead-b254-dc5a41e33bb7"
      },
      "execution_count": 73,
      "outputs": [
        {
          "output_type": "stream",
          "name": "stdout",
          "text": [
            "              precision    recall  f1-score   support\n",
            "\n",
            "           0       0.87      0.96      0.91        99\n",
            "           1       0.95      0.86      0.90        98\n",
            "\n",
            "    accuracy                           0.91       197\n",
            "   macro avg       0.91      0.91      0.91       197\n",
            "weighted avg       0.91      0.91      0.91       197\n",
            "\n"
          ]
        },
        {
          "output_type": "display_data",
          "data": {
            "text/plain": [
              "<Figure size 432x288 with 2 Axes>"
            ],
            "image/png": "[encoded data removed]"
          },
          "metadata": {}
        }
      ]
    },
    {
      "cell_type": "markdown",
      "source": [
        "## Implementing Naive Bayes"
      ],
      "metadata": {
        "id": "pzxHFsmLLPLM"
      }
    },
    {
      "cell_type": "code",
      "source": [
        "from sklearn.naive_bayes import GaussianNB\n",
        "\n",
        "gnb = GaussianNB()"
      ],
      "metadata": {
        "id": "4c78ya--VH3v"
      },
      "execution_count": 74,
      "outputs": []
    },
    {
      "cell_type": "markdown",
      "source": [
        "### Training the model"
      ],
      "metadata": {
        "id": "AzG2ZsZHLXLa"
      }
    },
    {
      "cell_type": "code",
      "source": [
        "gnb.fit(X_train, y_train)\n",
        "y_pred = gnb.predict(X_test)"
      ],
      "metadata": {
        "id": "BprVN8MpL4kM"
      },
      "execution_count": 75,
      "outputs": []
    },
    {
      "cell_type": "markdown",
      "source": [
        "## Metrics for Naive Bayes"
      ],
      "metadata": {
        "id": "BvbO2ArEL_fV"
      }
    },
    {
      "cell_type": "code",
      "source": [
        "print(classification_report(y_test, y_pred))\n",
        "\n",
        "conf_mat = confusion_matrix(y_test, y_pred)\n",
        "cm_display = ConfusionMatrixDisplay(conf_mat, display_labels=['Non-fraud', 'Fraud']).plot()\n",
        "plt.show()"
      ],
      "metadata": {
        "id": "-iVuUWWdL9F7",
        "outputId": "2e74d344-41d7-4986-c943-a80ab5450606",
        "colab": {
          "base_uri": "https://localhost:8080/",
          "height": 462
        }
      },
      "execution_count": 76,
      "outputs": [
        {
          "output_type": "stream",
          "name": "stdout",
          "text": [
            "              precision    recall  f1-score   support\n",
            "\n",
            "           0       0.81      0.97      0.88        99\n",
            "           1       0.96      0.77      0.85        98\n",
            "\n",
            "    accuracy                           0.87       197\n",
            "   macro avg       0.88      0.87      0.87       197\n",
            "weighted avg       0.88      0.87      0.87       197\n",
            "\n"
          ]
        },
        {
          "output_type": "display_data",
          "data": {
            "text/plain": [
              "<Figure size 432x288 with 2 Axes>"
            ],
            "image/png": "[encoded data removed]"
          },
          "metadata": {}
        }
      ]
    },
    {
      "cell_type": "markdown",
      "source": [
        "## Implementing Random Forest\n",
        "\n"
      ],
      "metadata": {
        "id": "rEJRBP2xMaiz"
      }
    },
    {
      "cell_type": "code",
      "source": [
        "from sklearn.ensemble import RandomForestClassifier\n",
        "\n",
        "rdc = RandomForestClassifier(n_jobs=-1, max_depth = 20, verbose = 5)"
      ],
      "metadata": {
        "id": "VU_WlLtYMC9j"
      },
      "execution_count": 77,
      "outputs": []
    },
    {
      "cell_type": "markdown",
      "source": [
        "## Hyperparameter Tuning"
      ],
      "metadata": {
        "id": "7JJ5rV3LNp1I"
      }
    },
    {
      "cell_type": "code",
      "source": [
        "parameters = {'n_estimators':[100, 150]}\n",
        "\n",
        "clf = GridSearchCV(rdc, parameters)\n",
        "clf.fit(X_train, y_train)"
      ],
      "metadata": {
        "id": "AkdHzjNKNrK3",
        "outputId": "7682ece5-fe3f-4ca5-f798-c02b5bbe1719",
        "colab": {
          "base_uri": "https://localhost:8080/"
        }
      },
      "execution_count": 78,
      "outputs": [
        {
          "output_type": "stream",
          "name": "stderr",
          "text": [
            "[Parallel(n_jobs=-1)]: Using backend LokyBackend with 2 concurrent workers.\n",
            "[Parallel(n_jobs=-1)]: Done  14 tasks      | elapsed:    1.1s\n",
            "[Parallel(n_jobs=-1)]: Done 100 out of 100 | elapsed:    1.4s finished\n",
            "[Parallel(n_jobs=2)]: Using backend ThreadingBackend with 2 concurrent workers.\n",
            "[Parallel(n_jobs=2)]: Done  14 tasks      | elapsed:    0.0s\n",
            "[Parallel(n_jobs=2)]: Done  68 tasks      | elapsed:    0.0s\n",
            "[Parallel(n_jobs=2)]: Done 100 out of 100 | elapsed:    0.0s finished\n",
            "[Parallel(n_jobs=-1)]: Using backend LokyBackend with 2 concurrent workers.\n",
            "[Parallel(n_jobs=-1)]: Done  44 tasks      | elapsed:    0.1s\n",
            "[Parallel(n_jobs=-1)]: Done 100 out of 100 | elapsed:    0.3s finished\n",
            "[Parallel(n_jobs=2)]: Using backend ThreadingBackend with 2 concurrent workers.\n",
            "[Parallel(n_jobs=2)]: Done  14 tasks      | elapsed:    0.0s\n",
            "[Parallel(n_jobs=2)]: Done  68 tasks      | elapsed:    0.0s\n",
            "[Parallel(n_jobs=2)]: Done 100 out of 100 | elapsed:    0.0s finished\n",
            "[Parallel(n_jobs=-1)]: Using backend LokyBackend with 2 concurrent workers.\n",
            "[Parallel(n_jobs=-1)]: Done  44 tasks      | elapsed:    0.1s\n",
            "[Parallel(n_jobs=-1)]: Done 100 out of 100 | elapsed:    0.3s finished\n",
            "[Parallel(n_jobs=2)]: Using backend ThreadingBackend with 2 concurrent workers.\n",
            "[Parallel(n_jobs=2)]: Done  14 tasks      | elapsed:    0.0s\n",
            "[Parallel(n_jobs=2)]: Done  68 tasks      | elapsed:    0.0s\n",
            "[Parallel(n_jobs=2)]: Done 100 out of 100 | elapsed:    0.0s finished\n",
            "[Parallel(n_jobs=-1)]: Using backend LokyBackend with 2 concurrent workers.\n",
            "[Parallel(n_jobs=-1)]: Done  44 tasks      | elapsed:    0.1s\n",
            "[Parallel(n_jobs=-1)]: Done 100 out of 100 | elapsed:    0.3s finished\n",
            "[Parallel(n_jobs=2)]: Using backend ThreadingBackend with 2 concurrent workers.\n",
            "[Parallel(n_jobs=2)]: Done  14 tasks      | elapsed:    0.0s\n",
            "[Parallel(n_jobs=2)]: Done  68 tasks      | elapsed:    0.0s\n",
            "[Parallel(n_jobs=2)]: Done 100 out of 100 | elapsed:    0.0s finished\n",
            "[Parallel(n_jobs=-1)]: Using backend LokyBackend with 2 concurrent workers.\n",
            "[Parallel(n_jobs=-1)]: Done  44 tasks      | elapsed:    0.1s\n",
            "[Parallel(n_jobs=-1)]: Done 100 out of 100 | elapsed:    0.3s finished\n",
            "[Parallel(n_jobs=2)]: Using backend ThreadingBackend with 2 concurrent workers.\n",
            "[Parallel(n_jobs=2)]: Done  14 tasks      | elapsed:    0.0s\n",
            "[Parallel(n_jobs=2)]: Done  68 tasks      | elapsed:    0.0s\n",
            "[Parallel(n_jobs=2)]: Done 100 out of 100 | elapsed:    0.0s finished\n",
            "[Parallel(n_jobs=-1)]: Using backend LokyBackend with 2 concurrent workers.\n",
            "[Parallel(n_jobs=-1)]: Done  32 tasks      | elapsed:    0.1s\n",
            "[Parallel(n_jobs=-1)]: Done 150 out of 150 | elapsed:    0.4s finished\n",
            "[Parallel(n_jobs=2)]: Using backend ThreadingBackend with 2 concurrent workers.\n",
            "[Parallel(n_jobs=2)]: Done  14 tasks      | elapsed:    0.0s\n",
            "[Parallel(n_jobs=2)]: Done  68 tasks      | elapsed:    0.0s\n",
            "[Parallel(n_jobs=2)]: Done 150 out of 150 | elapsed:    0.0s finished\n",
            "[Parallel(n_jobs=-1)]: Using backend LokyBackend with 2 concurrent workers.\n",
            "[Parallel(n_jobs=-1)]: Done  44 tasks      | elapsed:    0.2s\n",
            "[Parallel(n_jobs=-1)]: Done 150 out of 150 | elapsed:    0.5s finished\n",
            "[Parallel(n_jobs=2)]: Using backend ThreadingBackend with 2 concurrent workers.\n",
            "[Parallel(n_jobs=2)]: Done  14 tasks      | elapsed:    0.0s\n",
            "[Parallel(n_jobs=2)]: Done  68 tasks      | elapsed:    0.0s\n",
            "[Parallel(n_jobs=2)]: Done 150 out of 150 | elapsed:    0.0s finished\n",
            "[Parallel(n_jobs=-1)]: Using backend LokyBackend with 2 concurrent workers.\n",
            "[Parallel(n_jobs=-1)]: Done  44 tasks      | elapsed:    0.1s\n",
            "[Parallel(n_jobs=-1)]: Done 150 out of 150 | elapsed:    0.4s finished\n",
            "[Parallel(n_jobs=2)]: Using backend ThreadingBackend with 2 concurrent workers.\n",
            "[Parallel(n_jobs=2)]: Done  14 tasks      | elapsed:    0.0s\n",
            "[Parallel(n_jobs=2)]: Done  68 tasks      | elapsed:    0.0s\n",
            "[Parallel(n_jobs=2)]: Done 150 out of 150 | elapsed:    0.1s finished\n",
            "[Parallel(n_jobs=-1)]: Using backend LokyBackend with 2 concurrent workers.\n",
            "[Parallel(n_jobs=-1)]: Done  44 tasks      | elapsed:    0.1s\n",
            "[Parallel(n_jobs=-1)]: Done 150 out of 150 | elapsed:    0.4s finished\n",
            "[Parallel(n_jobs=2)]: Using backend ThreadingBackend with 2 concurrent workers.\n",
            "[Parallel(n_jobs=2)]: Done  14 tasks      | elapsed:    0.0s\n",
            "[Parallel(n_jobs=2)]: Done  68 tasks      | elapsed:    0.0s\n",
            "[Parallel(n_jobs=2)]: Done 150 out of 150 | elapsed:    0.0s finished\n",
            "[Parallel(n_jobs=-1)]: Using backend LokyBackend with 2 concurrent workers.\n",
            "[Parallel(n_jobs=-1)]: Done  44 tasks      | elapsed:    0.1s\n",
            "[Parallel(n_jobs=-1)]: Done 150 out of 150 | elapsed:    0.4s finished\n",
            "[Parallel(n_jobs=2)]: Using backend ThreadingBackend with 2 concurrent workers.\n",
            "[Parallel(n_jobs=2)]: Done  14 tasks      | elapsed:    0.0s\n",
            "[Parallel(n_jobs=2)]: Done  68 tasks      | elapsed:    0.0s\n",
            "[Parallel(n_jobs=2)]: Done 150 out of 150 | elapsed:    0.0s finished\n",
            "[Parallel(n_jobs=-1)]: Using backend ThreadingBackend with 2 concurrent workers.\n"
          ]
        },
        {
          "output_type": "stream",
          "name": "stdout",
          "text": [
            "building tree 1 of 150\n",
            "building tree 2 of 150\n",
            "building tree 3 of 150\n",
            "building tree 4 of 150\n",
            "building tree 5 of 150\n",
            "building tree 6 of 150\n",
            "building tree 7 of 150\n",
            "building tree 8 of 150\n",
            "building tree 9 of 150\n",
            "building tree 10 of 150\n",
            "building tree 11 of 150\n",
            "building tree 12 of 150\n",
            "building tree 13 of 150\n",
            "building tree 14 of 150\n",
            "building tree 15 of 150\n",
            "building tree 16 of 150\n",
            "building tree 17 of 150\n",
            "building tree 18 of 150\n",
            "building tree 19 of 150\n",
            "building tree 20 of 150\n",
            "building tree 21 of 150\n",
            "building tree 22 of 150\n",
            "building tree 23 of 150\n",
            "building tree 24 of 150\n",
            "building tree 25 of 150\n",
            "building tree 26 of 150\n",
            "building tree 27 of 150\n",
            "building tree 28 of 150\n",
            "building tree 29 of 150\n",
            "building tree 30 of 150building tree 31 of 150\n",
            "\n",
            "building tree 32 of 150building tree 33 of 150\n",
            "\n",
            "building tree 34 of 150\n",
            "building tree 35 of 150\n",
            "building tree 36 of 150\n",
            "building tree 37 of 150\n",
            "building tree 38 of 150building tree 39 of 150\n",
            "\n",
            "building tree 40 of 150\n",
            "building tree 41 of 150\n",
            "building tree 42 of 150\n",
            "building tree 43 of 150\n",
            "building tree 44 of 150\n",
            "building tree 45 of 150\n",
            "building tree 46 of 150\n",
            "building tree 47 of 150\n",
            "building tree 48 of 150\n",
            "building tree 49 of 150\n",
            "building tree 50 of 150\n",
            "building tree 51 of 150\n",
            "building tree 52 of 150\n",
            "building tree 53 of 150\n",
            "building tree 54 of 150\n",
            "building tree 55 of 150\n",
            "building tree 56 of 150\n",
            "building tree 57 of 150building tree 58 of 150\n",
            "\n",
            "building tree 59 of 150\n",
            "building tree 60 of 150\n",
            "building tree 61 of 150\n",
            "building tree 62 of 150\n",
            "building tree 63 of 150\n",
            "building tree 64 of 150\n",
            "building tree 65 of 150\n"
          ]
        },
        {
          "output_type": "stream",
          "name": "stderr",
          "text": [
            "[Parallel(n_jobs=-1)]: Done  14 tasks      | elapsed:    0.1s\n",
            "[Parallel(n_jobs=-1)]: Done  68 tasks      | elapsed:    0.2s\n"
          ]
        },
        {
          "output_type": "stream",
          "name": "stdout",
          "text": [
            "building tree 66 of 150\n",
            "building tree 67 of 150\n",
            "building tree 68 of 150building tree 69 of 150\n",
            "\n",
            "building tree 70 of 150\n",
            "building tree 71 of 150building tree 72 of 150\n",
            "building tree 73 of 150\n",
            "\n",
            "building tree 74 of 150\n",
            "building tree 75 of 150\n",
            "building tree 76 of 150\n",
            "building tree 77 of 150\n",
            "building tree 78 of 150\n",
            "building tree 79 of 150\n",
            "building tree 80 of 150\n",
            "building tree 81 of 150\n",
            "building tree 82 of 150\n",
            "building tree 83 of 150\n",
            "building tree 84 of 150\n",
            "building tree 85 of 150\n",
            "building tree 86 of 150\n",
            "building tree 87 of 150\n",
            "building tree 88 of 150\n",
            "building tree 89 of 150\n",
            "building tree 90 of 150\n",
            "building tree 91 of 150\n",
            "building tree 92 of 150\n",
            "building tree 93 of 150\n",
            "building tree 94 of 150\n",
            "building tree 95 of 150\n",
            "building tree 96 of 150\n",
            "building tree 97 of 150\n",
            "building tree 98 of 150\n",
            "building tree 99 of 150\n",
            "building tree 100 of 150\n",
            "building tree 101 of 150\n",
            "building tree 102 of 150\n",
            "building tree 103 of 150\n",
            "building tree 104 of 150\n",
            "building tree 105 of 150\n",
            "building tree 106 of 150\n",
            "building tree 107 of 150\n",
            "building tree 108 of 150\n",
            "building tree 109 of 150\n",
            "building tree 110 of 150\n",
            "building tree 111 of 150\n",
            "building tree 112 of 150\n",
            "building tree 113 of 150\n",
            "building tree 114 of 150\n",
            "building tree 115 of 150\n",
            "building tree 116 of 150\n",
            "building tree 117 of 150\n",
            "building tree 118 of 150\n",
            "building tree 119 of 150building tree 120 of 150\n",
            "\n",
            "building tree 121 of 150\n",
            "building tree 122 of 150\n",
            "building tree 123 of 150building tree 124 of 150\n",
            "\n",
            "building tree 125 of 150\n",
            "building tree 126 of 150\n",
            "building tree 127 of 150\n",
            "building tree 128 of 150\n",
            "building tree 129 of 150\n",
            "building tree 130 of 150\n",
            "building tree 131 of 150\n",
            "building tree 132 of 150\n",
            "building tree 133 of 150\n",
            "building tree 134 of 150\n",
            "building tree 135 of 150\n",
            "building tree 136 of 150\n",
            "building tree 137 of 150\n",
            "building tree 138 of 150\n",
            "building tree 139 of 150\n",
            "building tree 140 of 150\n",
            "building tree 141 of 150\n",
            "building tree 142 of 150\n",
            "building tree 143 of 150\n",
            "building tree 144 of 150\n",
            "building tree 145 of 150\n",
            "building tree 146 of 150\n",
            "building tree 147 of 150\n",
            "building tree 148 of 150\n",
            "building tree 149 of 150\n",
            "building tree 150 of 150\n"
          ]
        },
        {
          "output_type": "stream",
          "name": "stderr",
          "text": [
            "[Parallel(n_jobs=-1)]: Done 150 out of 150 | elapsed:    0.5s finished\n"
          ]
        },
        {
          "output_type": "execute_result",
          "data": {
            "text/plain": [
              "GridSearchCV(estimator=RandomForestClassifier(max_depth=20, n_jobs=-1,\n",
              "                                              verbose=5),\n",
              "             param_grid={'n_estimators': [100, 150]})"
            ]
          },
          "metadata": {},
          "execution_count": 78
        }
      ]
    },
    {
      "cell_type": "markdown",
      "source": [
        "## Metrics for Random Forest"
      ],
      "metadata": {
        "id": "tTpQdYVVOTAF"
      }
    },
    {
      "cell_type": "code",
      "source": [
        "clf.best_params_"
      ],
      "metadata": {
        "id": "_rBWWcpGfHem",
        "outputId": "841263c9-3612-4b8b-fc0c-30c8286068b7",
        "colab": {
          "base_uri": "https://localhost:8080/"
        }
      },
      "execution_count": 79,
      "outputs": [
        {
          "output_type": "execute_result",
          "data": {
            "text/plain": [
              "{'n_estimators': 150}"
            ]
          },
          "metadata": {},
          "execution_count": 79
        }
      ]
    },
    {
      "cell_type": "code",
      "source": [
        "print(classification_report(y_test, y_pred))\n",
        "\n",
        "conf_mat = confusion_matrix(y_test, y_pred)\n",
        "cm_display = ConfusionMatrixDisplay(conf_mat, display_labels=['Non-fraud', 'Fraud']).plot()\n",
        "plt.show()"
      ],
      "metadata": {
        "id": "oBqgWH1-OFHO",
        "outputId": "feea7009-970b-4a9e-8b9e-e8f5b9231afd",
        "colab": {
          "base_uri": "https://localhost:8080/",
          "height": 462
        }
      },
      "execution_count": 80,
      "outputs": [
        {
          "output_type": "stream",
          "name": "stdout",
          "text": [
            "              precision    recall  f1-score   support\n",
            "\n",
            "           0       0.81      0.97      0.88        99\n",
            "           1       0.96      0.77      0.85        98\n",
            "\n",
            "    accuracy                           0.87       197\n",
            "   macro avg       0.88      0.87      0.87       197\n",
            "weighted avg       0.88      0.87      0.87       197\n",
            "\n"
          ]
        },
        {
          "output_type": "display_data",
          "data": {
            "text/plain": [
              "<Figure size 432x288 with 2 Axes>"
            ],
            "image/png": "[encoded data removed]"
          },
          "metadata": {}
        }
      ]
    },
    {
      "cell_type": "markdown",
      "source": [
        "## Implementing Artificial Neural Network"
      ],
      "metadata": {
        "id": "aKS1NpN_QYt9"
      }
    },
    {
      "cell_type": "code",
      "source": [
        "from sklearn.neural_network import MLPClassifier\n",
        "\n",
        "clf = MLPClassifier(max_iter = 300)"
      ],
      "metadata": {
        "id": "AWE5cBTZQZFO"
      },
      "execution_count": 81,
      "outputs": []
    },
    {
      "cell_type": "code",
      "source": [
        "parameters = {\n",
        "    'hidden_layer_sizes': [(50,50,50), (50,100,50), (100,)],\n",
        "    'activation': ['tanh', 'relu'],\n",
        "    'solver': ['sgd', 'adam'],\n",
        "    'alpha': [0.0001, 0.05],\n",
        "    'learning_rate': ['constant','adaptive'],\n",
        "}\n",
        "\n",
        "clf = GridSearchCV(clf, parameters)\n",
        "clf.fit(X_train, y_train)"
      ],
      "metadata": {
        "id": "Zr82AXtdsyWj",
        "outputId": "4c1294f4-5e01-4ca8-c301-e842c36136d8",
        "colab": {
          "base_uri": "https://localhost:8080/"
        }
      },
      "execution_count": 82,
      "outputs": [
        {
          "output_type": "execute_result",
          "data": {
            "text/plain": [
              "GridSearchCV(estimator=MLPClassifier(max_iter=300),\n",
              "             param_grid={'activation': ['tanh', 'relu'],\n",
              "                         'alpha': [0.0001, 0.05],\n",
              "                         'hidden_layer_sizes': [(50, 50, 50), (50, 100, 50),\n",
              "                                                (100,)],\n",
              "                         'learning_rate': ['constant', 'adaptive'],\n",
              "                         'solver': ['sgd', 'adam']})"
            ]
          },
          "metadata": {},
          "execution_count": 82
        }
      ]
    },
    {
      "cell_type": "code",
      "source": [
        "clf.best_params_"
      ],
      "metadata": {
        "id": "5y5yIZ4os3x0",
        "outputId": "3aa9c348-54a6-4885-e7c2-dadd9cff96f1",
        "colab": {
          "base_uri": "https://localhost:8080/"
        }
      },
      "execution_count": 83,
      "outputs": [
        {
          "output_type": "execute_result",
          "data": {
            "text/plain": [
              "{'activation': 'tanh',\n",
              " 'alpha': 0.0001,\n",
              " 'hidden_layer_sizes': (100,),\n",
              " 'learning_rate': 'adaptive',\n",
              " 'solver': 'adam'}"
            ]
          },
          "metadata": {},
          "execution_count": 83
        }
      ]
    },
    {
      "cell_type": "markdown",
      "source": [
        "## Metrics for Artificial Neural Network"
      ],
      "metadata": {
        "id": "x_Okl6k4s5Nh"
      }
    },
    {
      "cell_type": "code",
      "source": [
        "print(classification_report(y_test, y_pred))\n",
        "\n",
        "conf_mat = confusion_matrix(y_test, y_pred)\n",
        "cm_display = ConfusionMatrixDisplay(conf_mat, display_labels=['Non-fraud', 'Fraud']).plot()\n",
        "plt.show()"
      ],
      "metadata": {
        "id": "CAmpkJpxs8o9",
        "outputId": "07710c26-75ad-476c-96d5-edaa9fb29223",
        "colab": {
          "base_uri": "https://localhost:8080/",
          "height": 462
        }
      },
      "execution_count": 84,
      "outputs": [
        {
          "output_type": "stream",
          "name": "stdout",
          "text": [
            "              precision    recall  f1-score   support\n",
            "\n",
            "           0       0.81      0.97      0.88        99\n",
            "           1       0.96      0.77      0.85        98\n",
            "\n",
            "    accuracy                           0.87       197\n",
            "   macro avg       0.88      0.87      0.87       197\n",
            "weighted avg       0.88      0.87      0.87       197\n",
            "\n"
          ]
        },
        {
          "output_type": "display_data",
          "data": {
            "text/plain": [
              "<Figure size 432x288 with 2 Axes>"
            ],
            "image/png": "[encoded data removed]"
          },
          "metadata": {}
        }
      ]
    }
  ]
}